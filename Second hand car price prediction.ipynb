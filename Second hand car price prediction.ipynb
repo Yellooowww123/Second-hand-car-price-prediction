{
 "cells": [
  {
   "cell_type": "markdown",
   "id": "51703fc002335caf",
   "metadata": {},
   "source": [
    "## 数据导入与清洗"
   ]
  },
  {
   "cell_type": "code",
   "execution_count": 1,
   "id": "initial_id",
   "metadata": {
    "ExecuteTime": {
     "end_time": "2024-04-09T08:06:18.878371Z",
     "start_time": "2024-04-09T08:06:18.873368Z"
    }
   },
   "outputs": [],
   "source": [
    "import pandas as pd\n",
    "import numpy as np\n",
    "import matplotlib.pyplot as plt\n",
    "import warnings  \n",
    "warnings.filterwarnings(\"ignore\")"
   ]
  },
  {
   "cell_type": "code",
   "execution_count": 2,
   "id": "9768acfd0dcff18c",
   "metadata": {
    "ExecuteTime": {
     "end_time": "2024-04-09T08:06:18.912376Z",
     "start_time": "2024-04-09T08:06:18.882871Z"
    }
   },
   "outputs": [],
   "source": [
    "df_train = pd.read_csv('./data/train-data.csv',index_col=0) #index_col=0使用第0列作为index"
   ]
  },
  {
   "cell_type": "code",
   "execution_count": 3,
   "id": "de4da4da988e292e",
   "metadata": {
    "ExecuteTime": {
     "end_time": "2024-04-09T08:06:18.918876Z",
     "start_time": "2024-04-09T08:06:18.914878Z"
    }
   },
   "outputs": [
    {
     "data": {
      "text/html": [
       "<div>\n",
       "<style scoped>\n",
       "    .dataframe tbody tr th:only-of-type {\n",
       "        vertical-align: middle;\n",
       "    }\n",
       "\n",
       "    .dataframe tbody tr th {\n",
       "        vertical-align: top;\n",
       "    }\n",
       "\n",
       "    .dataframe thead th {\n",
       "        text-align: right;\n",
       "    }\n",
       "</style>\n",
       "<table border=\"1\" class=\"dataframe\">\n",
       "  <thead>\n",
       "    <tr style=\"text-align: right;\">\n",
       "      <th></th>\n",
       "      <th>Name</th>\n",
       "      <th>Location</th>\n",
       "      <th>Year</th>\n",
       "      <th>Kilometers_Driven</th>\n",
       "      <th>Fuel_Type</th>\n",
       "      <th>Transmission</th>\n",
       "      <th>Owner_Type</th>\n",
       "      <th>Mileage</th>\n",
       "      <th>Engine</th>\n",
       "      <th>Power</th>\n",
       "      <th>Seats</th>\n",
       "      <th>New_Price</th>\n",
       "      <th>Price</th>\n",
       "    </tr>\n",
       "  </thead>\n",
       "  <tbody>\n",
       "    <tr>\n",
       "      <th>0</th>\n",
       "      <td>Maruti Wagon R LXI CNG</td>\n",
       "      <td>Mumbai</td>\n",
       "      <td>2010</td>\n",
       "      <td>72000</td>\n",
       "      <td>CNG</td>\n",
       "      <td>Manual</td>\n",
       "      <td>First</td>\n",
       "      <td>26.6 km/kg</td>\n",
       "      <td>998 CC</td>\n",
       "      <td>58.16 bhp</td>\n",
       "      <td>5.0</td>\n",
       "      <td>NaN</td>\n",
       "      <td>1.75</td>\n",
       "    </tr>\n",
       "    <tr>\n",
       "      <th>1</th>\n",
       "      <td>Hyundai Creta 1.6 CRDi SX Option</td>\n",
       "      <td>Pune</td>\n",
       "      <td>2015</td>\n",
       "      <td>41000</td>\n",
       "      <td>Diesel</td>\n",
       "      <td>Manual</td>\n",
       "      <td>First</td>\n",
       "      <td>19.67 kmpl</td>\n",
       "      <td>1582 CC</td>\n",
       "      <td>126.2 bhp</td>\n",
       "      <td>5.0</td>\n",
       "      <td>NaN</td>\n",
       "      <td>12.50</td>\n",
       "    </tr>\n",
       "    <tr>\n",
       "      <th>2</th>\n",
       "      <td>Honda Jazz V</td>\n",
       "      <td>Chennai</td>\n",
       "      <td>2011</td>\n",
       "      <td>46000</td>\n",
       "      <td>Petrol</td>\n",
       "      <td>Manual</td>\n",
       "      <td>First</td>\n",
       "      <td>18.2 kmpl</td>\n",
       "      <td>1199 CC</td>\n",
       "      <td>88.7 bhp</td>\n",
       "      <td>5.0</td>\n",
       "      <td>8.61</td>\n",
       "      <td>4.50</td>\n",
       "    </tr>\n",
       "    <tr>\n",
       "      <th>3</th>\n",
       "      <td>Maruti Ertiga VDI</td>\n",
       "      <td>Chennai</td>\n",
       "      <td>2012</td>\n",
       "      <td>87000</td>\n",
       "      <td>Diesel</td>\n",
       "      <td>Manual</td>\n",
       "      <td>First</td>\n",
       "      <td>20.77 kmpl</td>\n",
       "      <td>1248 CC</td>\n",
       "      <td>88.76 bhp</td>\n",
       "      <td>7.0</td>\n",
       "      <td>NaN</td>\n",
       "      <td>6.00</td>\n",
       "    </tr>\n",
       "    <tr>\n",
       "      <th>4</th>\n",
       "      <td>Audi A4 New 2.0 TDI Multitronic</td>\n",
       "      <td>Coimbatore</td>\n",
       "      <td>2013</td>\n",
       "      <td>40670</td>\n",
       "      <td>Diesel</td>\n",
       "      <td>Automatic</td>\n",
       "      <td>Second</td>\n",
       "      <td>15.2 kmpl</td>\n",
       "      <td>1968 CC</td>\n",
       "      <td>140.8 bhp</td>\n",
       "      <td>5.0</td>\n",
       "      <td>NaN</td>\n",
       "      <td>17.74</td>\n",
       "    </tr>\n",
       "  </tbody>\n",
       "</table>\n",
       "</div>"
      ],
      "text/plain": [
       "                               Name    Location  Year  Kilometers_Driven  \\\n",
       "0            Maruti Wagon R LXI CNG      Mumbai  2010              72000   \n",
       "1  Hyundai Creta 1.6 CRDi SX Option        Pune  2015              41000   \n",
       "2                      Honda Jazz V     Chennai  2011              46000   \n",
       "3                 Maruti Ertiga VDI     Chennai  2012              87000   \n",
       "4   Audi A4 New 2.0 TDI Multitronic  Coimbatore  2013              40670   \n",
       "\n",
       "  Fuel_Type Transmission Owner_Type     Mileage   Engine      Power  Seats  \\\n",
       "0       CNG       Manual      First  26.6 km/kg   998 CC  58.16 bhp    5.0   \n",
       "1    Diesel       Manual      First  19.67 kmpl  1582 CC  126.2 bhp    5.0   \n",
       "2    Petrol       Manual      First   18.2 kmpl  1199 CC   88.7 bhp    5.0   \n",
       "3    Diesel       Manual      First  20.77 kmpl  1248 CC  88.76 bhp    7.0   \n",
       "4    Diesel    Automatic     Second   15.2 kmpl  1968 CC  140.8 bhp    5.0   \n",
       "\n",
       "  New_Price  Price  \n",
       "0       NaN   1.75  \n",
       "1       NaN  12.50  \n",
       "2      8.61   4.50  \n",
       "3       NaN   6.00  \n",
       "4       NaN  17.74  "
      ]
     },
     "execution_count": 3,
     "metadata": {},
     "output_type": "execute_result"
    }
   ],
   "source": [
    "df_train.head()"
   ]
  },
  {
   "cell_type": "code",
   "execution_count": 4,
   "id": "9aa7009e4ca280df",
   "metadata": {
    "ExecuteTime": {
     "end_time": "2024-04-09T08:06:18.935382Z",
     "start_time": "2024-04-09T08:06:18.920877Z"
    }
   },
   "outputs": [],
   "source": [
    "df_test = pd.read_csv('./data/test-data.csv',index_col=0)"
   ]
  },
  {
   "cell_type": "code",
   "execution_count": 5,
   "id": "bef97ff659471bd4",
   "metadata": {
    "ExecuteTime": {
     "end_time": "2024-04-09T08:06:18.940879Z",
     "start_time": "2024-04-09T08:06:18.936878Z"
    }
   },
   "outputs": [
    {
     "data": {
      "text/html": [
       "<div>\n",
       "<style scoped>\n",
       "    .dataframe tbody tr th:only-of-type {\n",
       "        vertical-align: middle;\n",
       "    }\n",
       "\n",
       "    .dataframe tbody tr th {\n",
       "        vertical-align: top;\n",
       "    }\n",
       "\n",
       "    .dataframe thead th {\n",
       "        text-align: right;\n",
       "    }\n",
       "</style>\n",
       "<table border=\"1\" class=\"dataframe\">\n",
       "  <thead>\n",
       "    <tr style=\"text-align: right;\">\n",
       "      <th></th>\n",
       "      <th>Name</th>\n",
       "      <th>Location</th>\n",
       "      <th>Year</th>\n",
       "      <th>Kilometers_Driven</th>\n",
       "      <th>Fuel_Type</th>\n",
       "      <th>Transmission</th>\n",
       "      <th>Owner_Type</th>\n",
       "      <th>Mileage</th>\n",
       "      <th>Engine</th>\n",
       "      <th>Power</th>\n",
       "      <th>Seats</th>\n",
       "      <th>New_Price</th>\n",
       "    </tr>\n",
       "  </thead>\n",
       "  <tbody>\n",
       "    <tr>\n",
       "      <th>0</th>\n",
       "      <td>Maruti Alto K10 LXI CNG</td>\n",
       "      <td>Delhi</td>\n",
       "      <td>2014</td>\n",
       "      <td>40929</td>\n",
       "      <td>CNG</td>\n",
       "      <td>Manual</td>\n",
       "      <td>First</td>\n",
       "      <td>32.26 km/kg</td>\n",
       "      <td>998 CC</td>\n",
       "      <td>58.2 bhp</td>\n",
       "      <td>4.0</td>\n",
       "      <td>NaN</td>\n",
       "    </tr>\n",
       "    <tr>\n",
       "      <th>1</th>\n",
       "      <td>Maruti Alto 800 2016-2019 LXI</td>\n",
       "      <td>Coimbatore</td>\n",
       "      <td>2013</td>\n",
       "      <td>54493</td>\n",
       "      <td>Petrol</td>\n",
       "      <td>Manual</td>\n",
       "      <td>Second</td>\n",
       "      <td>24.7 kmpl</td>\n",
       "      <td>796 CC</td>\n",
       "      <td>47.3 bhp</td>\n",
       "      <td>5.0</td>\n",
       "      <td>NaN</td>\n",
       "    </tr>\n",
       "    <tr>\n",
       "      <th>2</th>\n",
       "      <td>Toyota Innova Crysta Touring Sport 2.4 MT</td>\n",
       "      <td>Mumbai</td>\n",
       "      <td>2017</td>\n",
       "      <td>34000</td>\n",
       "      <td>Diesel</td>\n",
       "      <td>Manual</td>\n",
       "      <td>First</td>\n",
       "      <td>13.68 kmpl</td>\n",
       "      <td>2393 CC</td>\n",
       "      <td>147.8 bhp</td>\n",
       "      <td>7.0</td>\n",
       "      <td>25.27</td>\n",
       "    </tr>\n",
       "    <tr>\n",
       "      <th>3</th>\n",
       "      <td>Toyota Etios Liva GD</td>\n",
       "      <td>Hyderabad</td>\n",
       "      <td>2012</td>\n",
       "      <td>139000</td>\n",
       "      <td>Diesel</td>\n",
       "      <td>Manual</td>\n",
       "      <td>First</td>\n",
       "      <td>23.59 kmpl</td>\n",
       "      <td>1364 CC</td>\n",
       "      <td>null bhp</td>\n",
       "      <td>5.0</td>\n",
       "      <td>NaN</td>\n",
       "    </tr>\n",
       "    <tr>\n",
       "      <th>4</th>\n",
       "      <td>Hyundai i20 Magna</td>\n",
       "      <td>Mumbai</td>\n",
       "      <td>2014</td>\n",
       "      <td>29000</td>\n",
       "      <td>Petrol</td>\n",
       "      <td>Manual</td>\n",
       "      <td>First</td>\n",
       "      <td>18.5 kmpl</td>\n",
       "      <td>1197 CC</td>\n",
       "      <td>82.85 bhp</td>\n",
       "      <td>5.0</td>\n",
       "      <td>NaN</td>\n",
       "    </tr>\n",
       "    <tr>\n",
       "      <th>...</th>\n",
       "      <td>...</td>\n",
       "      <td>...</td>\n",
       "      <td>...</td>\n",
       "      <td>...</td>\n",
       "      <td>...</td>\n",
       "      <td>...</td>\n",
       "      <td>...</td>\n",
       "      <td>...</td>\n",
       "      <td>...</td>\n",
       "      <td>...</td>\n",
       "      <td>...</td>\n",
       "      <td>...</td>\n",
       "    </tr>\n",
       "    <tr>\n",
       "      <th>1229</th>\n",
       "      <td>Volkswagen Vento Diesel Trendline</td>\n",
       "      <td>Hyderabad</td>\n",
       "      <td>2011</td>\n",
       "      <td>89411</td>\n",
       "      <td>Diesel</td>\n",
       "      <td>Manual</td>\n",
       "      <td>First</td>\n",
       "      <td>20.54 kmpl</td>\n",
       "      <td>1598 CC</td>\n",
       "      <td>103.6 bhp</td>\n",
       "      <td>5.0</td>\n",
       "      <td>NaN</td>\n",
       "    </tr>\n",
       "    <tr>\n",
       "      <th>1230</th>\n",
       "      <td>Volkswagen Polo GT TSI</td>\n",
       "      <td>Mumbai</td>\n",
       "      <td>2015</td>\n",
       "      <td>59000</td>\n",
       "      <td>Petrol</td>\n",
       "      <td>Automatic</td>\n",
       "      <td>First</td>\n",
       "      <td>17.21 kmpl</td>\n",
       "      <td>1197 CC</td>\n",
       "      <td>103.6 bhp</td>\n",
       "      <td>5.0</td>\n",
       "      <td>NaN</td>\n",
       "    </tr>\n",
       "    <tr>\n",
       "      <th>1231</th>\n",
       "      <td>Nissan Micra Diesel XV</td>\n",
       "      <td>Kolkata</td>\n",
       "      <td>2012</td>\n",
       "      <td>28000</td>\n",
       "      <td>Diesel</td>\n",
       "      <td>Manual</td>\n",
       "      <td>First</td>\n",
       "      <td>23.08 kmpl</td>\n",
       "      <td>1461 CC</td>\n",
       "      <td>63.1 bhp</td>\n",
       "      <td>5.0</td>\n",
       "      <td>NaN</td>\n",
       "    </tr>\n",
       "    <tr>\n",
       "      <th>1232</th>\n",
       "      <td>Volkswagen Polo GT TSI</td>\n",
       "      <td>Pune</td>\n",
       "      <td>2013</td>\n",
       "      <td>52262</td>\n",
       "      <td>Petrol</td>\n",
       "      <td>Automatic</td>\n",
       "      <td>Third</td>\n",
       "      <td>17.2 kmpl</td>\n",
       "      <td>1197 CC</td>\n",
       "      <td>103.6 bhp</td>\n",
       "      <td>5.0</td>\n",
       "      <td>NaN</td>\n",
       "    </tr>\n",
       "    <tr>\n",
       "      <th>1233</th>\n",
       "      <td>Mercedes-Benz E-Class 2009-2013 E 220 CDI Avan...</td>\n",
       "      <td>Kochi</td>\n",
       "      <td>2014</td>\n",
       "      <td>72443</td>\n",
       "      <td>Diesel</td>\n",
       "      <td>Automatic</td>\n",
       "      <td>First</td>\n",
       "      <td>10.0 kmpl</td>\n",
       "      <td>2148 CC</td>\n",
       "      <td>170 bhp</td>\n",
       "      <td>5.0</td>\n",
       "      <td>NaN</td>\n",
       "    </tr>\n",
       "  </tbody>\n",
       "</table>\n",
       "<p>1234 rows × 12 columns</p>\n",
       "</div>"
      ],
      "text/plain": [
       "                                                   Name    Location  Year  \\\n",
       "0                               Maruti Alto K10 LXI CNG       Delhi  2014   \n",
       "1                         Maruti Alto 800 2016-2019 LXI  Coimbatore  2013   \n",
       "2             Toyota Innova Crysta Touring Sport 2.4 MT      Mumbai  2017   \n",
       "3                                  Toyota Etios Liva GD   Hyderabad  2012   \n",
       "4                                     Hyundai i20 Magna      Mumbai  2014   \n",
       "...                                                 ...         ...   ...   \n",
       "1229                  Volkswagen Vento Diesel Trendline   Hyderabad  2011   \n",
       "1230                             Volkswagen Polo GT TSI      Mumbai  2015   \n",
       "1231                             Nissan Micra Diesel XV     Kolkata  2012   \n",
       "1232                             Volkswagen Polo GT TSI        Pune  2013   \n",
       "1233  Mercedes-Benz E-Class 2009-2013 E 220 CDI Avan...       Kochi  2014   \n",
       "\n",
       "      Kilometers_Driven Fuel_Type Transmission Owner_Type      Mileage  \\\n",
       "0                 40929       CNG       Manual      First  32.26 km/kg   \n",
       "1                 54493    Petrol       Manual     Second    24.7 kmpl   \n",
       "2                 34000    Diesel       Manual      First   13.68 kmpl   \n",
       "3                139000    Diesel       Manual      First   23.59 kmpl   \n",
       "4                 29000    Petrol       Manual      First    18.5 kmpl   \n",
       "...                 ...       ...          ...        ...          ...   \n",
       "1229              89411    Diesel       Manual      First   20.54 kmpl   \n",
       "1230              59000    Petrol    Automatic      First   17.21 kmpl   \n",
       "1231              28000    Diesel       Manual      First   23.08 kmpl   \n",
       "1232              52262    Petrol    Automatic      Third    17.2 kmpl   \n",
       "1233              72443    Diesel    Automatic      First    10.0 kmpl   \n",
       "\n",
       "       Engine      Power  Seats New_Price  \n",
       "0      998 CC   58.2 bhp    4.0       NaN  \n",
       "1      796 CC   47.3 bhp    5.0       NaN  \n",
       "2     2393 CC  147.8 bhp    7.0     25.27  \n",
       "3     1364 CC   null bhp    5.0       NaN  \n",
       "4     1197 CC  82.85 bhp    5.0       NaN  \n",
       "...       ...        ...    ...       ...  \n",
       "1229  1598 CC  103.6 bhp    5.0       NaN  \n",
       "1230  1197 CC  103.6 bhp    5.0       NaN  \n",
       "1231  1461 CC   63.1 bhp    5.0       NaN  \n",
       "1232  1197 CC  103.6 bhp    5.0       NaN  \n",
       "1233  2148 CC    170 bhp    5.0       NaN  \n",
       "\n",
       "[1234 rows x 12 columns]"
      ]
     },
     "execution_count": 5,
     "metadata": {},
     "output_type": "execute_result"
    }
   ],
   "source": [
    "df_test"
   ]
  },
  {
   "cell_type": "code",
   "execution_count": 6,
   "id": "a0277985a99d1132",
   "metadata": {
    "ExecuteTime": {
     "end_time": "2024-04-09T08:06:18.951882Z",
     "start_time": "2024-04-09T08:06:18.942883Z"
    }
   },
   "outputs": [],
   "source": [
    "#合并数据,一起处理\n",
    "#方法一：df = df_train.append(df_test)\n",
    "#方法二: \n",
    "df = pd.concat([df_train,df_test],axis=0)\n"
   ]
  },
  {
   "cell_type": "code",
   "execution_count": 7,
   "id": "7b3b9ea0",
   "metadata": {},
   "outputs": [
    {
     "data": {
      "text/html": [
       "<div>\n",
       "<style scoped>\n",
       "    .dataframe tbody tr th:only-of-type {\n",
       "        vertical-align: middle;\n",
       "    }\n",
       "\n",
       "    .dataframe tbody tr th {\n",
       "        vertical-align: top;\n",
       "    }\n",
       "\n",
       "    .dataframe thead th {\n",
       "        text-align: right;\n",
       "    }\n",
       "</style>\n",
       "<table border=\"1\" class=\"dataframe\">\n",
       "  <thead>\n",
       "    <tr style=\"text-align: right;\">\n",
       "      <th></th>\n",
       "      <th>Name</th>\n",
       "      <th>Location</th>\n",
       "      <th>Year</th>\n",
       "      <th>Kilometers_Driven</th>\n",
       "      <th>Fuel_Type</th>\n",
       "      <th>Transmission</th>\n",
       "      <th>Owner_Type</th>\n",
       "      <th>Mileage</th>\n",
       "      <th>Engine</th>\n",
       "      <th>Power</th>\n",
       "      <th>Seats</th>\n",
       "      <th>New_Price</th>\n",
       "      <th>Price</th>\n",
       "    </tr>\n",
       "  </thead>\n",
       "  <tbody>\n",
       "    <tr>\n",
       "      <th>0</th>\n",
       "      <td>Maruti Wagon R LXI CNG</td>\n",
       "      <td>Mumbai</td>\n",
       "      <td>2010</td>\n",
       "      <td>72000</td>\n",
       "      <td>CNG</td>\n",
       "      <td>Manual</td>\n",
       "      <td>First</td>\n",
       "      <td>26.6 km/kg</td>\n",
       "      <td>998 CC</td>\n",
       "      <td>58.16 bhp</td>\n",
       "      <td>5.0</td>\n",
       "      <td>NaN</td>\n",
       "      <td>1.75</td>\n",
       "    </tr>\n",
       "    <tr>\n",
       "      <th>1</th>\n",
       "      <td>Hyundai Creta 1.6 CRDi SX Option</td>\n",
       "      <td>Pune</td>\n",
       "      <td>2015</td>\n",
       "      <td>41000</td>\n",
       "      <td>Diesel</td>\n",
       "      <td>Manual</td>\n",
       "      <td>First</td>\n",
       "      <td>19.67 kmpl</td>\n",
       "      <td>1582 CC</td>\n",
       "      <td>126.2 bhp</td>\n",
       "      <td>5.0</td>\n",
       "      <td>NaN</td>\n",
       "      <td>12.50</td>\n",
       "    </tr>\n",
       "    <tr>\n",
       "      <th>2</th>\n",
       "      <td>Honda Jazz V</td>\n",
       "      <td>Chennai</td>\n",
       "      <td>2011</td>\n",
       "      <td>46000</td>\n",
       "      <td>Petrol</td>\n",
       "      <td>Manual</td>\n",
       "      <td>First</td>\n",
       "      <td>18.2 kmpl</td>\n",
       "      <td>1199 CC</td>\n",
       "      <td>88.7 bhp</td>\n",
       "      <td>5.0</td>\n",
       "      <td>8.61</td>\n",
       "      <td>4.50</td>\n",
       "    </tr>\n",
       "    <tr>\n",
       "      <th>3</th>\n",
       "      <td>Maruti Ertiga VDI</td>\n",
       "      <td>Chennai</td>\n",
       "      <td>2012</td>\n",
       "      <td>87000</td>\n",
       "      <td>Diesel</td>\n",
       "      <td>Manual</td>\n",
       "      <td>First</td>\n",
       "      <td>20.77 kmpl</td>\n",
       "      <td>1248 CC</td>\n",
       "      <td>88.76 bhp</td>\n",
       "      <td>7.0</td>\n",
       "      <td>NaN</td>\n",
       "      <td>6.00</td>\n",
       "    </tr>\n",
       "    <tr>\n",
       "      <th>4</th>\n",
       "      <td>Audi A4 New 2.0 TDI Multitronic</td>\n",
       "      <td>Coimbatore</td>\n",
       "      <td>2013</td>\n",
       "      <td>40670</td>\n",
       "      <td>Diesel</td>\n",
       "      <td>Automatic</td>\n",
       "      <td>Second</td>\n",
       "      <td>15.2 kmpl</td>\n",
       "      <td>1968 CC</td>\n",
       "      <td>140.8 bhp</td>\n",
       "      <td>5.0</td>\n",
       "      <td>NaN</td>\n",
       "      <td>17.74</td>\n",
       "    </tr>\n",
       "    <tr>\n",
       "      <th>...</th>\n",
       "      <td>...</td>\n",
       "      <td>...</td>\n",
       "      <td>...</td>\n",
       "      <td>...</td>\n",
       "      <td>...</td>\n",
       "      <td>...</td>\n",
       "      <td>...</td>\n",
       "      <td>...</td>\n",
       "      <td>...</td>\n",
       "      <td>...</td>\n",
       "      <td>...</td>\n",
       "      <td>...</td>\n",
       "      <td>...</td>\n",
       "    </tr>\n",
       "    <tr>\n",
       "      <th>1229</th>\n",
       "      <td>Volkswagen Vento Diesel Trendline</td>\n",
       "      <td>Hyderabad</td>\n",
       "      <td>2011</td>\n",
       "      <td>89411</td>\n",
       "      <td>Diesel</td>\n",
       "      <td>Manual</td>\n",
       "      <td>First</td>\n",
       "      <td>20.54 kmpl</td>\n",
       "      <td>1598 CC</td>\n",
       "      <td>103.6 bhp</td>\n",
       "      <td>5.0</td>\n",
       "      <td>NaN</td>\n",
       "      <td>NaN</td>\n",
       "    </tr>\n",
       "    <tr>\n",
       "      <th>1230</th>\n",
       "      <td>Volkswagen Polo GT TSI</td>\n",
       "      <td>Mumbai</td>\n",
       "      <td>2015</td>\n",
       "      <td>59000</td>\n",
       "      <td>Petrol</td>\n",
       "      <td>Automatic</td>\n",
       "      <td>First</td>\n",
       "      <td>17.21 kmpl</td>\n",
       "      <td>1197 CC</td>\n",
       "      <td>103.6 bhp</td>\n",
       "      <td>5.0</td>\n",
       "      <td>NaN</td>\n",
       "      <td>NaN</td>\n",
       "    </tr>\n",
       "    <tr>\n",
       "      <th>1231</th>\n",
       "      <td>Nissan Micra Diesel XV</td>\n",
       "      <td>Kolkata</td>\n",
       "      <td>2012</td>\n",
       "      <td>28000</td>\n",
       "      <td>Diesel</td>\n",
       "      <td>Manual</td>\n",
       "      <td>First</td>\n",
       "      <td>23.08 kmpl</td>\n",
       "      <td>1461 CC</td>\n",
       "      <td>63.1 bhp</td>\n",
       "      <td>5.0</td>\n",
       "      <td>NaN</td>\n",
       "      <td>NaN</td>\n",
       "    </tr>\n",
       "    <tr>\n",
       "      <th>1232</th>\n",
       "      <td>Volkswagen Polo GT TSI</td>\n",
       "      <td>Pune</td>\n",
       "      <td>2013</td>\n",
       "      <td>52262</td>\n",
       "      <td>Petrol</td>\n",
       "      <td>Automatic</td>\n",
       "      <td>Third</td>\n",
       "      <td>17.2 kmpl</td>\n",
       "      <td>1197 CC</td>\n",
       "      <td>103.6 bhp</td>\n",
       "      <td>5.0</td>\n",
       "      <td>NaN</td>\n",
       "      <td>NaN</td>\n",
       "    </tr>\n",
       "    <tr>\n",
       "      <th>1233</th>\n",
       "      <td>Mercedes-Benz E-Class 2009-2013 E 220 CDI Avan...</td>\n",
       "      <td>Kochi</td>\n",
       "      <td>2014</td>\n",
       "      <td>72443</td>\n",
       "      <td>Diesel</td>\n",
       "      <td>Automatic</td>\n",
       "      <td>First</td>\n",
       "      <td>10.0 kmpl</td>\n",
       "      <td>2148 CC</td>\n",
       "      <td>170 bhp</td>\n",
       "      <td>5.0</td>\n",
       "      <td>NaN</td>\n",
       "      <td>NaN</td>\n",
       "    </tr>\n",
       "  </tbody>\n",
       "</table>\n",
       "<p>7253 rows × 13 columns</p>\n",
       "</div>"
      ],
      "text/plain": [
       "                                                   Name    Location  Year  \\\n",
       "0                                Maruti Wagon R LXI CNG      Mumbai  2010   \n",
       "1                      Hyundai Creta 1.6 CRDi SX Option        Pune  2015   \n",
       "2                                          Honda Jazz V     Chennai  2011   \n",
       "3                                     Maruti Ertiga VDI     Chennai  2012   \n",
       "4                       Audi A4 New 2.0 TDI Multitronic  Coimbatore  2013   \n",
       "...                                                 ...         ...   ...   \n",
       "1229                  Volkswagen Vento Diesel Trendline   Hyderabad  2011   \n",
       "1230                             Volkswagen Polo GT TSI      Mumbai  2015   \n",
       "1231                             Nissan Micra Diesel XV     Kolkata  2012   \n",
       "1232                             Volkswagen Polo GT TSI        Pune  2013   \n",
       "1233  Mercedes-Benz E-Class 2009-2013 E 220 CDI Avan...       Kochi  2014   \n",
       "\n",
       "      Kilometers_Driven Fuel_Type Transmission Owner_Type     Mileage  \\\n",
       "0                 72000       CNG       Manual      First  26.6 km/kg   \n",
       "1                 41000    Diesel       Manual      First  19.67 kmpl   \n",
       "2                 46000    Petrol       Manual      First   18.2 kmpl   \n",
       "3                 87000    Diesel       Manual      First  20.77 kmpl   \n",
       "4                 40670    Diesel    Automatic     Second   15.2 kmpl   \n",
       "...                 ...       ...          ...        ...         ...   \n",
       "1229              89411    Diesel       Manual      First  20.54 kmpl   \n",
       "1230              59000    Petrol    Automatic      First  17.21 kmpl   \n",
       "1231              28000    Diesel       Manual      First  23.08 kmpl   \n",
       "1232              52262    Petrol    Automatic      Third   17.2 kmpl   \n",
       "1233              72443    Diesel    Automatic      First   10.0 kmpl   \n",
       "\n",
       "       Engine      Power  Seats New_Price  Price  \n",
       "0      998 CC  58.16 bhp    5.0       NaN   1.75  \n",
       "1     1582 CC  126.2 bhp    5.0       NaN  12.50  \n",
       "2     1199 CC   88.7 bhp    5.0      8.61   4.50  \n",
       "3     1248 CC  88.76 bhp    7.0       NaN   6.00  \n",
       "4     1968 CC  140.8 bhp    5.0       NaN  17.74  \n",
       "...       ...        ...    ...       ...    ...  \n",
       "1229  1598 CC  103.6 bhp    5.0       NaN    NaN  \n",
       "1230  1197 CC  103.6 bhp    5.0       NaN    NaN  \n",
       "1231  1461 CC   63.1 bhp    5.0       NaN    NaN  \n",
       "1232  1197 CC  103.6 bhp    5.0       NaN    NaN  \n",
       "1233  2148 CC    170 bhp    5.0       NaN    NaN  \n",
       "\n",
       "[7253 rows x 13 columns]"
      ]
     },
     "execution_count": 7,
     "metadata": {},
     "output_type": "execute_result"
    }
   ],
   "source": [
    "df"
   ]
  },
  {
   "cell_type": "markdown",
   "id": "9ff3a89a8d29c195",
   "metadata": {},
   "source": [
    "## 查看数据集数据整体情况"
   ]
  },
  {
   "cell_type": "code",
   "execution_count": 8,
   "id": "9102cf5bfe37f4af",
   "metadata": {
    "ExecuteTime": {
     "end_time": "2024-04-09T08:06:18.972385Z",
     "start_time": "2024-04-09T08:06:18.955383Z"
    }
   },
   "outputs": [
    {
     "name": "stdout",
     "output_type": "stream",
     "text": [
      "<class 'pandas.core.frame.DataFrame'>\n",
      "Index: 7253 entries, 0 to 1233\n",
      "Data columns (total 13 columns):\n",
      " #   Column             Non-Null Count  Dtype  \n",
      "---  ------             --------------  -----  \n",
      " 0   Name               7253 non-null   object \n",
      " 1   Location           7253 non-null   object \n",
      " 2   Year               7253 non-null   int64  \n",
      " 3   Kilometers_Driven  7253 non-null   int64  \n",
      " 4   Fuel_Type          7253 non-null   object \n",
      " 5   Transmission       7253 non-null   object \n",
      " 6   Owner_Type         7253 non-null   object \n",
      " 7   Mileage            7251 non-null   object \n",
      " 8   Engine             7207 non-null   object \n",
      " 9   Power              7207 non-null   object \n",
      " 10  Seats              7200 non-null   float64\n",
      " 11  New_Price          1006 non-null   object \n",
      " 12  Price              6019 non-null   float64\n",
      "dtypes: float64(2), int64(2), object(9)\n",
      "memory usage: 793.3+ KB\n"
     ]
    }
   ],
   "source": [
    "df.info()"
   ]
  },
  {
   "cell_type": "code",
   "execution_count": 9,
   "id": "95be1126ce19e609",
   "metadata": {
    "ExecuteTime": {
     "end_time": "2024-04-09T08:06:18.986387Z",
     "start_time": "2024-04-09T08:06:18.973385Z"
    }
   },
   "outputs": [
    {
     "data": {
      "text/plain": [
       "Name                  0.000000\n",
       "Location              0.000000\n",
       "Year                  0.000000\n",
       "Kilometers_Driven     0.000000\n",
       "Fuel_Type             0.000000\n",
       "Transmission          0.000000\n",
       "Owner_Type            0.000000\n",
       "Mileage               0.033228\n",
       "Engine                0.598106\n",
       "Power                 0.598106\n",
       "Seats                 0.697790\n",
       "New_Price            86.310018\n",
       "Price                 0.000000\n",
       "dtype: float64"
      ]
     },
     "execution_count": 9,
     "metadata": {},
     "output_type": "execute_result"
    }
   ],
   "source": [
    "df_train.isnull().sum() / len(df_train) *100 #缺失百分比"
   ]
  },
  {
   "cell_type": "code",
   "execution_count": 10,
   "id": "a5a95031dc9199d3",
   "metadata": {
    "ExecuteTime": {
     "end_time": "2024-04-09T08:06:19.001890Z",
     "start_time": "2024-04-09T08:06:18.987888Z"
    }
   },
   "outputs": [
    {
     "data": {
      "text/plain": [
       "1"
      ]
     },
     "execution_count": 10,
     "metadata": {},
     "output_type": "execute_result"
    }
   ],
   "source": [
    "df.duplicated().sum()"
   ]
  },
  {
   "cell_type": "markdown",
   "id": "2b207c7db2dce940",
   "metadata": {},
   "source": [
    "## 处理数据"
   ]
  },
  {
   "cell_type": "code",
   "execution_count": 11,
   "id": "3e717ee0cb57e6f6",
   "metadata": {
    "ExecuteTime": {
     "end_time": "2024-04-09T08:06:19.023896Z",
     "start_time": "2024-04-09T08:06:19.002891Z"
    }
   },
   "outputs": [],
   "source": [
    "#去重复值\n",
    "df = df.drop_duplicates()\n",
    "df_train.drop_duplicates(inplace=True)"
   ]
  },
  {
   "cell_type": "code",
   "execution_count": 12,
   "id": "5a2bd6648576b55c",
   "metadata": {
    "ExecuteTime": {
     "end_time": "2024-04-09T08:06:19.041897Z",
     "start_time": "2024-04-09T08:06:19.025395Z"
    }
   },
   "outputs": [
    {
     "data": {
      "text/plain": [
       "0"
      ]
     },
     "execution_count": 12,
     "metadata": {},
     "output_type": "execute_result"
    }
   ],
   "source": [
    "df.duplicated().sum()"
   ]
  },
  {
   "cell_type": "code",
   "execution_count": 13,
   "id": "eb1f359169dbd37d",
   "metadata": {
    "ExecuteTime": {
     "end_time": "2024-04-09T08:06:19.083904Z",
     "start_time": "2024-04-09T08:06:19.043397Z"
    }
   },
   "outputs": [
    {
     "data": {
      "text/plain": [
       "Name\n",
       "Mahindra XUV500 W8 2WD                  55\n",
       "Maruti Swift VDI                        49\n",
       "Maruti Swift Dzire VDI                  42\n",
       "Honda City 1.5 S MT                     39\n",
       "Maruti Swift VDI BSIV                   37\n",
       "                                        ..\n",
       "Chevrolet Beat LT Option                 1\n",
       "Skoda Rapid 1.6 MPI AT Elegance Plus     1\n",
       "Ford EcoSport 1.5 TDCi Ambiente          1\n",
       "Hyundai i10 Magna 1.1 iTech SE           1\n",
       "Hyundai Elite i20 Magna Plus             1\n",
       "Name: count, Length: 2041, dtype: int64"
      ]
     },
     "execution_count": 13,
     "metadata": {},
     "output_type": "execute_result"
    }
   ],
   "source": [
    "#查看列的数据分布\n",
    "df['Name'].value_counts()"
   ]
  },
  {
   "cell_type": "code",
   "execution_count": 14,
   "id": "a091d56a83463efb",
   "metadata": {
    "ExecuteTime": {
     "end_time": "2024-04-09T08:06:19.093406Z",
     "start_time": "2024-04-09T08:06:19.085406Z"
    }
   },
   "outputs": [
    {
     "data": {
      "text/plain": [
       "Location\n",
       "Mumbai        948\n",
       "Hyderabad     876\n",
       "Coimbatore    772\n",
       "Kochi         772\n",
       "Pune          765\n",
       "Delhi         660\n",
       "Kolkata       654\n",
       "Chennai       591\n",
       "Jaipur        499\n",
       "Bangalore     440\n",
       "Ahmedabad     275\n",
       "Name: count, dtype: int64"
      ]
     },
     "execution_count": 14,
     "metadata": {},
     "output_type": "execute_result"
    }
   ],
   "source": [
    "df['Location'].value_counts()"
   ]
  },
  {
   "cell_type": "code",
   "execution_count": 15,
   "id": "9a754c6e1d51e263",
   "metadata": {
    "ExecuteTime": {
     "end_time": "2024-04-09T08:06:19.104408Z",
     "start_time": "2024-04-09T08:06:19.095407Z"
    }
   },
   "outputs": [],
   "source": [
    "df.drop('Name',axis=1,inplace=True) #\n",
    "df.drop('New_Price',axis=1,inplace=True)"
   ]
  },
  {
   "cell_type": "code",
   "execution_count": 16,
   "id": "35a5b3aa62a39b2d",
   "metadata": {
    "ExecuteTime": {
     "end_time": "2024-04-09T08:06:19.124412Z",
     "start_time": "2024-04-09T08:06:19.105911Z"
    }
   },
   "outputs": [
    {
     "data": {
      "text/html": [
       "<div>\n",
       "<style scoped>\n",
       "    .dataframe tbody tr th:only-of-type {\n",
       "        vertical-align: middle;\n",
       "    }\n",
       "\n",
       "    .dataframe tbody tr th {\n",
       "        vertical-align: top;\n",
       "    }\n",
       "\n",
       "    .dataframe thead th {\n",
       "        text-align: right;\n",
       "    }\n",
       "</style>\n",
       "<table border=\"1\" class=\"dataframe\">\n",
       "  <thead>\n",
       "    <tr style=\"text-align: right;\">\n",
       "      <th></th>\n",
       "      <th>Location</th>\n",
       "      <th>Year</th>\n",
       "      <th>Kilometers_Driven</th>\n",
       "      <th>Fuel_Type</th>\n",
       "      <th>Transmission</th>\n",
       "      <th>Owner_Type</th>\n",
       "      <th>Mileage</th>\n",
       "      <th>Engine</th>\n",
       "      <th>Power</th>\n",
       "      <th>Seats</th>\n",
       "      <th>Price</th>\n",
       "    </tr>\n",
       "  </thead>\n",
       "  <tbody>\n",
       "    <tr>\n",
       "      <th>0</th>\n",
       "      <td>Mumbai</td>\n",
       "      <td>2010</td>\n",
       "      <td>72000</td>\n",
       "      <td>CNG</td>\n",
       "      <td>Manual</td>\n",
       "      <td>First</td>\n",
       "      <td>26.6 km/kg</td>\n",
       "      <td>998 CC</td>\n",
       "      <td>58.16 bhp</td>\n",
       "      <td>5.0</td>\n",
       "      <td>1.75</td>\n",
       "    </tr>\n",
       "    <tr>\n",
       "      <th>1</th>\n",
       "      <td>Pune</td>\n",
       "      <td>2015</td>\n",
       "      <td>41000</td>\n",
       "      <td>Diesel</td>\n",
       "      <td>Manual</td>\n",
       "      <td>First</td>\n",
       "      <td>19.67 kmpl</td>\n",
       "      <td>1582 CC</td>\n",
       "      <td>126.2 bhp</td>\n",
       "      <td>5.0</td>\n",
       "      <td>12.50</td>\n",
       "    </tr>\n",
       "    <tr>\n",
       "      <th>2</th>\n",
       "      <td>Chennai</td>\n",
       "      <td>2011</td>\n",
       "      <td>46000</td>\n",
       "      <td>Petrol</td>\n",
       "      <td>Manual</td>\n",
       "      <td>First</td>\n",
       "      <td>18.2 kmpl</td>\n",
       "      <td>1199 CC</td>\n",
       "      <td>88.7 bhp</td>\n",
       "      <td>5.0</td>\n",
       "      <td>4.50</td>\n",
       "    </tr>\n",
       "    <tr>\n",
       "      <th>3</th>\n",
       "      <td>Chennai</td>\n",
       "      <td>2012</td>\n",
       "      <td>87000</td>\n",
       "      <td>Diesel</td>\n",
       "      <td>Manual</td>\n",
       "      <td>First</td>\n",
       "      <td>20.77 kmpl</td>\n",
       "      <td>1248 CC</td>\n",
       "      <td>88.76 bhp</td>\n",
       "      <td>7.0</td>\n",
       "      <td>6.00</td>\n",
       "    </tr>\n",
       "    <tr>\n",
       "      <th>4</th>\n",
       "      <td>Coimbatore</td>\n",
       "      <td>2013</td>\n",
       "      <td>40670</td>\n",
       "      <td>Diesel</td>\n",
       "      <td>Automatic</td>\n",
       "      <td>Second</td>\n",
       "      <td>15.2 kmpl</td>\n",
       "      <td>1968 CC</td>\n",
       "      <td>140.8 bhp</td>\n",
       "      <td>5.0</td>\n",
       "      <td>17.74</td>\n",
       "    </tr>\n",
       "  </tbody>\n",
       "</table>\n",
       "</div>"
      ],
      "text/plain": [
       "     Location  Year  Kilometers_Driven Fuel_Type Transmission Owner_Type  \\\n",
       "0      Mumbai  2010              72000       CNG       Manual      First   \n",
       "1        Pune  2015              41000    Diesel       Manual      First   \n",
       "2     Chennai  2011              46000    Petrol       Manual      First   \n",
       "3     Chennai  2012              87000    Diesel       Manual      First   \n",
       "4  Coimbatore  2013              40670    Diesel    Automatic     Second   \n",
       "\n",
       "      Mileage   Engine      Power  Seats  Price  \n",
       "0  26.6 km/kg   998 CC  58.16 bhp    5.0   1.75  \n",
       "1  19.67 kmpl  1582 CC  126.2 bhp    5.0  12.50  \n",
       "2   18.2 kmpl  1199 CC   88.7 bhp    5.0   4.50  \n",
       "3  20.77 kmpl  1248 CC  88.76 bhp    7.0   6.00  \n",
       "4   15.2 kmpl  1968 CC  140.8 bhp    5.0  17.74  "
      ]
     },
     "execution_count": 16,
     "metadata": {},
     "output_type": "execute_result"
    }
   ],
   "source": [
    "df.head()"
   ]
  },
  {
   "cell_type": "markdown",
   "id": "9e7224528818b767",
   "metadata": {},
   "source": [
    "## 缺失值处理\n",
    "### ①座位Seats"
   ]
  },
  {
   "cell_type": "code",
   "execution_count": 17,
   "id": "b7b570f97e14fae2",
   "metadata": {
    "ExecuteTime": {
     "end_time": "2024-04-09T08:06:19.134913Z",
     "start_time": "2024-04-09T08:06:19.125912Z"
    }
   },
   "outputs": [
    {
     "data": {
      "text/plain": [
       "Seats\n",
       "5.0     6046\n",
       "7.0      796\n",
       "8.0      170\n",
       "4.0      119\n",
       "6.0       38\n",
       "2.0       18\n",
       "10.0       8\n",
       "9.0        3\n",
       "0.0        1\n",
       "Name: count, dtype: int64"
      ]
     },
     "execution_count": 17,
     "metadata": {},
     "output_type": "execute_result"
    }
   ],
   "source": [
    "df['Seats'].value_counts()"
   ]
  },
  {
   "cell_type": "code",
   "execution_count": 18,
   "id": "84ad24309db87d42",
   "metadata": {
    "ExecuteTime": {
     "end_time": "2024-04-09T08:06:19.144415Z",
     "start_time": "2024-04-09T08:06:19.136914Z"
    }
   },
   "outputs": [],
   "source": [
    "df.drop(df[df['Seats'] == 0].index,axis=0,inplace=True) #删除座位为0的数据"
   ]
  },
  {
   "cell_type": "code",
   "execution_count": 19,
   "id": "597a51f3bcd80ed7",
   "metadata": {
    "ExecuteTime": {
     "end_time": "2024-04-09T08:06:19.161918Z",
     "start_time": "2024-04-09T08:06:19.146416Z"
    }
   },
   "outputs": [
    {
     "data": {
      "text/plain": [
       "53"
      ]
     },
     "execution_count": 19,
     "metadata": {},
     "output_type": "execute_result"
    }
   ],
   "source": [
    "df['Seats'].isnull().sum()"
   ]
  },
  {
   "cell_type": "code",
   "execution_count": 20,
   "id": "481c266b1ea9859f",
   "metadata": {
    "ExecuteTime": {
     "end_time": "2024-04-09T08:06:19.170919Z",
     "start_time": "2024-04-09T08:06:19.164920Z"
    }
   },
   "outputs": [],
   "source": [
    "df['Seats'] = df['Seats'].fillna(df['Seats'].mode()[0]) #拿众数填充空值"
   ]
  },
  {
   "cell_type": "code",
   "execution_count": 21,
   "id": "f518a795b3fd49ff",
   "metadata": {
    "ExecuteTime": {
     "end_time": "2024-04-09T08:06:19.185922Z",
     "start_time": "2024-04-09T08:06:19.173920Z"
    }
   },
   "outputs": [
    {
     "name": "stdout",
     "output_type": "stream",
     "text": [
      "<class 'pandas.core.frame.DataFrame'>\n",
      "Index: 7251 entries, 0 to 1233\n",
      "Data columns (total 11 columns):\n",
      " #   Column             Non-Null Count  Dtype  \n",
      "---  ------             --------------  -----  \n",
      " 0   Location           7251 non-null   object \n",
      " 1   Year               7251 non-null   int64  \n",
      " 2   Kilometers_Driven  7251 non-null   int64  \n",
      " 3   Fuel_Type          7251 non-null   object \n",
      " 4   Transmission       7251 non-null   object \n",
      " 5   Owner_Type         7251 non-null   object \n",
      " 6   Mileage            7249 non-null   object \n",
      " 7   Engine             7205 non-null   object \n",
      " 8   Power              7205 non-null   object \n",
      " 9   Seats              7251 non-null   float64\n",
      " 10  Price              6018 non-null   float64\n",
      "dtypes: float64(2), int64(2), object(7)\n",
      "memory usage: 679.8+ KB\n"
     ]
    }
   ],
   "source": [
    "df.info()"
   ]
  },
  {
   "cell_type": "code",
   "execution_count": 22,
   "id": "8e41615f4d136b71",
   "metadata": {
    "ExecuteTime": {
     "end_time": "2024-04-09T08:06:19.568490Z",
     "start_time": "2024-04-09T08:06:19.561488Z"
    }
   },
   "outputs": [
    {
     "data": {
      "text/plain": [
       "5.0"
      ]
     },
     "execution_count": 22,
     "metadata": {},
     "output_type": "execute_result"
    }
   ],
   "source": [
    "df['Seats'].median() #中位数"
   ]
  },
  {
   "cell_type": "code",
   "execution_count": 23,
   "id": "8c23ac7521b0508e",
   "metadata": {
    "ExecuteTime": {
     "end_time": "2024-04-09T08:06:20.547663Z",
     "start_time": "2024-04-09T08:06:20.541162Z"
    }
   },
   "outputs": [
    {
     "data": {
      "text/plain": [
       "0    5.0\n",
       "Name: Seats, dtype: float64"
      ]
     },
     "execution_count": 23,
     "metadata": {},
     "output_type": "execute_result"
    }
   ],
   "source": [
    "df['Seats'].mode() #众数"
   ]
  },
  {
   "cell_type": "markdown",
   "id": "ddde30d22f9c8782",
   "metadata": {},
   "source": [
    "### ②发动机的最大功率Power"
   ]
  },
  {
   "cell_type": "code",
   "execution_count": 24,
   "id": "44e80fb6",
   "metadata": {},
   "outputs": [
    {
     "data": {
      "text/plain": [
       "0       58.16 bhp\n",
       "1       126.2 bhp\n",
       "2        88.7 bhp\n",
       "3       88.76 bhp\n",
       "4       140.8 bhp\n",
       "          ...    \n",
       "6014       74 bhp\n",
       "6015       71 bhp\n",
       "6016      112 bhp\n",
       "6017     67.1 bhp\n",
       "6018     57.6 bhp\n",
       "Name: Power, Length: 6019, dtype: object"
      ]
     },
     "execution_count": 24,
     "metadata": {},
     "output_type": "execute_result"
    }
   ],
   "source": [
    "df_train['Power']"
   ]
  },
  {
   "cell_type": "code",
   "execution_count": 25,
   "id": "8deedaf83bc88d7b",
   "metadata": {
    "ExecuteTime": {
     "end_time": "2024-04-09T08:06:21.224281Z",
     "start_time": "2024-04-09T08:06:21.217283Z"
    }
   },
   "outputs": [
    {
     "data": {
      "text/plain": [
       "'58.16 bhp'"
      ]
     },
     "execution_count": 25,
     "metadata": {},
     "output_type": "execute_result"
    }
   ],
   "source": [
    "df_train['Power'][0]"
   ]
  },
  {
   "cell_type": "code",
   "execution_count": 26,
   "id": "3e63266575dbde91",
   "metadata": {
    "ExecuteTime": {
     "end_time": "2024-04-09T08:06:21.663860Z",
     "start_time": "2024-04-09T08:06:21.657357Z"
    }
   },
   "outputs": [
    {
     "data": {
      "text/plain": [
       "str"
      ]
     },
     "execution_count": 26,
     "metadata": {},
     "output_type": "execute_result"
    }
   ],
   "source": [
    "type(df_train['Power'][0])"
   ]
  },
  {
   "cell_type": "code",
   "execution_count": 27,
   "id": "87000d477597267c",
   "metadata": {
    "ExecuteTime": {
     "end_time": "2024-04-09T08:06:21.980915Z",
     "start_time": "2024-04-09T08:06:21.881896Z"
    }
   },
   "outputs": [],
   "source": [
    "df['Power'] = df['Power'].str.split(' ',expand=True)[0] #以空格为分隔符,去掉单位，.str调用字符串的方法，expand=True将分割后的结果扩展成一个新的DataFrame"
   ]
  },
  {
   "cell_type": "code",
   "execution_count": 28,
   "id": "41de7dfdc53c668a",
   "metadata": {
    "ExecuteTime": {
     "end_time": "2024-04-09T08:06:22.118939Z",
     "start_time": "2024-04-09T08:06:22.108937Z"
    }
   },
   "outputs": [],
   "source": [
    "df['Power'] = pd.to_numeric(df['Power'],errors='coerce') #转为数值，errors='coerce'不能转的跳过，即忽略null值"
   ]
  },
  {
   "cell_type": "code",
   "execution_count": 29,
   "id": "103b927f08c79adb",
   "metadata": {
    "ExecuteTime": {
     "end_time": "2024-04-09T08:06:22.262966Z",
     "start_time": "2024-04-09T08:06:22.256965Z"
    }
   },
   "outputs": [
    {
     "data": {
      "text/plain": [
       "174"
      ]
     },
     "execution_count": 29,
     "metadata": {},
     "output_type": "execute_result"
    }
   ],
   "source": [
    "df['Power'].isnull().sum()"
   ]
  },
  {
   "cell_type": "code",
   "execution_count": 30,
   "id": "7b7698cded6adb02",
   "metadata": {
    "ExecuteTime": {
     "end_time": "2024-04-09T08:06:22.437495Z",
     "start_time": "2024-04-09T08:06:22.431996Z"
    }
   },
   "outputs": [],
   "source": [
    "#使用均值填/中位数填补空值\n",
    "df['Power'] = df['Power'].fillna(df['Power'].median())"
   ]
  },
  {
   "cell_type": "code",
   "execution_count": 31,
   "id": "852295d1661ec4b7",
   "metadata": {
    "ExecuteTime": {
     "end_time": "2024-04-09T08:06:22.701543Z",
     "start_time": "2024-04-09T08:06:22.694040Z"
    }
   },
   "outputs": [
    {
     "data": {
      "text/plain": [
       "0"
      ]
     },
     "execution_count": 31,
     "metadata": {},
     "output_type": "execute_result"
    }
   ],
   "source": [
    "df['Power'].isnull().sum()"
   ]
  },
  {
   "cell_type": "markdown",
   "id": "12fdeb6909b39f08",
   "metadata": {},
   "source": [
    "### ③发动机的排量Engine"
   ]
  },
  {
   "cell_type": "code",
   "execution_count": 32,
   "id": "d899fd84",
   "metadata": {},
   "outputs": [
    {
     "data": {
      "text/plain": [
       "0        998 CC\n",
       "1       1582 CC\n",
       "2       1199 CC\n",
       "3       1248 CC\n",
       "4       1968 CC\n",
       "         ...   \n",
       "1229    1598 CC\n",
       "1230    1197 CC\n",
       "1231    1461 CC\n",
       "1232    1197 CC\n",
       "1233    2148 CC\n",
       "Name: Engine, Length: 7251, dtype: object"
      ]
     },
     "execution_count": 32,
     "metadata": {},
     "output_type": "execute_result"
    }
   ],
   "source": [
    "df['Engine']"
   ]
  },
  {
   "cell_type": "code",
   "execution_count": 33,
   "id": "f8ecb845e3d15548",
   "metadata": {
    "ExecuteTime": {
     "end_time": "2024-04-09T08:06:22.950084Z",
     "start_time": "2024-04-09T08:06:22.936081Z"
    }
   },
   "outputs": [],
   "source": [
    "df['Engine'] = df['Engine'].str.split(' ',expand=True)[0] #以空格为分隔符,去掉单位"
   ]
  },
  {
   "cell_type": "code",
   "execution_count": 34,
   "id": "9fac41b316c17b84",
   "metadata": {
    "ExecuteTime": {
     "end_time": "2024-04-09T08:06:23.031099Z",
     "start_time": "2024-04-09T08:06:23.020598Z"
    }
   },
   "outputs": [],
   "source": [
    "df['Engine'] = pd.to_numeric(df['Engine'],errors='coerce')"
   ]
  },
  {
   "cell_type": "code",
   "execution_count": 35,
   "id": "4e13a7516a177410",
   "metadata": {
    "ExecuteTime": {
     "end_time": "2024-04-09T08:06:23.278143Z",
     "start_time": "2024-04-09T08:06:23.271641Z"
    }
   },
   "outputs": [
    {
     "data": {
      "text/plain": [
       "46"
      ]
     },
     "execution_count": 35,
     "metadata": {},
     "output_type": "execute_result"
    }
   ],
   "source": [
    "df['Engine'].isnull().sum()"
   ]
  },
  {
   "cell_type": "code",
   "execution_count": 36,
   "id": "3be6459d047e2fcc",
   "metadata": {
    "ExecuteTime": {
     "end_time": "2024-04-09T08:06:23.355158Z",
     "start_time": "2024-04-09T08:06:23.350655Z"
    }
   },
   "outputs": [],
   "source": [
    "#使用均值填/中位数填补空值\n",
    "df['Engine'] = df['Engine'].fillna(df['Engine'].median())"
   ]
  },
  {
   "cell_type": "code",
   "execution_count": 37,
   "id": "7587640e4a08a580",
   "metadata": {
    "ExecuteTime": {
     "end_time": "2024-04-09T08:06:23.524187Z",
     "start_time": "2024-04-09T08:06:23.519185Z"
    }
   },
   "outputs": [
    {
     "data": {
      "text/plain": [
       "0"
      ]
     },
     "execution_count": 37,
     "metadata": {},
     "output_type": "execute_result"
    }
   ],
   "source": [
    "df['Engine'].isnull().sum()"
   ]
  },
  {
   "cell_type": "markdown",
   "id": "cd884d4addb0f800",
   "metadata": {},
   "source": [
    "### ④汽车公司提供的标准里程，单位是kmpl或km/kg"
   ]
  },
  {
   "cell_type": "code",
   "execution_count": 38,
   "id": "95e26966",
   "metadata": {},
   "outputs": [
    {
     "data": {
      "text/plain": [
       "0       26.6 km/kg\n",
       "1       19.67 kmpl\n",
       "2        18.2 kmpl\n",
       "3       20.77 kmpl\n",
       "4        15.2 kmpl\n",
       "           ...    \n",
       "1229    20.54 kmpl\n",
       "1230    17.21 kmpl\n",
       "1231    23.08 kmpl\n",
       "1232     17.2 kmpl\n",
       "1233     10.0 kmpl\n",
       "Name: Mileage, Length: 7251, dtype: object"
      ]
     },
     "execution_count": 38,
     "metadata": {},
     "output_type": "execute_result"
    }
   ],
   "source": [
    "df['Mileage']"
   ]
  },
  {
   "cell_type": "code",
   "execution_count": 39,
   "id": "ddbf2969b3c8eca0",
   "metadata": {
    "ExecuteTime": {
     "end_time": "2024-04-09T08:06:23.696717Z",
     "start_time": "2024-04-09T08:06:23.679212Z"
    }
   },
   "outputs": [],
   "source": [
    "df['Mileage'] = df['Mileage'].str.split(' ',expand=True)[0]\n",
    "df['Mileage'] = pd.to_numeric(df['Mileage'],errors='coerce')"
   ]
  },
  {
   "cell_type": "code",
   "execution_count": 40,
   "id": "d14a41b8634c2875",
   "metadata": {
    "ExecuteTime": {
     "end_time": "2024-04-09T08:06:23.818237Z",
     "start_time": "2024-04-09T08:06:23.811738Z"
    }
   },
   "outputs": [
    {
     "data": {
      "text/plain": [
       "2"
      ]
     },
     "execution_count": 40,
     "metadata": {},
     "output_type": "execute_result"
    }
   ],
   "source": [
    "df['Mileage'].isnull().sum()"
   ]
  },
  {
   "cell_type": "code",
   "execution_count": 41,
   "id": "c0f7ec2b75644804",
   "metadata": {
    "ExecuteTime": {
     "end_time": "2024-04-09T08:06:23.917755Z",
     "start_time": "2024-04-09T08:06:23.912255Z"
    }
   },
   "outputs": [],
   "source": [
    "df['Mileage'] = df['Mileage'].fillna(df['Mileage'].median())"
   ]
  },
  {
   "cell_type": "code",
   "execution_count": 42,
   "id": "5dbf8752237c94ee",
   "metadata": {
    "ExecuteTime": {
     "end_time": "2024-04-09T08:06:24.072283Z",
     "start_time": "2024-04-09T08:06:24.065781Z"
    }
   },
   "outputs": [
    {
     "data": {
      "text/plain": [
       "0"
      ]
     },
     "execution_count": 42,
     "metadata": {},
     "output_type": "execute_result"
    }
   ],
   "source": [
    "df['Mileage'].isnull().sum()"
   ]
  },
  {
   "cell_type": "code",
   "execution_count": 43,
   "id": "4890c7696bc786b5",
   "metadata": {
    "ExecuteTime": {
     "end_time": "2024-04-09T08:06:24.263821Z",
     "start_time": "2024-04-09T08:06:24.252815Z"
    }
   },
   "outputs": [
    {
     "name": "stdout",
     "output_type": "stream",
     "text": [
      "<class 'pandas.core.frame.DataFrame'>\n",
      "Index: 7251 entries, 0 to 1233\n",
      "Data columns (total 11 columns):\n",
      " #   Column             Non-Null Count  Dtype  \n",
      "---  ------             --------------  -----  \n",
      " 0   Location           7251 non-null   object \n",
      " 1   Year               7251 non-null   int64  \n",
      " 2   Kilometers_Driven  7251 non-null   int64  \n",
      " 3   Fuel_Type          7251 non-null   object \n",
      " 4   Transmission       7251 non-null   object \n",
      " 5   Owner_Type         7251 non-null   object \n",
      " 6   Mileage            7251 non-null   float64\n",
      " 7   Engine             7251 non-null   float64\n",
      " 8   Power              7251 non-null   float64\n",
      " 9   Seats              7251 non-null   float64\n",
      " 10  Price              6018 non-null   float64\n",
      "dtypes: float64(5), int64(2), object(4)\n",
      "memory usage: 679.8+ KB\n"
     ]
    }
   ],
   "source": [
    "df.info()"
   ]
  },
  {
   "cell_type": "markdown",
   "id": "53188c37",
   "metadata": {},
   "source": [
    "# EDA :exploring data analysis\n",
    "## 探索性数据分析,如可视化"
   ]
  },
  {
   "cell_type": "code",
   "execution_count": 44,
   "id": "c6e7d16a7c97dc33",
   "metadata": {
    "ExecuteTime": {
     "end_time": "2024-04-09T08:06:24.435347Z",
     "start_time": "2024-04-09T08:06:24.430849Z"
    }
   },
   "outputs": [],
   "source": [
    "import matplotlib.pyplot as plt\n",
    "import seaborn as sns\n",
    "plt.rcParams['font.sans-serif'] = 'SimHei'  # 显示中文\n",
    "plt.rcParams['axes.unicode_minus'] = False # 显示负号"
   ]
  },
  {
   "cell_type": "markdown",
   "id": "4b01003b",
   "metadata": {},
   "source": [
    "## 年份对价格的影响"
   ]
  },
  {
   "cell_type": "code",
   "execution_count": 45,
   "id": "3025dc2a",
   "metadata": {
    "scrolled": false
   },
   "outputs": [
    {
     "data": {
      "text/plain": [
       "<Figure size 800x600 with 0 Axes>"
      ]
     },
     "metadata": {},
     "output_type": "display_data"
    },
    {
     "data": {
      "image/png": "[encoded data removed]",
      "text/plain": [
       "<Figure size 1200x600 with 1 Axes>"
      ]
     },
     "metadata": {},
     "output_type": "display_data"
    }
   ],
   "source": [
    "plt.figure(figsize=(8,6))\n",
    "sns.catplot(data=df,x = 'Year',y = 'Price',height=6,aspect=2,palette='husl',hue='Year')\n",
    "plt.title('年份与价格的关系')\n",
    "plt.show()"
   ]
  },
  {
   "cell_type": "code",
   "execution_count": 46,
   "id": "9c3f734c",
   "metadata": {},
   "outputs": [],
   "source": [
    "year_price = df[['Year','Price']].groupby('Year').agg('mean')#年份与价格"
   ]
  },
  {
   "cell_type": "code",
   "execution_count": 47,
   "id": "da3573f4",
   "metadata": {},
   "outputs": [
    {
     "data": {
      "text/html": [
       "<div>\n",
       "<style scoped>\n",
       "    .dataframe tbody tr th:only-of-type {\n",
       "        vertical-align: middle;\n",
       "    }\n",
       "\n",
       "    .dataframe tbody tr th {\n",
       "        vertical-align: top;\n",
       "    }\n",
       "\n",
       "    .dataframe thead th {\n",
       "        text-align: right;\n",
       "    }\n",
       "</style>\n",
       "<table border=\"1\" class=\"dataframe\">\n",
       "  <thead>\n",
       "    <tr style=\"text-align: right;\">\n",
       "      <th></th>\n",
       "      <th>Price</th>\n",
       "    </tr>\n",
       "    <tr>\n",
       "      <th>Year</th>\n",
       "      <th></th>\n",
       "    </tr>\n",
       "  </thead>\n",
       "  <tbody>\n",
       "    <tr>\n",
       "      <th>1998</th>\n",
       "      <td>1.432500</td>\n",
       "    </tr>\n",
       "    <tr>\n",
       "      <th>1999</th>\n",
       "      <td>0.835000</td>\n",
       "    </tr>\n",
       "    <tr>\n",
       "      <th>2000</th>\n",
       "      <td>1.175000</td>\n",
       "    </tr>\n",
       "    <tr>\n",
       "      <th>2001</th>\n",
       "      <td>1.543750</td>\n",
       "    </tr>\n",
       "    <tr>\n",
       "      <th>2002</th>\n",
       "      <td>1.294000</td>\n",
       "    </tr>\n",
       "    <tr>\n",
       "      <th>2003</th>\n",
       "      <td>2.440000</td>\n",
       "    </tr>\n",
       "    <tr>\n",
       "      <th>2004</th>\n",
       "      <td>1.941290</td>\n",
       "    </tr>\n",
       "    <tr>\n",
       "      <th>2005</th>\n",
       "      <td>2.026842</td>\n",
       "    </tr>\n",
       "    <tr>\n",
       "      <th>2006</th>\n",
       "      <td>3.355897</td>\n",
       "    </tr>\n",
       "    <tr>\n",
       "      <th>2007</th>\n",
       "      <td>3.204000</td>\n",
       "    </tr>\n",
       "    <tr>\n",
       "      <th>2008</th>\n",
       "      <td>3.917759</td>\n",
       "    </tr>\n",
       "    <tr>\n",
       "      <th>2009</th>\n",
       "      <td>5.177727</td>\n",
       "    </tr>\n",
       "    <tr>\n",
       "      <th>2010</th>\n",
       "      <td>5.515497</td>\n",
       "    </tr>\n",
       "    <tr>\n",
       "      <th>2011</th>\n",
       "      <td>6.831931</td>\n",
       "    </tr>\n",
       "    <tr>\n",
       "      <th>2012</th>\n",
       "      <td>7.306287</td>\n",
       "    </tr>\n",
       "    <tr>\n",
       "      <th>2013</th>\n",
       "      <td>8.699353</td>\n",
       "    </tr>\n",
       "    <tr>\n",
       "      <th>2014</th>\n",
       "      <td>9.639360</td>\n",
       "    </tr>\n",
       "    <tr>\n",
       "      <th>2015</th>\n",
       "      <td>11.215538</td>\n",
       "    </tr>\n",
       "    <tr>\n",
       "      <th>2016</th>\n",
       "      <td>11.719096</td>\n",
       "    </tr>\n",
       "    <tr>\n",
       "      <th>2017</th>\n",
       "      <td>13.764940</td>\n",
       "    </tr>\n",
       "    <tr>\n",
       "      <th>2018</th>\n",
       "      <td>15.726141</td>\n",
       "    </tr>\n",
       "    <tr>\n",
       "      <th>2019</th>\n",
       "      <td>19.464118</td>\n",
       "    </tr>\n",
       "  </tbody>\n",
       "</table>\n",
       "</div>"
      ],
      "text/plain": [
       "          Price\n",
       "Year           \n",
       "1998   1.432500\n",
       "1999   0.835000\n",
       "2000   1.175000\n",
       "2001   1.543750\n",
       "2002   1.294000\n",
       "2003   2.440000\n",
       "2004   1.941290\n",
       "2005   2.026842\n",
       "2006   3.355897\n",
       "2007   3.204000\n",
       "2008   3.917759\n",
       "2009   5.177727\n",
       "2010   5.515497\n",
       "2011   6.831931\n",
       "2012   7.306287\n",
       "2013   8.699353\n",
       "2014   9.639360\n",
       "2015  11.215538\n",
       "2016  11.719096\n",
       "2017  13.764940\n",
       "2018  15.726141\n",
       "2019  19.464118"
      ]
     },
     "execution_count": 47,
     "metadata": {},
     "output_type": "execute_result"
    }
   ],
   "source": [
    "year_price.dropna()"
   ]
  },
  {
   "cell_type": "code",
   "execution_count": 48,
   "id": "c3341c5a",
   "metadata": {},
   "outputs": [
    {
     "data": {
      "image/png": "[encoded data removed]",
      "text/plain": [
       "<Figure size 800x600 with 1 Axes>"
      ]
     },
     "metadata": {},
     "output_type": "display_data"
    }
   ],
   "source": [
    "plt.figure(figsize=(8,6))\n",
    "plt.plot(year_price.index,year_price['Price'], marker='o',markersize = 10, markerfacecolor = 'blue',label = '年份对价格的影响')\n",
    "plt.xticks(year_price.index,rotation=90,fontsize=10)\n",
    "plt.xlabel('Year',fontsize=15)\n",
    "plt.ylabel('Price',fontsize=15)\n",
    "plt.title('年份与价格的关系')\n",
    "plt.show()"
   ]
  },
  {
   "cell_type": "markdown",
   "id": "a0f0f806",
   "metadata": {},
   "source": [
    "- 年份越近，价格越高"
   ]
  },
  {
   "cell_type": "markdown",
   "id": "1461c6729509f903",
   "metadata": {},
   "source": [
    "## 地区和价格"
   ]
  },
  {
   "cell_type": "code",
   "execution_count": 49,
   "id": "1518899e8be79a58",
   "metadata": {
    "ExecuteTime": {
     "end_time": "2024-04-09T08:06:26.705746Z",
     "start_time": "2024-04-09T08:06:26.124644Z"
    }
   },
   "outputs": [
    {
     "data": {
      "image/png": "[encoded data removed]",
      "text/plain": [
       "<Figure size 1200x600 with 1 Axes>"
      ]
     },
     "metadata": {},
     "output_type": "display_data"
    }
   ],
   "source": [
    "sns.catplot(data=df,x = 'Location',y = 'Price',kind='boxen',height=6,aspect=2,palette='husl')\n",
    "plt.show()"
   ]
  },
  {
   "cell_type": "code",
   "execution_count": 50,
   "id": "2dbe9ab8",
   "metadata": {},
   "outputs": [
    {
     "data": {
      "text/html": [
       "<div>\n",
       "<style scoped>\n",
       "    .dataframe tbody tr th:only-of-type {\n",
       "        vertical-align: middle;\n",
       "    }\n",
       "\n",
       "    .dataframe tbody tr th {\n",
       "        vertical-align: top;\n",
       "    }\n",
       "\n",
       "    .dataframe thead th {\n",
       "        text-align: right;\n",
       "    }\n",
       "</style>\n",
       "<table border=\"1\" class=\"dataframe\">\n",
       "  <thead>\n",
       "    <tr style=\"text-align: right;\">\n",
       "      <th></th>\n",
       "      <th>Location</th>\n",
       "      <th>Year</th>\n",
       "      <th>Kilometers_Driven</th>\n",
       "      <th>Fuel_Type</th>\n",
       "      <th>Transmission</th>\n",
       "      <th>Owner_Type</th>\n",
       "      <th>Mileage</th>\n",
       "      <th>Engine</th>\n",
       "      <th>Power</th>\n",
       "      <th>Seats</th>\n",
       "      <th>Price</th>\n",
       "    </tr>\n",
       "  </thead>\n",
       "  <tbody>\n",
       "    <tr>\n",
       "      <th>0</th>\n",
       "      <td>Mumbai</td>\n",
       "      <td>2010</td>\n",
       "      <td>72000</td>\n",
       "      <td>CNG</td>\n",
       "      <td>Manual</td>\n",
       "      <td>First</td>\n",
       "      <td>26.60</td>\n",
       "      <td>998.0</td>\n",
       "      <td>58.16</td>\n",
       "      <td>5.0</td>\n",
       "      <td>1.75</td>\n",
       "    </tr>\n",
       "    <tr>\n",
       "      <th>1</th>\n",
       "      <td>Pune</td>\n",
       "      <td>2015</td>\n",
       "      <td>41000</td>\n",
       "      <td>Diesel</td>\n",
       "      <td>Manual</td>\n",
       "      <td>First</td>\n",
       "      <td>19.67</td>\n",
       "      <td>1582.0</td>\n",
       "      <td>126.20</td>\n",
       "      <td>5.0</td>\n",
       "      <td>12.50</td>\n",
       "    </tr>\n",
       "    <tr>\n",
       "      <th>2</th>\n",
       "      <td>Chennai</td>\n",
       "      <td>2011</td>\n",
       "      <td>46000</td>\n",
       "      <td>Petrol</td>\n",
       "      <td>Manual</td>\n",
       "      <td>First</td>\n",
       "      <td>18.20</td>\n",
       "      <td>1199.0</td>\n",
       "      <td>88.70</td>\n",
       "      <td>5.0</td>\n",
       "      <td>4.50</td>\n",
       "    </tr>\n",
       "    <tr>\n",
       "      <th>3</th>\n",
       "      <td>Chennai</td>\n",
       "      <td>2012</td>\n",
       "      <td>87000</td>\n",
       "      <td>Diesel</td>\n",
       "      <td>Manual</td>\n",
       "      <td>First</td>\n",
       "      <td>20.77</td>\n",
       "      <td>1248.0</td>\n",
       "      <td>88.76</td>\n",
       "      <td>7.0</td>\n",
       "      <td>6.00</td>\n",
       "    </tr>\n",
       "    <tr>\n",
       "      <th>4</th>\n",
       "      <td>Coimbatore</td>\n",
       "      <td>2013</td>\n",
       "      <td>40670</td>\n",
       "      <td>Diesel</td>\n",
       "      <td>Automatic</td>\n",
       "      <td>Second</td>\n",
       "      <td>15.20</td>\n",
       "      <td>1968.0</td>\n",
       "      <td>140.80</td>\n",
       "      <td>5.0</td>\n",
       "      <td>17.74</td>\n",
       "    </tr>\n",
       "    <tr>\n",
       "      <th>...</th>\n",
       "      <td>...</td>\n",
       "      <td>...</td>\n",
       "      <td>...</td>\n",
       "      <td>...</td>\n",
       "      <td>...</td>\n",
       "      <td>...</td>\n",
       "      <td>...</td>\n",
       "      <td>...</td>\n",
       "      <td>...</td>\n",
       "      <td>...</td>\n",
       "      <td>...</td>\n",
       "    </tr>\n",
       "    <tr>\n",
       "      <th>1229</th>\n",
       "      <td>Hyderabad</td>\n",
       "      <td>2011</td>\n",
       "      <td>89411</td>\n",
       "      <td>Diesel</td>\n",
       "      <td>Manual</td>\n",
       "      <td>First</td>\n",
       "      <td>20.54</td>\n",
       "      <td>1598.0</td>\n",
       "      <td>103.60</td>\n",
       "      <td>5.0</td>\n",
       "      <td>NaN</td>\n",
       "    </tr>\n",
       "    <tr>\n",
       "      <th>1230</th>\n",
       "      <td>Mumbai</td>\n",
       "      <td>2015</td>\n",
       "      <td>59000</td>\n",
       "      <td>Petrol</td>\n",
       "      <td>Automatic</td>\n",
       "      <td>First</td>\n",
       "      <td>17.21</td>\n",
       "      <td>1197.0</td>\n",
       "      <td>103.60</td>\n",
       "      <td>5.0</td>\n",
       "      <td>NaN</td>\n",
       "    </tr>\n",
       "    <tr>\n",
       "      <th>1231</th>\n",
       "      <td>Kolkata</td>\n",
       "      <td>2012</td>\n",
       "      <td>28000</td>\n",
       "      <td>Diesel</td>\n",
       "      <td>Manual</td>\n",
       "      <td>First</td>\n",
       "      <td>23.08</td>\n",
       "      <td>1461.0</td>\n",
       "      <td>63.10</td>\n",
       "      <td>5.0</td>\n",
       "      <td>NaN</td>\n",
       "    </tr>\n",
       "    <tr>\n",
       "      <th>1232</th>\n",
       "      <td>Pune</td>\n",
       "      <td>2013</td>\n",
       "      <td>52262</td>\n",
       "      <td>Petrol</td>\n",
       "      <td>Automatic</td>\n",
       "      <td>Third</td>\n",
       "      <td>17.20</td>\n",
       "      <td>1197.0</td>\n",
       "      <td>103.60</td>\n",
       "      <td>5.0</td>\n",
       "      <td>NaN</td>\n",
       "    </tr>\n",
       "    <tr>\n",
       "      <th>1233</th>\n",
       "      <td>Kochi</td>\n",
       "      <td>2014</td>\n",
       "      <td>72443</td>\n",
       "      <td>Diesel</td>\n",
       "      <td>Automatic</td>\n",
       "      <td>First</td>\n",
       "      <td>10.00</td>\n",
       "      <td>2148.0</td>\n",
       "      <td>170.00</td>\n",
       "      <td>5.0</td>\n",
       "      <td>NaN</td>\n",
       "    </tr>\n",
       "  </tbody>\n",
       "</table>\n",
       "<p>7251 rows × 11 columns</p>\n",
       "</div>"
      ],
      "text/plain": [
       "        Location  Year  Kilometers_Driven Fuel_Type Transmission Owner_Type  \\\n",
       "0         Mumbai  2010              72000       CNG       Manual      First   \n",
       "1           Pune  2015              41000    Diesel       Manual      First   \n",
       "2        Chennai  2011              46000    Petrol       Manual      First   \n",
       "3        Chennai  2012              87000    Diesel       Manual      First   \n",
       "4     Coimbatore  2013              40670    Diesel    Automatic     Second   \n",
       "...          ...   ...                ...       ...          ...        ...   \n",
       "1229   Hyderabad  2011              89411    Diesel       Manual      First   \n",
       "1230      Mumbai  2015              59000    Petrol    Automatic      First   \n",
       "1231     Kolkata  2012              28000    Diesel       Manual      First   \n",
       "1232        Pune  2013              52262    Petrol    Automatic      Third   \n",
       "1233       Kochi  2014              72443    Diesel    Automatic      First   \n",
       "\n",
       "      Mileage  Engine   Power  Seats  Price  \n",
       "0       26.60   998.0   58.16    5.0   1.75  \n",
       "1       19.67  1582.0  126.20    5.0  12.50  \n",
       "2       18.20  1199.0   88.70    5.0   4.50  \n",
       "3       20.77  1248.0   88.76    7.0   6.00  \n",
       "4       15.20  1968.0  140.80    5.0  17.74  \n",
       "...       ...     ...     ...    ...    ...  \n",
       "1229    20.54  1598.0  103.60    5.0    NaN  \n",
       "1230    17.21  1197.0  103.60    5.0    NaN  \n",
       "1231    23.08  1461.0   63.10    5.0    NaN  \n",
       "1232    17.20  1197.0  103.60    5.0    NaN  \n",
       "1233    10.00  2148.0  170.00    5.0    NaN  \n",
       "\n",
       "[7251 rows x 11 columns]"
      ]
     },
     "execution_count": 50,
     "metadata": {},
     "output_type": "execute_result"
    }
   ],
   "source": [
    "df"
   ]
  },
  {
   "cell_type": "code",
   "execution_count": 51,
   "id": "ff82f880",
   "metadata": {},
   "outputs": [
    {
     "data": {
      "text/html": [
       "<div>\n",
       "<style scoped>\n",
       "    .dataframe tbody tr th:only-of-type {\n",
       "        vertical-align: middle;\n",
       "    }\n",
       "\n",
       "    .dataframe tbody tr th {\n",
       "        vertical-align: top;\n",
       "    }\n",
       "\n",
       "    .dataframe thead th {\n",
       "        text-align: right;\n",
       "    }\n",
       "</style>\n",
       "<table border=\"1\" class=\"dataframe\">\n",
       "  <thead>\n",
       "    <tr style=\"text-align: right;\">\n",
       "      <th></th>\n",
       "      <th>Price</th>\n",
       "    </tr>\n",
       "    <tr>\n",
       "      <th>Location</th>\n",
       "      <th></th>\n",
       "    </tr>\n",
       "  </thead>\n",
       "  <tbody>\n",
       "    <tr>\n",
       "      <th>Kolkata</th>\n",
       "      <td>5.661215</td>\n",
       "    </tr>\n",
       "    <tr>\n",
       "      <th>Jaipur</th>\n",
       "      <td>5.809225</td>\n",
       "    </tr>\n",
       "    <tr>\n",
       "      <th>Pune</th>\n",
       "      <td>6.726254</td>\n",
       "    </tr>\n",
       "    <tr>\n",
       "      <th>Chennai</th>\n",
       "      <td>7.753623</td>\n",
       "    </tr>\n",
       "    <tr>\n",
       "      <th>Ahmedabad</th>\n",
       "      <td>8.457321</td>\n",
       "    </tr>\n",
       "    <tr>\n",
       "      <th>Mumbai</th>\n",
       "      <td>9.429329</td>\n",
       "    </tr>\n",
       "    <tr>\n",
       "      <th>Delhi</th>\n",
       "      <td>9.707726</td>\n",
       "    </tr>\n",
       "    <tr>\n",
       "      <th>Hyderabad</th>\n",
       "      <td>9.765452</td>\n",
       "    </tr>\n",
       "    <tr>\n",
       "      <th>Kochi</th>\n",
       "      <td>11.179186</td>\n",
       "    </tr>\n",
       "    <tr>\n",
       "      <th>Bangalore</th>\n",
       "      <td>13.328631</td>\n",
       "    </tr>\n",
       "    <tr>\n",
       "      <th>Coimbatore</th>\n",
       "      <td>15.078223</td>\n",
       "    </tr>\n",
       "  </tbody>\n",
       "</table>\n",
       "</div>"
      ],
      "text/plain": [
       "                Price\n",
       "Location             \n",
       "Kolkata      5.661215\n",
       "Jaipur       5.809225\n",
       "Pune         6.726254\n",
       "Chennai      7.753623\n",
       "Ahmedabad    8.457321\n",
       "Mumbai       9.429329\n",
       "Delhi        9.707726\n",
       "Hyderabad    9.765452\n",
       "Kochi       11.179186\n",
       "Bangalore   13.328631\n",
       "Coimbatore  15.078223"
      ]
     },
     "execution_count": 51,
     "metadata": {},
     "output_type": "execute_result"
    }
   ],
   "source": [
    "Location_price = df[['Location','Price']].groupby('Location').agg('mean').sort_values(by='Price')\n",
    "Location_price"
   ]
  },
  {
   "cell_type": "code",
   "execution_count": 52,
   "id": "9c310c00",
   "metadata": {},
   "outputs": [
    {
     "data": {
      "text/plain": [
       "Text(0.5, 1.0, '地区对价格影响')"
      ]
     },
     "execution_count": 52,
     "metadata": {},
     "output_type": "execute_result"
    },
    {
     "data": {
      "image/png": "[encoded data removed]",
      "text/plain": [
       "<Figure size 640x480 with 1 Axes>"
      ]
     },
     "metadata": {},
     "output_type": "display_data"
    }
   ],
   "source": [
    "p = plt.bar(Location_price.index,Location_price['Price'])\n",
    "plt.xlabel('地区')\n",
    "plt.ylabel('平均价格')\n",
    "plt.xticks(Location_price.index,rotation=90)\n",
    "plt.bar_label(p)\n",
    "plt.title('地区对价格影响')"
   ]
  },
  {
   "cell_type": "code",
   "execution_count": null,
   "id": "98fa97bb",
   "metadata": {},
   "outputs": [],
   "source": []
  },
  {
   "cell_type": "markdown",
   "id": "82510015adff7baf",
   "metadata": {},
   "source": [
    "## 前任车主的里程数和价格"
   ]
  },
  {
   "cell_type": "code",
   "execution_count": 53,
   "id": "d04020de6ba957dd",
   "metadata": {
    "ExecuteTime": {
     "end_time": "2024-04-09T08:06:27.025301Z",
     "start_time": "2024-04-09T08:06:26.707748Z"
    }
   },
   "outputs": [
    {
     "data": {
      "image/png": "[encoded data removed]",
      "text/plain": [
       "<Figure size 640x480 with 1 Axes>"
      ]
     },
     "metadata": {},
     "output_type": "display_data"
    }
   ],
   "source": [
    "sns.scatterplot(data=df,x = 'Kilometers_Driven',y = 'Price')\n",
    "plt.show()"
   ]
  },
  {
   "cell_type": "code",
   "execution_count": 54,
   "id": "74802b9701dd8f5e",
   "metadata": {
    "ExecuteTime": {
     "end_time": "2024-04-09T08:06:27.632412Z",
     "start_time": "2024-04-09T08:06:27.280847Z"
    },
    "scrolled": false
   },
   "outputs": [
    {
     "data": {
      "image/png": "[encoded data removed]",
      "text/plain": [
       "<Figure size 640x480 with 1 Axes>"
      ]
     },
     "metadata": {},
     "output_type": "display_data"
    }
   ],
   "source": [
    "df1 = df[df['Kilometers_Driven']<1000000] #去除里程数的异常值\n",
    "sns.scatterplot(data=df1,x = 'Kilometers_Driven',y = 'Price')\n",
    "plt.show()"
   ]
  },
  {
   "cell_type": "markdown",
   "id": "77cedbaf",
   "metadata": {},
   "source": [
    "- 总体来看都是里程数开得越少，车辆越新，价格也更高"
   ]
  },
  {
   "cell_type": "code",
   "execution_count": 55,
   "id": "c9b52704",
   "metadata": {},
   "outputs": [
    {
     "data": {
      "text/html": [
       "<div>\n",
       "<style scoped>\n",
       "    .dataframe tbody tr th:only-of-type {\n",
       "        vertical-align: middle;\n",
       "    }\n",
       "\n",
       "    .dataframe tbody tr th {\n",
       "        vertical-align: top;\n",
       "    }\n",
       "\n",
       "    .dataframe thead th {\n",
       "        text-align: right;\n",
       "    }\n",
       "</style>\n",
       "<table border=\"1\" class=\"dataframe\">\n",
       "  <thead>\n",
       "    <tr style=\"text-align: right;\">\n",
       "      <th></th>\n",
       "      <th>Location</th>\n",
       "      <th>Year</th>\n",
       "      <th>Kilometers_Driven</th>\n",
       "      <th>Fuel_Type</th>\n",
       "      <th>Transmission</th>\n",
       "      <th>Owner_Type</th>\n",
       "      <th>Mileage</th>\n",
       "      <th>Engine</th>\n",
       "      <th>Power</th>\n",
       "      <th>Seats</th>\n",
       "      <th>Price</th>\n",
       "    </tr>\n",
       "  </thead>\n",
       "  <tbody>\n",
       "    <tr>\n",
       "      <th>0</th>\n",
       "      <td>Mumbai</td>\n",
       "      <td>2010</td>\n",
       "      <td>72000</td>\n",
       "      <td>CNG</td>\n",
       "      <td>Manual</td>\n",
       "      <td>First</td>\n",
       "      <td>26.60</td>\n",
       "      <td>998.0</td>\n",
       "      <td>58.16</td>\n",
       "      <td>5.0</td>\n",
       "      <td>1.75</td>\n",
       "    </tr>\n",
       "    <tr>\n",
       "      <th>1</th>\n",
       "      <td>Pune</td>\n",
       "      <td>2015</td>\n",
       "      <td>41000</td>\n",
       "      <td>Diesel</td>\n",
       "      <td>Manual</td>\n",
       "      <td>First</td>\n",
       "      <td>19.67</td>\n",
       "      <td>1582.0</td>\n",
       "      <td>126.20</td>\n",
       "      <td>5.0</td>\n",
       "      <td>12.50</td>\n",
       "    </tr>\n",
       "    <tr>\n",
       "      <th>2</th>\n",
       "      <td>Chennai</td>\n",
       "      <td>2011</td>\n",
       "      <td>46000</td>\n",
       "      <td>Petrol</td>\n",
       "      <td>Manual</td>\n",
       "      <td>First</td>\n",
       "      <td>18.20</td>\n",
       "      <td>1199.0</td>\n",
       "      <td>88.70</td>\n",
       "      <td>5.0</td>\n",
       "      <td>4.50</td>\n",
       "    </tr>\n",
       "    <tr>\n",
       "      <th>3</th>\n",
       "      <td>Chennai</td>\n",
       "      <td>2012</td>\n",
       "      <td>87000</td>\n",
       "      <td>Diesel</td>\n",
       "      <td>Manual</td>\n",
       "      <td>First</td>\n",
       "      <td>20.77</td>\n",
       "      <td>1248.0</td>\n",
       "      <td>88.76</td>\n",
       "      <td>7.0</td>\n",
       "      <td>6.00</td>\n",
       "    </tr>\n",
       "    <tr>\n",
       "      <th>4</th>\n",
       "      <td>Coimbatore</td>\n",
       "      <td>2013</td>\n",
       "      <td>40670</td>\n",
       "      <td>Diesel</td>\n",
       "      <td>Automatic</td>\n",
       "      <td>Second</td>\n",
       "      <td>15.20</td>\n",
       "      <td>1968.0</td>\n",
       "      <td>140.80</td>\n",
       "      <td>5.0</td>\n",
       "      <td>17.74</td>\n",
       "    </tr>\n",
       "    <tr>\n",
       "      <th>...</th>\n",
       "      <td>...</td>\n",
       "      <td>...</td>\n",
       "      <td>...</td>\n",
       "      <td>...</td>\n",
       "      <td>...</td>\n",
       "      <td>...</td>\n",
       "      <td>...</td>\n",
       "      <td>...</td>\n",
       "      <td>...</td>\n",
       "      <td>...</td>\n",
       "      <td>...</td>\n",
       "    </tr>\n",
       "    <tr>\n",
       "      <th>1229</th>\n",
       "      <td>Hyderabad</td>\n",
       "      <td>2011</td>\n",
       "      <td>89411</td>\n",
       "      <td>Diesel</td>\n",
       "      <td>Manual</td>\n",
       "      <td>First</td>\n",
       "      <td>20.54</td>\n",
       "      <td>1598.0</td>\n",
       "      <td>103.60</td>\n",
       "      <td>5.0</td>\n",
       "      <td>NaN</td>\n",
       "    </tr>\n",
       "    <tr>\n",
       "      <th>1230</th>\n",
       "      <td>Mumbai</td>\n",
       "      <td>2015</td>\n",
       "      <td>59000</td>\n",
       "      <td>Petrol</td>\n",
       "      <td>Automatic</td>\n",
       "      <td>First</td>\n",
       "      <td>17.21</td>\n",
       "      <td>1197.0</td>\n",
       "      <td>103.60</td>\n",
       "      <td>5.0</td>\n",
       "      <td>NaN</td>\n",
       "    </tr>\n",
       "    <tr>\n",
       "      <th>1231</th>\n",
       "      <td>Kolkata</td>\n",
       "      <td>2012</td>\n",
       "      <td>28000</td>\n",
       "      <td>Diesel</td>\n",
       "      <td>Manual</td>\n",
       "      <td>First</td>\n",
       "      <td>23.08</td>\n",
       "      <td>1461.0</td>\n",
       "      <td>63.10</td>\n",
       "      <td>5.0</td>\n",
       "      <td>NaN</td>\n",
       "    </tr>\n",
       "    <tr>\n",
       "      <th>1232</th>\n",
       "      <td>Pune</td>\n",
       "      <td>2013</td>\n",
       "      <td>52262</td>\n",
       "      <td>Petrol</td>\n",
       "      <td>Automatic</td>\n",
       "      <td>Third</td>\n",
       "      <td>17.20</td>\n",
       "      <td>1197.0</td>\n",
       "      <td>103.60</td>\n",
       "      <td>5.0</td>\n",
       "      <td>NaN</td>\n",
       "    </tr>\n",
       "    <tr>\n",
       "      <th>1233</th>\n",
       "      <td>Kochi</td>\n",
       "      <td>2014</td>\n",
       "      <td>72443</td>\n",
       "      <td>Diesel</td>\n",
       "      <td>Automatic</td>\n",
       "      <td>First</td>\n",
       "      <td>10.00</td>\n",
       "      <td>2148.0</td>\n",
       "      <td>170.00</td>\n",
       "      <td>5.0</td>\n",
       "      <td>NaN</td>\n",
       "    </tr>\n",
       "  </tbody>\n",
       "</table>\n",
       "<p>7250 rows × 11 columns</p>\n",
       "</div>"
      ],
      "text/plain": [
       "        Location  Year  Kilometers_Driven Fuel_Type Transmission Owner_Type  \\\n",
       "0         Mumbai  2010              72000       CNG       Manual      First   \n",
       "1           Pune  2015              41000    Diesel       Manual      First   \n",
       "2        Chennai  2011              46000    Petrol       Manual      First   \n",
       "3        Chennai  2012              87000    Diesel       Manual      First   \n",
       "4     Coimbatore  2013              40670    Diesel    Automatic     Second   \n",
       "...          ...   ...                ...       ...          ...        ...   \n",
       "1229   Hyderabad  2011              89411    Diesel       Manual      First   \n",
       "1230      Mumbai  2015              59000    Petrol    Automatic      First   \n",
       "1231     Kolkata  2012              28000    Diesel       Manual      First   \n",
       "1232        Pune  2013              52262    Petrol    Automatic      Third   \n",
       "1233       Kochi  2014              72443    Diesel    Automatic      First   \n",
       "\n",
       "      Mileage  Engine   Power  Seats  Price  \n",
       "0       26.60   998.0   58.16    5.0   1.75  \n",
       "1       19.67  1582.0  126.20    5.0  12.50  \n",
       "2       18.20  1199.0   88.70    5.0   4.50  \n",
       "3       20.77  1248.0   88.76    7.0   6.00  \n",
       "4       15.20  1968.0  140.80    5.0  17.74  \n",
       "...       ...     ...     ...    ...    ...  \n",
       "1229    20.54  1598.0  103.60    5.0    NaN  \n",
       "1230    17.21  1197.0  103.60    5.0    NaN  \n",
       "1231    23.08  1461.0   63.10    5.0    NaN  \n",
       "1232    17.20  1197.0  103.60    5.0    NaN  \n",
       "1233    10.00  2148.0  170.00    5.0    NaN  \n",
       "\n",
       "[7250 rows x 11 columns]"
      ]
     },
     "execution_count": 55,
     "metadata": {},
     "output_type": "execute_result"
    }
   ],
   "source": [
    "df1"
   ]
  },
  {
   "cell_type": "code",
   "execution_count": null,
   "id": "7d423efc",
   "metadata": {},
   "outputs": [],
   "source": []
  },
  {
   "cell_type": "markdown",
   "id": "28b65277ee30e1a1",
   "metadata": {},
   "source": [
    "## 燃料类型和价格"
   ]
  },
  {
   "cell_type": "code",
   "execution_count": 56,
   "id": "f73f03d532038fd7",
   "metadata": {
    "ExecuteTime": {
     "end_time": "2024-04-09T08:06:28.604580Z",
     "start_time": "2024-04-09T08:06:28.596078Z"
    }
   },
   "outputs": [
    {
     "data": {
      "text/plain": [
       "Fuel_Type\n",
       "Diesel      3851\n",
       "Petrol      3323\n",
       "CNG           62\n",
       "LPG           12\n",
       "Electric       2\n",
       "Name: count, dtype: int64"
      ]
     },
     "execution_count": 56,
     "metadata": {},
     "output_type": "execute_result"
    }
   ],
   "source": [
    "df1['Fuel_Type'].value_counts()"
   ]
  },
  {
   "cell_type": "code",
   "execution_count": 57,
   "id": "566a9d94f7864fb",
   "metadata": {
    "ExecuteTime": {
     "end_time": "2024-04-09T08:06:29.723276Z",
     "start_time": "2024-04-09T08:06:29.185182Z"
    }
   },
   "outputs": [
    {
     "data": {
      "text/plain": [
       "<seaborn.axisgrid.FacetGrid at 0x1d7ce22a190>"
      ]
     },
     "execution_count": 57,
     "metadata": {},
     "output_type": "execute_result"
    },
    {
     "data": {
      "image/png": "[encoded data removed]",
      "text/plain": [
       "<Figure size 1200x600 with 1 Axes>"
      ]
     },
     "metadata": {},
     "output_type": "display_data"
    }
   ],
   "source": [
    "sns.catplot(data=df1,x = 'Fuel_Type',y = 'Price',height=6,aspect=2,palette='rainbow')"
   ]
  },
  {
   "cell_type": "markdown",
   "id": "7f1e77e0",
   "metadata": {},
   "source": [
    "- 使用Diesel和Petrol Fuel_Type这两种燃料的汽车二手价格更高"
   ]
  },
  {
   "cell_type": "markdown",
   "id": "33feed83af8df62a",
   "metadata": {},
   "source": [
    "## 转动装置类型"
   ]
  },
  {
   "cell_type": "code",
   "execution_count": 58,
   "id": "394902c189c785bf",
   "metadata": {
    "ExecuteTime": {
     "end_time": "2024-04-09T08:06:30.683446Z",
     "start_time": "2024-04-09T08:06:30.674446Z"
    }
   },
   "outputs": [
    {
     "data": {
      "text/plain": [
       "Transmission\n",
       "Manual       5203\n",
       "Automatic    2047\n",
       "Name: count, dtype: int64"
      ]
     },
     "execution_count": 58,
     "metadata": {},
     "output_type": "execute_result"
    }
   ],
   "source": [
    "df1['Transmission'].value_counts()"
   ]
  },
  {
   "cell_type": "code",
   "execution_count": 59,
   "id": "ad72b03fab6f0651",
   "metadata": {
    "ExecuteTime": {
     "end_time": "2024-04-09T08:06:31.624110Z",
     "start_time": "2024-04-09T08:06:31.321057Z"
    }
   },
   "outputs": [
    {
     "data": {
      "image/png": "[encoded data removed]",
      "text/plain": [
       "<Figure size 500x500 with 1 Axes>"
      ]
     },
     "metadata": {},
     "output_type": "display_data"
    }
   ],
   "source": [
    "sns.catplot(data=df1,x = 'Transmission',kind='count',palette='rainbow')\n",
    "plt.show()"
   ]
  },
  {
   "cell_type": "code",
   "execution_count": 60,
   "id": "01e74bb1",
   "metadata": {},
   "outputs": [],
   "source": [
    "Trans_price = df1[['Transmission','Price']].groupby('Transmission').agg('mean')#汽车使用的传动装置的类型与价格"
   ]
  },
  {
   "cell_type": "code",
   "execution_count": 61,
   "id": "9bd3f6d6",
   "metadata": {},
   "outputs": [
    {
     "data": {
      "text/plain": [
       "[Text(0, 0, '19.8188'), Text(0, 0, '5.3327')]"
      ]
     },
     "execution_count": 61,
     "metadata": {},
     "output_type": "execute_result"
    },
    {
     "data": {
      "image/png": "[encoded data removed]",
      "text/plain": [
       "<Figure size 640x480 with 1 Axes>"
      ]
     },
     "metadata": {},
     "output_type": "display_data"
    }
   ],
   "source": [
    "p = plt.bar(Trans_price.index,Trans_price['Price'],align='center')\n",
    "plt.xticks(Trans_price.index)\n",
    "plt.xlabel('Transmission')\n",
    "plt.ylabel('Price',fontsize=15)\n",
    "plt.title('传动装置对价格的影响')\n",
    "plt.bar_label(p)"
   ]
  },
  {
   "cell_type": "markdown",
   "id": "af1ab21a86bc67c1",
   "metadata": {},
   "source": [
    "## 几手车主和价格的关系"
   ]
  },
  {
   "cell_type": "code",
   "execution_count": 62,
   "id": "52e207e185cd9f26",
   "metadata": {
    "ExecuteTime": {
     "end_time": "2024-04-09T08:06:31.736632Z",
     "start_time": "2024-04-09T08:06:31.726629Z"
    }
   },
   "outputs": [
    {
     "data": {
      "text/plain": [
       "Owner_Type\n",
       "First             5949\n",
       "Second            1152\n",
       "Third              137\n",
       "Fourth & Above      12\n",
       "Name: count, dtype: int64"
      ]
     },
     "execution_count": 62,
     "metadata": {},
     "output_type": "execute_result"
    }
   ],
   "source": [
    "df1['Owner_Type'].value_counts()"
   ]
  },
  {
   "cell_type": "code",
   "execution_count": 63,
   "id": "2143adb22312cc2",
   "metadata": {
    "ExecuteTime": {
     "end_time": "2024-04-09T08:06:33.171382Z",
     "start_time": "2024-04-09T08:06:32.669295Z"
    }
   },
   "outputs": [
    {
     "data": {
      "image/png": "[encoded data removed]",
      "text/plain": [
       "<Figure size 1200x600 with 1 Axes>"
      ]
     },
     "metadata": {},
     "output_type": "display_data"
    }
   ],
   "source": [
    "sns.catplot(data=df1,x = 'Owner_Type',y = 'Price',height=6,aspect=2,palette='rainbow',jitter=False)#jitter=False表示将数据设置在一条直线上\n",
    "plt.show()"
   ]
  },
  {
   "cell_type": "code",
   "execution_count": 64,
   "id": "73874538",
   "metadata": {},
   "outputs": [],
   "source": [
    "Own_price = df1[['Owner_Type','Price']].groupby('Owner_Type').agg('mean').sort_values(by='Price')#转手次数与价格"
   ]
  },
  {
   "cell_type": "code",
   "execution_count": 65,
   "id": "c567c944",
   "metadata": {},
   "outputs": [
    {
     "data": {
      "image/png": "[encoded data removed]",
      "text/plain": [
       "<Figure size 640x480 with 1 Axes>"
      ]
     },
     "metadata": {},
     "output_type": "display_data"
    }
   ],
   "source": [
    "p = plt.bar(Own_price.index,Own_price['Price'],align='center')\n",
    "plt.xticks(Own_price.index,fontsize=15)\n",
    "plt.xlabel('Own_price')\n",
    "plt.ylabel('Price')\n",
    "plt.title('转手次数对价格的影响')\n",
    "plt.bar_label(p)\n",
    "plt.show()"
   ]
  },
  {
   "cell_type": "markdown",
   "id": "dcca0225",
   "metadata": {},
   "source": [
    "- 转手次数越少，汽车的平均价值越高，转手三次的某辆汽车价格高，或许是因为汽车为收藏车，具有收藏价值"
   ]
  },
  {
   "cell_type": "markdown",
   "id": "63bea01c8106781b",
   "metadata": {},
   "source": [
    "## Mileage与价格\n",
    "Mileage汽车公司提供的标准里程"
   ]
  },
  {
   "cell_type": "code",
   "execution_count": 66,
   "id": "7a6d20136a10b4d8",
   "metadata": {
    "ExecuteTime": {
     "end_time": "2024-04-09T08:06:34.121551Z",
     "start_time": "2024-04-09T08:06:33.800494Z"
    }
   },
   "outputs": [
    {
     "data": {
      "image/png": "[encoded data removed]",
      "text/plain": [
       "<Figure size 640x480 with 1 Axes>"
      ]
     },
     "metadata": {},
     "output_type": "display_data"
    }
   ],
   "source": [
    "sns.scatterplot(data=df1,x = 'Mileage',y = 'Price')\n",
    "plt.show()"
   ]
  },
  {
   "cell_type": "code",
   "execution_count": 67,
   "id": "a5a5be9acce3cff4",
   "metadata": {
    "ExecuteTime": {
     "end_time": "2024-04-09T08:06:34.222071Z",
     "start_time": "2024-04-09T08:06:34.213068Z"
    }
   },
   "outputs": [
    {
     "data": {
      "text/plain": [
       "Owner_Type\n",
       "First             53\n",
       "Second            22\n",
       "Third              4\n",
       "Fourth & Above     2\n",
       "Name: count, dtype: int64"
      ]
     },
     "execution_count": 67,
     "metadata": {},
     "output_type": "execute_result"
    }
   ],
   "source": [
    "df1[df1['Mileage'] == 0]['Owner_Type'].value_counts()\n",
    "#分析里程数为0的转手情况   "
   ]
  },
  {
   "cell_type": "markdown",
   "id": "be7dbfe96b1f5438",
   "metadata": {},
   "source": [
    "## Engine发动机排量和价格"
   ]
  },
  {
   "cell_type": "code",
   "execution_count": 68,
   "id": "5acfe5cf25feeb14",
   "metadata": {
    "ExecuteTime": {
     "end_time": "2024-04-09T08:06:35.418781Z",
     "start_time": "2024-04-09T08:06:35.107724Z"
    }
   },
   "outputs": [
    {
     "data": {
      "image/png": "[encoded data removed]",
      "text/plain": [
       "<Figure size 640x480 with 1 Axes>"
      ]
     },
     "metadata": {},
     "output_type": "display_data"
    }
   ],
   "source": [
    "sns.scatterplot(data=df1,x = 'Engine',y = 'Price')\n",
    "plt.show()"
   ]
  },
  {
   "cell_type": "markdown",
   "id": "d2aef8c55f81276a",
   "metadata": {},
   "source": [
    "## 发动机功率与价格"
   ]
  },
  {
   "cell_type": "code",
   "execution_count": 69,
   "id": "4897792058d8b0a2",
   "metadata": {
    "ExecuteTime": {
     "end_time": "2024-04-09T08:06:36.526473Z",
     "start_time": "2024-04-09T08:06:36.502972Z"
    }
   },
   "outputs": [
    {
     "data": {
      "text/html": [
       "<div>\n",
       "<style scoped>\n",
       "    .dataframe tbody tr th:only-of-type {\n",
       "        vertical-align: middle;\n",
       "    }\n",
       "\n",
       "    .dataframe tbody tr th {\n",
       "        vertical-align: top;\n",
       "    }\n",
       "\n",
       "    .dataframe thead th {\n",
       "        text-align: right;\n",
       "    }\n",
       "</style>\n",
       "<table border=\"1\" class=\"dataframe\">\n",
       "  <thead>\n",
       "    <tr style=\"text-align: right;\">\n",
       "      <th></th>\n",
       "      <th>Location</th>\n",
       "      <th>Year</th>\n",
       "      <th>Kilometers_Driven</th>\n",
       "      <th>Fuel_Type</th>\n",
       "      <th>Transmission</th>\n",
       "      <th>Owner_Type</th>\n",
       "      <th>Mileage</th>\n",
       "      <th>Engine</th>\n",
       "      <th>Power</th>\n",
       "      <th>Seats</th>\n",
       "      <th>Price</th>\n",
       "    </tr>\n",
       "  </thead>\n",
       "  <tbody>\n",
       "    <tr>\n",
       "      <th>0</th>\n",
       "      <td>Mumbai</td>\n",
       "      <td>2010</td>\n",
       "      <td>72000</td>\n",
       "      <td>CNG</td>\n",
       "      <td>Manual</td>\n",
       "      <td>First</td>\n",
       "      <td>26.60</td>\n",
       "      <td>998.0</td>\n",
       "      <td>58.16</td>\n",
       "      <td>5.0</td>\n",
       "      <td>1.75</td>\n",
       "    </tr>\n",
       "    <tr>\n",
       "      <th>1</th>\n",
       "      <td>Pune</td>\n",
       "      <td>2015</td>\n",
       "      <td>41000</td>\n",
       "      <td>Diesel</td>\n",
       "      <td>Manual</td>\n",
       "      <td>First</td>\n",
       "      <td>19.67</td>\n",
       "      <td>1582.0</td>\n",
       "      <td>126.20</td>\n",
       "      <td>5.0</td>\n",
       "      <td>12.50</td>\n",
       "    </tr>\n",
       "    <tr>\n",
       "      <th>2</th>\n",
       "      <td>Chennai</td>\n",
       "      <td>2011</td>\n",
       "      <td>46000</td>\n",
       "      <td>Petrol</td>\n",
       "      <td>Manual</td>\n",
       "      <td>First</td>\n",
       "      <td>18.20</td>\n",
       "      <td>1199.0</td>\n",
       "      <td>88.70</td>\n",
       "      <td>5.0</td>\n",
       "      <td>4.50</td>\n",
       "    </tr>\n",
       "    <tr>\n",
       "      <th>3</th>\n",
       "      <td>Chennai</td>\n",
       "      <td>2012</td>\n",
       "      <td>87000</td>\n",
       "      <td>Diesel</td>\n",
       "      <td>Manual</td>\n",
       "      <td>First</td>\n",
       "      <td>20.77</td>\n",
       "      <td>1248.0</td>\n",
       "      <td>88.76</td>\n",
       "      <td>7.0</td>\n",
       "      <td>6.00</td>\n",
       "    </tr>\n",
       "    <tr>\n",
       "      <th>4</th>\n",
       "      <td>Coimbatore</td>\n",
       "      <td>2013</td>\n",
       "      <td>40670</td>\n",
       "      <td>Diesel</td>\n",
       "      <td>Automatic</td>\n",
       "      <td>Second</td>\n",
       "      <td>15.20</td>\n",
       "      <td>1968.0</td>\n",
       "      <td>140.80</td>\n",
       "      <td>5.0</td>\n",
       "      <td>17.74</td>\n",
       "    </tr>\n",
       "    <tr>\n",
       "      <th>...</th>\n",
       "      <td>...</td>\n",
       "      <td>...</td>\n",
       "      <td>...</td>\n",
       "      <td>...</td>\n",
       "      <td>...</td>\n",
       "      <td>...</td>\n",
       "      <td>...</td>\n",
       "      <td>...</td>\n",
       "      <td>...</td>\n",
       "      <td>...</td>\n",
       "      <td>...</td>\n",
       "    </tr>\n",
       "    <tr>\n",
       "      <th>1229</th>\n",
       "      <td>Hyderabad</td>\n",
       "      <td>2011</td>\n",
       "      <td>89411</td>\n",
       "      <td>Diesel</td>\n",
       "      <td>Manual</td>\n",
       "      <td>First</td>\n",
       "      <td>20.54</td>\n",
       "      <td>1598.0</td>\n",
       "      <td>103.60</td>\n",
       "      <td>5.0</td>\n",
       "      <td>NaN</td>\n",
       "    </tr>\n",
       "    <tr>\n",
       "      <th>1230</th>\n",
       "      <td>Mumbai</td>\n",
       "      <td>2015</td>\n",
       "      <td>59000</td>\n",
       "      <td>Petrol</td>\n",
       "      <td>Automatic</td>\n",
       "      <td>First</td>\n",
       "      <td>17.21</td>\n",
       "      <td>1197.0</td>\n",
       "      <td>103.60</td>\n",
       "      <td>5.0</td>\n",
       "      <td>NaN</td>\n",
       "    </tr>\n",
       "    <tr>\n",
       "      <th>1231</th>\n",
       "      <td>Kolkata</td>\n",
       "      <td>2012</td>\n",
       "      <td>28000</td>\n",
       "      <td>Diesel</td>\n",
       "      <td>Manual</td>\n",
       "      <td>First</td>\n",
       "      <td>23.08</td>\n",
       "      <td>1461.0</td>\n",
       "      <td>63.10</td>\n",
       "      <td>5.0</td>\n",
       "      <td>NaN</td>\n",
       "    </tr>\n",
       "    <tr>\n",
       "      <th>1232</th>\n",
       "      <td>Pune</td>\n",
       "      <td>2013</td>\n",
       "      <td>52262</td>\n",
       "      <td>Petrol</td>\n",
       "      <td>Automatic</td>\n",
       "      <td>Third</td>\n",
       "      <td>17.20</td>\n",
       "      <td>1197.0</td>\n",
       "      <td>103.60</td>\n",
       "      <td>5.0</td>\n",
       "      <td>NaN</td>\n",
       "    </tr>\n",
       "    <tr>\n",
       "      <th>1233</th>\n",
       "      <td>Kochi</td>\n",
       "      <td>2014</td>\n",
       "      <td>72443</td>\n",
       "      <td>Diesel</td>\n",
       "      <td>Automatic</td>\n",
       "      <td>First</td>\n",
       "      <td>10.00</td>\n",
       "      <td>2148.0</td>\n",
       "      <td>170.00</td>\n",
       "      <td>5.0</td>\n",
       "      <td>NaN</td>\n",
       "    </tr>\n",
       "  </tbody>\n",
       "</table>\n",
       "<p>7250 rows × 11 columns</p>\n",
       "</div>"
      ],
      "text/plain": [
       "        Location  Year  Kilometers_Driven Fuel_Type Transmission Owner_Type  \\\n",
       "0         Mumbai  2010              72000       CNG       Manual      First   \n",
       "1           Pune  2015              41000    Diesel       Manual      First   \n",
       "2        Chennai  2011              46000    Petrol       Manual      First   \n",
       "3        Chennai  2012              87000    Diesel       Manual      First   \n",
       "4     Coimbatore  2013              40670    Diesel    Automatic     Second   \n",
       "...          ...   ...                ...       ...          ...        ...   \n",
       "1229   Hyderabad  2011              89411    Diesel       Manual      First   \n",
       "1230      Mumbai  2015              59000    Petrol    Automatic      First   \n",
       "1231     Kolkata  2012              28000    Diesel       Manual      First   \n",
       "1232        Pune  2013              52262    Petrol    Automatic      Third   \n",
       "1233       Kochi  2014              72443    Diesel    Automatic      First   \n",
       "\n",
       "      Mileage  Engine   Power  Seats  Price  \n",
       "0       26.60   998.0   58.16    5.0   1.75  \n",
       "1       19.67  1582.0  126.20    5.0  12.50  \n",
       "2       18.20  1199.0   88.70    5.0   4.50  \n",
       "3       20.77  1248.0   88.76    7.0   6.00  \n",
       "4       15.20  1968.0  140.80    5.0  17.74  \n",
       "...       ...     ...     ...    ...    ...  \n",
       "1229    20.54  1598.0  103.60    5.0    NaN  \n",
       "1230    17.21  1197.0  103.60    5.0    NaN  \n",
       "1231    23.08  1461.0   63.10    5.0    NaN  \n",
       "1232    17.20  1197.0  103.60    5.0    NaN  \n",
       "1233    10.00  2148.0  170.00    5.0    NaN  \n",
       "\n",
       "[7250 rows x 11 columns]"
      ]
     },
     "execution_count": 69,
     "metadata": {},
     "output_type": "execute_result"
    }
   ],
   "source": [
    "df1"
   ]
  },
  {
   "cell_type": "code",
   "execution_count": 70,
   "id": "dda7f2e841432258",
   "metadata": {
    "ExecuteTime": {
     "end_time": "2024-04-09T08:06:36.984056Z",
     "start_time": "2024-04-09T08:06:36.668500Z"
    }
   },
   "outputs": [
    {
     "data": {
      "image/png": "[encoded data removed]",
      "text/plain": [
       "<Figure size 640x480 with 1 Axes>"
      ]
     },
     "metadata": {},
     "output_type": "display_data"
    }
   ],
   "source": [
    "sns.scatterplot(data=df1,x = 'Power',y = 'Price')\n",
    "plt.show()"
   ]
  },
  {
   "cell_type": "markdown",
   "id": "d783b582848372b5",
   "metadata": {},
   "source": [
    "## 座位数和价格"
   ]
  },
  {
   "cell_type": "code",
   "execution_count": 71,
   "id": "7e5a0e9828d86204",
   "metadata": {
    "ExecuteTime": {
     "end_time": "2024-04-09T08:06:38.361297Z",
     "start_time": "2024-04-09T08:06:37.839706Z"
    }
   },
   "outputs": [
    {
     "data": {
      "image/png": "[encoded data removed]",
      "text/plain": [
       "<Figure size 500x500 with 1 Axes>"
      ]
     },
     "metadata": {},
     "output_type": "display_data"
    }
   ],
   "source": [
    "sns.catplot(data=df1,x = 'Seats',y = 'Price',palette='rainbow')\n",
    "plt.show()"
   ]
  },
  {
   "cell_type": "code",
   "execution_count": 72,
   "id": "0700a358",
   "metadata": {},
   "outputs": [],
   "source": [
    "seats_price =df1[['Seats','Price']].groupby('Seats').agg('mean').sort_values(by='Seats')#座位与价格"
   ]
  },
  {
   "cell_type": "code",
   "execution_count": 73,
   "id": "f06fd73b",
   "metadata": {},
   "outputs": [
    {
     "data": {
      "image/png": "[encoded data removed]",
      "text/plain": [
       "<Figure size 640x480 with 1 Axes>"
      ]
     },
     "metadata": {},
     "output_type": "display_data"
    }
   ],
   "source": [
    "p = plt.bar(seats_price.index,seats_price['Price'],align='center')\n",
    "plt.xticks(seats_price.index)\n",
    "plt.xlabel('Seats')\n",
    "plt.ylabel('Price')\n",
    "plt.title('座位对价格的影响')\n",
    "plt.bar_label(p)\n",
    "plt.show()"
   ]
  },
  {
   "cell_type": "markdown",
   "id": "d831f681",
   "metadata": {},
   "source": [
    "- 两座的汽车销售平均价格最高，一般两座的车都为豪车跑车，所以价格高"
   ]
  },
  {
   "cell_type": "markdown",
   "id": "f1f3cfda",
   "metadata": {},
   "source": [
    "## 特征编码\n",
    "- map\n",
    "- sub,replace\n",
    "- sklearn.preprocessing.LabelEncoder/OneHotEncoder 标签编码/独热编码"
   ]
  },
  {
   "cell_type": "code",
   "execution_count": 74,
   "id": "1f9566e711afc840",
   "metadata": {
    "ExecuteTime": {
     "end_time": "2024-04-09T08:06:39.347970Z",
     "start_time": "2024-04-09T08:06:39.330966Z"
    }
   },
   "outputs": [
    {
     "data": {
      "text/html": [
       "<div>\n",
       "<style scoped>\n",
       "    .dataframe tbody tr th:only-of-type {\n",
       "        vertical-align: middle;\n",
       "    }\n",
       "\n",
       "    .dataframe tbody tr th {\n",
       "        vertical-align: top;\n",
       "    }\n",
       "\n",
       "    .dataframe thead th {\n",
       "        text-align: right;\n",
       "    }\n",
       "</style>\n",
       "<table border=\"1\" class=\"dataframe\">\n",
       "  <thead>\n",
       "    <tr style=\"text-align: right;\">\n",
       "      <th></th>\n",
       "      <th>Location</th>\n",
       "      <th>Year</th>\n",
       "      <th>Kilometers_Driven</th>\n",
       "      <th>Fuel_Type</th>\n",
       "      <th>Transmission</th>\n",
       "      <th>Owner_Type</th>\n",
       "      <th>Mileage</th>\n",
       "      <th>Engine</th>\n",
       "      <th>Power</th>\n",
       "      <th>Seats</th>\n",
       "      <th>Price</th>\n",
       "    </tr>\n",
       "  </thead>\n",
       "  <tbody>\n",
       "    <tr>\n",
       "      <th>0</th>\n",
       "      <td>Mumbai</td>\n",
       "      <td>2010</td>\n",
       "      <td>72000</td>\n",
       "      <td>CNG</td>\n",
       "      <td>Manual</td>\n",
       "      <td>First</td>\n",
       "      <td>26.60</td>\n",
       "      <td>998.0</td>\n",
       "      <td>58.16</td>\n",
       "      <td>5.0</td>\n",
       "      <td>1.75</td>\n",
       "    </tr>\n",
       "    <tr>\n",
       "      <th>1</th>\n",
       "      <td>Pune</td>\n",
       "      <td>2015</td>\n",
       "      <td>41000</td>\n",
       "      <td>Diesel</td>\n",
       "      <td>Manual</td>\n",
       "      <td>First</td>\n",
       "      <td>19.67</td>\n",
       "      <td>1582.0</td>\n",
       "      <td>126.20</td>\n",
       "      <td>5.0</td>\n",
       "      <td>12.50</td>\n",
       "    </tr>\n",
       "    <tr>\n",
       "      <th>2</th>\n",
       "      <td>Chennai</td>\n",
       "      <td>2011</td>\n",
       "      <td>46000</td>\n",
       "      <td>Petrol</td>\n",
       "      <td>Manual</td>\n",
       "      <td>First</td>\n",
       "      <td>18.20</td>\n",
       "      <td>1199.0</td>\n",
       "      <td>88.70</td>\n",
       "      <td>5.0</td>\n",
       "      <td>4.50</td>\n",
       "    </tr>\n",
       "    <tr>\n",
       "      <th>3</th>\n",
       "      <td>Chennai</td>\n",
       "      <td>2012</td>\n",
       "      <td>87000</td>\n",
       "      <td>Diesel</td>\n",
       "      <td>Manual</td>\n",
       "      <td>First</td>\n",
       "      <td>20.77</td>\n",
       "      <td>1248.0</td>\n",
       "      <td>88.76</td>\n",
       "      <td>7.0</td>\n",
       "      <td>6.00</td>\n",
       "    </tr>\n",
       "    <tr>\n",
       "      <th>4</th>\n",
       "      <td>Coimbatore</td>\n",
       "      <td>2013</td>\n",
       "      <td>40670</td>\n",
       "      <td>Diesel</td>\n",
       "      <td>Automatic</td>\n",
       "      <td>Second</td>\n",
       "      <td>15.20</td>\n",
       "      <td>1968.0</td>\n",
       "      <td>140.80</td>\n",
       "      <td>5.0</td>\n",
       "      <td>17.74</td>\n",
       "    </tr>\n",
       "    <tr>\n",
       "      <th>...</th>\n",
       "      <td>...</td>\n",
       "      <td>...</td>\n",
       "      <td>...</td>\n",
       "      <td>...</td>\n",
       "      <td>...</td>\n",
       "      <td>...</td>\n",
       "      <td>...</td>\n",
       "      <td>...</td>\n",
       "      <td>...</td>\n",
       "      <td>...</td>\n",
       "      <td>...</td>\n",
       "    </tr>\n",
       "    <tr>\n",
       "      <th>1229</th>\n",
       "      <td>Hyderabad</td>\n",
       "      <td>2011</td>\n",
       "      <td>89411</td>\n",
       "      <td>Diesel</td>\n",
       "      <td>Manual</td>\n",
       "      <td>First</td>\n",
       "      <td>20.54</td>\n",
       "      <td>1598.0</td>\n",
       "      <td>103.60</td>\n",
       "      <td>5.0</td>\n",
       "      <td>NaN</td>\n",
       "    </tr>\n",
       "    <tr>\n",
       "      <th>1230</th>\n",
       "      <td>Mumbai</td>\n",
       "      <td>2015</td>\n",
       "      <td>59000</td>\n",
       "      <td>Petrol</td>\n",
       "      <td>Automatic</td>\n",
       "      <td>First</td>\n",
       "      <td>17.21</td>\n",
       "      <td>1197.0</td>\n",
       "      <td>103.60</td>\n",
       "      <td>5.0</td>\n",
       "      <td>NaN</td>\n",
       "    </tr>\n",
       "    <tr>\n",
       "      <th>1231</th>\n",
       "      <td>Kolkata</td>\n",
       "      <td>2012</td>\n",
       "      <td>28000</td>\n",
       "      <td>Diesel</td>\n",
       "      <td>Manual</td>\n",
       "      <td>First</td>\n",
       "      <td>23.08</td>\n",
       "      <td>1461.0</td>\n",
       "      <td>63.10</td>\n",
       "      <td>5.0</td>\n",
       "      <td>NaN</td>\n",
       "    </tr>\n",
       "    <tr>\n",
       "      <th>1232</th>\n",
       "      <td>Pune</td>\n",
       "      <td>2013</td>\n",
       "      <td>52262</td>\n",
       "      <td>Petrol</td>\n",
       "      <td>Automatic</td>\n",
       "      <td>Third</td>\n",
       "      <td>17.20</td>\n",
       "      <td>1197.0</td>\n",
       "      <td>103.60</td>\n",
       "      <td>5.0</td>\n",
       "      <td>NaN</td>\n",
       "    </tr>\n",
       "    <tr>\n",
       "      <th>1233</th>\n",
       "      <td>Kochi</td>\n",
       "      <td>2014</td>\n",
       "      <td>72443</td>\n",
       "      <td>Diesel</td>\n",
       "      <td>Automatic</td>\n",
       "      <td>First</td>\n",
       "      <td>10.00</td>\n",
       "      <td>2148.0</td>\n",
       "      <td>170.00</td>\n",
       "      <td>5.0</td>\n",
       "      <td>NaN</td>\n",
       "    </tr>\n",
       "  </tbody>\n",
       "</table>\n",
       "<p>7250 rows × 11 columns</p>\n",
       "</div>"
      ],
      "text/plain": [
       "        Location  Year  Kilometers_Driven Fuel_Type Transmission Owner_Type  \\\n",
       "0         Mumbai  2010              72000       CNG       Manual      First   \n",
       "1           Pune  2015              41000    Diesel       Manual      First   \n",
       "2        Chennai  2011              46000    Petrol       Manual      First   \n",
       "3        Chennai  2012              87000    Diesel       Manual      First   \n",
       "4     Coimbatore  2013              40670    Diesel    Automatic     Second   \n",
       "...          ...   ...                ...       ...          ...        ...   \n",
       "1229   Hyderabad  2011              89411    Diesel       Manual      First   \n",
       "1230      Mumbai  2015              59000    Petrol    Automatic      First   \n",
       "1231     Kolkata  2012              28000    Diesel       Manual      First   \n",
       "1232        Pune  2013              52262    Petrol    Automatic      Third   \n",
       "1233       Kochi  2014              72443    Diesel    Automatic      First   \n",
       "\n",
       "      Mileage  Engine   Power  Seats  Price  \n",
       "0       26.60   998.0   58.16    5.0   1.75  \n",
       "1       19.67  1582.0  126.20    5.0  12.50  \n",
       "2       18.20  1199.0   88.70    5.0   4.50  \n",
       "3       20.77  1248.0   88.76    7.0   6.00  \n",
       "4       15.20  1968.0  140.80    5.0  17.74  \n",
       "...       ...     ...     ...    ...    ...  \n",
       "1229    20.54  1598.0  103.60    5.0    NaN  \n",
       "1230    17.21  1197.0  103.60    5.0    NaN  \n",
       "1231    23.08  1461.0   63.10    5.0    NaN  \n",
       "1232    17.20  1197.0  103.60    5.0    NaN  \n",
       "1233    10.00  2148.0  170.00    5.0    NaN  \n",
       "\n",
       "[7250 rows x 11 columns]"
      ]
     },
     "execution_count": 74,
     "metadata": {},
     "output_type": "execute_result"
    }
   ],
   "source": [
    "df1"
   ]
  },
  {
   "cell_type": "code",
   "execution_count": 75,
   "id": "7b0987d482fa89b1",
   "metadata": {
    "ExecuteTime": {
     "end_time": "2024-04-09T08:06:39.920570Z",
     "start_time": "2024-04-09T08:06:39.916571Z"
    }
   },
   "outputs": [],
   "source": [
    "### 标签编码"
   ]
  },
  {
   "cell_type": "code",
   "execution_count": 76,
   "id": "5283ea751979c0b5",
   "metadata": {
    "ExecuteTime": {
     "end_time": "2024-04-09T08:06:40.818228Z",
     "start_time": "2024-04-09T08:06:40.417657Z"
    }
   },
   "outputs": [],
   "source": [
    "from sklearn.preprocessing import LabelEncoder,OneHotEncoder\n",
    "for i in ['Location','Fuel_Type','Transmission','Owner_Type']:\n",
    "    lbl = LabelEncoder()\n",
    "    lbl.fit(df1[i])\n",
    "    df1[i] = lbl.transform(df1[i]) #替换为转化后的数据"
   ]
  },
  {
   "cell_type": "code",
   "execution_count": 77,
   "id": "e423d6a471aec959",
   "metadata": {
    "ExecuteTime": {
     "end_time": "2024-04-09T08:06:40.873738Z",
     "start_time": "2024-04-09T08:06:40.851735Z"
    }
   },
   "outputs": [
    {
     "data": {
      "text/html": [
       "<div>\n",
       "<style scoped>\n",
       "    .dataframe tbody tr th:only-of-type {\n",
       "        vertical-align: middle;\n",
       "    }\n",
       "\n",
       "    .dataframe tbody tr th {\n",
       "        vertical-align: top;\n",
       "    }\n",
       "\n",
       "    .dataframe thead th {\n",
       "        text-align: right;\n",
       "    }\n",
       "</style>\n",
       "<table border=\"1\" class=\"dataframe\">\n",
       "  <thead>\n",
       "    <tr style=\"text-align: right;\">\n",
       "      <th></th>\n",
       "      <th>Location</th>\n",
       "      <th>Year</th>\n",
       "      <th>Kilometers_Driven</th>\n",
       "      <th>Fuel_Type</th>\n",
       "      <th>Transmission</th>\n",
       "      <th>Owner_Type</th>\n",
       "      <th>Mileage</th>\n",
       "      <th>Engine</th>\n",
       "      <th>Power</th>\n",
       "      <th>Seats</th>\n",
       "      <th>Price</th>\n",
       "    </tr>\n",
       "  </thead>\n",
       "  <tbody>\n",
       "    <tr>\n",
       "      <th>0</th>\n",
       "      <td>9</td>\n",
       "      <td>2010</td>\n",
       "      <td>72000</td>\n",
       "      <td>0</td>\n",
       "      <td>1</td>\n",
       "      <td>0</td>\n",
       "      <td>26.60</td>\n",
       "      <td>998.0</td>\n",
       "      <td>58.16</td>\n",
       "      <td>5.0</td>\n",
       "      <td>1.75</td>\n",
       "    </tr>\n",
       "    <tr>\n",
       "      <th>1</th>\n",
       "      <td>10</td>\n",
       "      <td>2015</td>\n",
       "      <td>41000</td>\n",
       "      <td>1</td>\n",
       "      <td>1</td>\n",
       "      <td>0</td>\n",
       "      <td>19.67</td>\n",
       "      <td>1582.0</td>\n",
       "      <td>126.20</td>\n",
       "      <td>5.0</td>\n",
       "      <td>12.50</td>\n",
       "    </tr>\n",
       "    <tr>\n",
       "      <th>2</th>\n",
       "      <td>2</td>\n",
       "      <td>2011</td>\n",
       "      <td>46000</td>\n",
       "      <td>4</td>\n",
       "      <td>1</td>\n",
       "      <td>0</td>\n",
       "      <td>18.20</td>\n",
       "      <td>1199.0</td>\n",
       "      <td>88.70</td>\n",
       "      <td>5.0</td>\n",
       "      <td>4.50</td>\n",
       "    </tr>\n",
       "    <tr>\n",
       "      <th>3</th>\n",
       "      <td>2</td>\n",
       "      <td>2012</td>\n",
       "      <td>87000</td>\n",
       "      <td>1</td>\n",
       "      <td>1</td>\n",
       "      <td>0</td>\n",
       "      <td>20.77</td>\n",
       "      <td>1248.0</td>\n",
       "      <td>88.76</td>\n",
       "      <td>7.0</td>\n",
       "      <td>6.00</td>\n",
       "    </tr>\n",
       "    <tr>\n",
       "      <th>4</th>\n",
       "      <td>3</td>\n",
       "      <td>2013</td>\n",
       "      <td>40670</td>\n",
       "      <td>1</td>\n",
       "      <td>0</td>\n",
       "      <td>2</td>\n",
       "      <td>15.20</td>\n",
       "      <td>1968.0</td>\n",
       "      <td>140.80</td>\n",
       "      <td>5.0</td>\n",
       "      <td>17.74</td>\n",
       "    </tr>\n",
       "    <tr>\n",
       "      <th>...</th>\n",
       "      <td>...</td>\n",
       "      <td>...</td>\n",
       "      <td>...</td>\n",
       "      <td>...</td>\n",
       "      <td>...</td>\n",
       "      <td>...</td>\n",
       "      <td>...</td>\n",
       "      <td>...</td>\n",
       "      <td>...</td>\n",
       "      <td>...</td>\n",
       "      <td>...</td>\n",
       "    </tr>\n",
       "    <tr>\n",
       "      <th>1229</th>\n",
       "      <td>5</td>\n",
       "      <td>2011</td>\n",
       "      <td>89411</td>\n",
       "      <td>1</td>\n",
       "      <td>1</td>\n",
       "      <td>0</td>\n",
       "      <td>20.54</td>\n",
       "      <td>1598.0</td>\n",
       "      <td>103.60</td>\n",
       "      <td>5.0</td>\n",
       "      <td>NaN</td>\n",
       "    </tr>\n",
       "    <tr>\n",
       "      <th>1230</th>\n",
       "      <td>9</td>\n",
       "      <td>2015</td>\n",
       "      <td>59000</td>\n",
       "      <td>4</td>\n",
       "      <td>0</td>\n",
       "      <td>0</td>\n",
       "      <td>17.21</td>\n",
       "      <td>1197.0</td>\n",
       "      <td>103.60</td>\n",
       "      <td>5.0</td>\n",
       "      <td>NaN</td>\n",
       "    </tr>\n",
       "    <tr>\n",
       "      <th>1231</th>\n",
       "      <td>8</td>\n",
       "      <td>2012</td>\n",
       "      <td>28000</td>\n",
       "      <td>1</td>\n",
       "      <td>1</td>\n",
       "      <td>0</td>\n",
       "      <td>23.08</td>\n",
       "      <td>1461.0</td>\n",
       "      <td>63.10</td>\n",
       "      <td>5.0</td>\n",
       "      <td>NaN</td>\n",
       "    </tr>\n",
       "    <tr>\n",
       "      <th>1232</th>\n",
       "      <td>10</td>\n",
       "      <td>2013</td>\n",
       "      <td>52262</td>\n",
       "      <td>4</td>\n",
       "      <td>0</td>\n",
       "      <td>3</td>\n",
       "      <td>17.20</td>\n",
       "      <td>1197.0</td>\n",
       "      <td>103.60</td>\n",
       "      <td>5.0</td>\n",
       "      <td>NaN</td>\n",
       "    </tr>\n",
       "    <tr>\n",
       "      <th>1233</th>\n",
       "      <td>7</td>\n",
       "      <td>2014</td>\n",
       "      <td>72443</td>\n",
       "      <td>1</td>\n",
       "      <td>0</td>\n",
       "      <td>0</td>\n",
       "      <td>10.00</td>\n",
       "      <td>2148.0</td>\n",
       "      <td>170.00</td>\n",
       "      <td>5.0</td>\n",
       "      <td>NaN</td>\n",
       "    </tr>\n",
       "  </tbody>\n",
       "</table>\n",
       "<p>7250 rows × 11 columns</p>\n",
       "</div>"
      ],
      "text/plain": [
       "      Location  Year  Kilometers_Driven  Fuel_Type  Transmission  Owner_Type  \\\n",
       "0            9  2010              72000          0             1           0   \n",
       "1           10  2015              41000          1             1           0   \n",
       "2            2  2011              46000          4             1           0   \n",
       "3            2  2012              87000          1             1           0   \n",
       "4            3  2013              40670          1             0           2   \n",
       "...        ...   ...                ...        ...           ...         ...   \n",
       "1229         5  2011              89411          1             1           0   \n",
       "1230         9  2015              59000          4             0           0   \n",
       "1231         8  2012              28000          1             1           0   \n",
       "1232        10  2013              52262          4             0           3   \n",
       "1233         7  2014              72443          1             0           0   \n",
       "\n",
       "      Mileage  Engine   Power  Seats  Price  \n",
       "0       26.60   998.0   58.16    5.0   1.75  \n",
       "1       19.67  1582.0  126.20    5.0  12.50  \n",
       "2       18.20  1199.0   88.70    5.0   4.50  \n",
       "3       20.77  1248.0   88.76    7.0   6.00  \n",
       "4       15.20  1968.0  140.80    5.0  17.74  \n",
       "...       ...     ...     ...    ...    ...  \n",
       "1229    20.54  1598.0  103.60    5.0    NaN  \n",
       "1230    17.21  1197.0  103.60    5.0    NaN  \n",
       "1231    23.08  1461.0   63.10    5.0    NaN  \n",
       "1232    17.20  1197.0  103.60    5.0    NaN  \n",
       "1233    10.00  2148.0  170.00    5.0    NaN  \n",
       "\n",
       "[7250 rows x 11 columns]"
      ]
     },
     "execution_count": 77,
     "metadata": {},
     "output_type": "execute_result"
    }
   ],
   "source": [
    "df1 #转化前"
   ]
  },
  {
   "cell_type": "code",
   "execution_count": 78,
   "id": "4a737c4d",
   "metadata": {},
   "outputs": [
    {
     "data": {
      "text/html": [
       "<div>\n",
       "<style scoped>\n",
       "    .dataframe tbody tr th:only-of-type {\n",
       "        vertical-align: middle;\n",
       "    }\n",
       "\n",
       "    .dataframe tbody tr th {\n",
       "        vertical-align: top;\n",
       "    }\n",
       "\n",
       "    .dataframe thead th {\n",
       "        text-align: right;\n",
       "    }\n",
       "</style>\n",
       "<table border=\"1\" class=\"dataframe\">\n",
       "  <thead>\n",
       "    <tr style=\"text-align: right;\">\n",
       "      <th></th>\n",
       "      <th>Location</th>\n",
       "      <th>Year</th>\n",
       "      <th>Kilometers_Driven</th>\n",
       "      <th>Fuel_Type</th>\n",
       "      <th>Transmission</th>\n",
       "      <th>Owner_Type</th>\n",
       "      <th>Mileage</th>\n",
       "      <th>Engine</th>\n",
       "      <th>Power</th>\n",
       "      <th>Seats</th>\n",
       "      <th>Price</th>\n",
       "    </tr>\n",
       "  </thead>\n",
       "  <tbody>\n",
       "    <tr>\n",
       "      <th>0</th>\n",
       "      <td>9</td>\n",
       "      <td>2010</td>\n",
       "      <td>72000</td>\n",
       "      <td>0</td>\n",
       "      <td>1</td>\n",
       "      <td>0</td>\n",
       "      <td>26.60</td>\n",
       "      <td>998.0</td>\n",
       "      <td>58.16</td>\n",
       "      <td>5.0</td>\n",
       "      <td>1.75</td>\n",
       "    </tr>\n",
       "    <tr>\n",
       "      <th>1</th>\n",
       "      <td>10</td>\n",
       "      <td>2015</td>\n",
       "      <td>41000</td>\n",
       "      <td>1</td>\n",
       "      <td>1</td>\n",
       "      <td>0</td>\n",
       "      <td>19.67</td>\n",
       "      <td>1582.0</td>\n",
       "      <td>126.20</td>\n",
       "      <td>5.0</td>\n",
       "      <td>12.50</td>\n",
       "    </tr>\n",
       "    <tr>\n",
       "      <th>2</th>\n",
       "      <td>2</td>\n",
       "      <td>2011</td>\n",
       "      <td>46000</td>\n",
       "      <td>4</td>\n",
       "      <td>1</td>\n",
       "      <td>0</td>\n",
       "      <td>18.20</td>\n",
       "      <td>1199.0</td>\n",
       "      <td>88.70</td>\n",
       "      <td>5.0</td>\n",
       "      <td>4.50</td>\n",
       "    </tr>\n",
       "    <tr>\n",
       "      <th>3</th>\n",
       "      <td>2</td>\n",
       "      <td>2012</td>\n",
       "      <td>87000</td>\n",
       "      <td>1</td>\n",
       "      <td>1</td>\n",
       "      <td>0</td>\n",
       "      <td>20.77</td>\n",
       "      <td>1248.0</td>\n",
       "      <td>88.76</td>\n",
       "      <td>7.0</td>\n",
       "      <td>6.00</td>\n",
       "    </tr>\n",
       "    <tr>\n",
       "      <th>4</th>\n",
       "      <td>3</td>\n",
       "      <td>2013</td>\n",
       "      <td>40670</td>\n",
       "      <td>1</td>\n",
       "      <td>0</td>\n",
       "      <td>2</td>\n",
       "      <td>15.20</td>\n",
       "      <td>1968.0</td>\n",
       "      <td>140.80</td>\n",
       "      <td>5.0</td>\n",
       "      <td>17.74</td>\n",
       "    </tr>\n",
       "    <tr>\n",
       "      <th>...</th>\n",
       "      <td>...</td>\n",
       "      <td>...</td>\n",
       "      <td>...</td>\n",
       "      <td>...</td>\n",
       "      <td>...</td>\n",
       "      <td>...</td>\n",
       "      <td>...</td>\n",
       "      <td>...</td>\n",
       "      <td>...</td>\n",
       "      <td>...</td>\n",
       "      <td>...</td>\n",
       "    </tr>\n",
       "    <tr>\n",
       "      <th>1229</th>\n",
       "      <td>5</td>\n",
       "      <td>2011</td>\n",
       "      <td>89411</td>\n",
       "      <td>1</td>\n",
       "      <td>1</td>\n",
       "      <td>0</td>\n",
       "      <td>20.54</td>\n",
       "      <td>1598.0</td>\n",
       "      <td>103.60</td>\n",
       "      <td>5.0</td>\n",
       "      <td>NaN</td>\n",
       "    </tr>\n",
       "    <tr>\n",
       "      <th>1230</th>\n",
       "      <td>9</td>\n",
       "      <td>2015</td>\n",
       "      <td>59000</td>\n",
       "      <td>4</td>\n",
       "      <td>0</td>\n",
       "      <td>0</td>\n",
       "      <td>17.21</td>\n",
       "      <td>1197.0</td>\n",
       "      <td>103.60</td>\n",
       "      <td>5.0</td>\n",
       "      <td>NaN</td>\n",
       "    </tr>\n",
       "    <tr>\n",
       "      <th>1231</th>\n",
       "      <td>8</td>\n",
       "      <td>2012</td>\n",
       "      <td>28000</td>\n",
       "      <td>1</td>\n",
       "      <td>1</td>\n",
       "      <td>0</td>\n",
       "      <td>23.08</td>\n",
       "      <td>1461.0</td>\n",
       "      <td>63.10</td>\n",
       "      <td>5.0</td>\n",
       "      <td>NaN</td>\n",
       "    </tr>\n",
       "    <tr>\n",
       "      <th>1232</th>\n",
       "      <td>10</td>\n",
       "      <td>2013</td>\n",
       "      <td>52262</td>\n",
       "      <td>4</td>\n",
       "      <td>0</td>\n",
       "      <td>3</td>\n",
       "      <td>17.20</td>\n",
       "      <td>1197.0</td>\n",
       "      <td>103.60</td>\n",
       "      <td>5.0</td>\n",
       "      <td>NaN</td>\n",
       "    </tr>\n",
       "    <tr>\n",
       "      <th>1233</th>\n",
       "      <td>7</td>\n",
       "      <td>2014</td>\n",
       "      <td>72443</td>\n",
       "      <td>1</td>\n",
       "      <td>0</td>\n",
       "      <td>0</td>\n",
       "      <td>10.00</td>\n",
       "      <td>2148.0</td>\n",
       "      <td>170.00</td>\n",
       "      <td>5.0</td>\n",
       "      <td>NaN</td>\n",
       "    </tr>\n",
       "  </tbody>\n",
       "</table>\n",
       "<p>7250 rows × 11 columns</p>\n",
       "</div>"
      ],
      "text/plain": [
       "      Location  Year  Kilometers_Driven  Fuel_Type  Transmission  Owner_Type  \\\n",
       "0            9  2010              72000          0             1           0   \n",
       "1           10  2015              41000          1             1           0   \n",
       "2            2  2011              46000          4             1           0   \n",
       "3            2  2012              87000          1             1           0   \n",
       "4            3  2013              40670          1             0           2   \n",
       "...        ...   ...                ...        ...           ...         ...   \n",
       "1229         5  2011              89411          1             1           0   \n",
       "1230         9  2015              59000          4             0           0   \n",
       "1231         8  2012              28000          1             1           0   \n",
       "1232        10  2013              52262          4             0           3   \n",
       "1233         7  2014              72443          1             0           0   \n",
       "\n",
       "      Mileage  Engine   Power  Seats  Price  \n",
       "0       26.60   998.0   58.16    5.0   1.75  \n",
       "1       19.67  1582.0  126.20    5.0  12.50  \n",
       "2       18.20  1199.0   88.70    5.0   4.50  \n",
       "3       20.77  1248.0   88.76    7.0   6.00  \n",
       "4       15.20  1968.0  140.80    5.0  17.74  \n",
       "...       ...     ...     ...    ...    ...  \n",
       "1229    20.54  1598.0  103.60    5.0    NaN  \n",
       "1230    17.21  1197.0  103.60    5.0    NaN  \n",
       "1231    23.08  1461.0   63.10    5.0    NaN  \n",
       "1232    17.20  1197.0  103.60    5.0    NaN  \n",
       "1233    10.00  2148.0  170.00    5.0    NaN  \n",
       "\n",
       "[7250 rows x 11 columns]"
      ]
     },
     "execution_count": 78,
     "metadata": {},
     "output_type": "execute_result"
    }
   ],
   "source": [
    "df1 #转化后"
   ]
  },
  {
   "cell_type": "code",
   "execution_count": 79,
   "id": "d23d76cee8b96051",
   "metadata": {
    "ExecuteTime": {
     "end_time": "2024-04-09T08:06:41.355824Z",
     "start_time": "2024-04-09T08:06:41.352323Z"
    }
   },
   "outputs": [],
   "source": [
    "### 独热编码"
   ]
  },
  {
   "cell_type": "code",
   "execution_count": 80,
   "id": "9635ff06ad4b8320",
   "metadata": {
    "ExecuteTime": {
     "end_time": "2024-04-09T08:06:41.879916Z",
     "start_time": "2024-04-09T08:06:41.873915Z"
    }
   },
   "outputs": [],
   "source": [
    "#oh = OneHotEncoder() "
   ]
  },
  {
   "cell_type": "code",
   "execution_count": 81,
   "id": "33ca6b3665c19a40",
   "metadata": {
    "ExecuteTime": {
     "end_time": "2024-04-09T08:06:42.707562Z",
     "start_time": "2024-04-09T08:06:42.698061Z"
    }
   },
   "outputs": [],
   "source": [
    "#df1.iloc[:,:1]"
   ]
  },
  {
   "cell_type": "code",
   "execution_count": 82,
   "id": "ebb6819e997a9324",
   "metadata": {
    "ExecuteTime": {
     "end_time": "2024-04-09T08:06:43.603718Z",
     "start_time": "2024-04-09T08:06:43.593717Z"
    }
   },
   "outputs": [],
   "source": [
    "#df2 = oh.fit_transform(df1.iloc[:,:1])"
   ]
  },
  {
   "cell_type": "code",
   "execution_count": 83,
   "id": "120309901024fc27",
   "metadata": {
    "ExecuteTime": {
     "end_time": "2024-04-09T08:06:44.408362Z",
     "start_time": "2024-04-09T08:06:44.401858Z"
    }
   },
   "outputs": [],
   "source": [
    "#df2.toarray()[:5,:]"
   ]
  },
  {
   "cell_type": "code",
   "execution_count": 84,
   "id": "1a6c39ddef2cf78e",
   "metadata": {
    "ExecuteTime": {
     "end_time": "2024-04-09T08:06:44.686410Z",
     "start_time": "2024-04-09T08:06:44.682907Z"
    }
   },
   "outputs": [],
   "source": [
    "## 标准化和数据划分"
   ]
  },
  {
   "cell_type": "code",
   "execution_count": 85,
   "id": "ba62e021028baca6",
   "metadata": {
    "ExecuteTime": {
     "end_time": "2024-04-09T12:28:44.955732Z",
     "start_time": "2024-04-09T12:28:44.939852Z"
    }
   },
   "outputs": [
    {
     "data": {
      "text/html": [
       "<div>\n",
       "<style scoped>\n",
       "    .dataframe tbody tr th:only-of-type {\n",
       "        vertical-align: middle;\n",
       "    }\n",
       "\n",
       "    .dataframe tbody tr th {\n",
       "        vertical-align: top;\n",
       "    }\n",
       "\n",
       "    .dataframe thead th {\n",
       "        text-align: right;\n",
       "    }\n",
       "</style>\n",
       "<table border=\"1\" class=\"dataframe\">\n",
       "  <thead>\n",
       "    <tr style=\"text-align: right;\">\n",
       "      <th></th>\n",
       "      <th>Location</th>\n",
       "      <th>Year</th>\n",
       "      <th>Kilometers_Driven</th>\n",
       "      <th>Fuel_Type</th>\n",
       "      <th>Transmission</th>\n",
       "      <th>Owner_Type</th>\n",
       "      <th>Mileage</th>\n",
       "      <th>Engine</th>\n",
       "      <th>Power</th>\n",
       "      <th>Seats</th>\n",
       "      <th>Price</th>\n",
       "    </tr>\n",
       "  </thead>\n",
       "  <tbody>\n",
       "    <tr>\n",
       "      <th>0</th>\n",
       "      <td>9</td>\n",
       "      <td>2010</td>\n",
       "      <td>72000</td>\n",
       "      <td>0</td>\n",
       "      <td>1</td>\n",
       "      <td>0</td>\n",
       "      <td>26.60</td>\n",
       "      <td>998.0</td>\n",
       "      <td>58.16</td>\n",
       "      <td>5.0</td>\n",
       "      <td>1.75</td>\n",
       "    </tr>\n",
       "    <tr>\n",
       "      <th>1</th>\n",
       "      <td>10</td>\n",
       "      <td>2015</td>\n",
       "      <td>41000</td>\n",
       "      <td>1</td>\n",
       "      <td>1</td>\n",
       "      <td>0</td>\n",
       "      <td>19.67</td>\n",
       "      <td>1582.0</td>\n",
       "      <td>126.20</td>\n",
       "      <td>5.0</td>\n",
       "      <td>12.50</td>\n",
       "    </tr>\n",
       "    <tr>\n",
       "      <th>2</th>\n",
       "      <td>2</td>\n",
       "      <td>2011</td>\n",
       "      <td>46000</td>\n",
       "      <td>4</td>\n",
       "      <td>1</td>\n",
       "      <td>0</td>\n",
       "      <td>18.20</td>\n",
       "      <td>1199.0</td>\n",
       "      <td>88.70</td>\n",
       "      <td>5.0</td>\n",
       "      <td>4.50</td>\n",
       "    </tr>\n",
       "    <tr>\n",
       "      <th>3</th>\n",
       "      <td>2</td>\n",
       "      <td>2012</td>\n",
       "      <td>87000</td>\n",
       "      <td>1</td>\n",
       "      <td>1</td>\n",
       "      <td>0</td>\n",
       "      <td>20.77</td>\n",
       "      <td>1248.0</td>\n",
       "      <td>88.76</td>\n",
       "      <td>7.0</td>\n",
       "      <td>6.00</td>\n",
       "    </tr>\n",
       "    <tr>\n",
       "      <th>4</th>\n",
       "      <td>3</td>\n",
       "      <td>2013</td>\n",
       "      <td>40670</td>\n",
       "      <td>1</td>\n",
       "      <td>0</td>\n",
       "      <td>2</td>\n",
       "      <td>15.20</td>\n",
       "      <td>1968.0</td>\n",
       "      <td>140.80</td>\n",
       "      <td>5.0</td>\n",
       "      <td>17.74</td>\n",
       "    </tr>\n",
       "    <tr>\n",
       "      <th>...</th>\n",
       "      <td>...</td>\n",
       "      <td>...</td>\n",
       "      <td>...</td>\n",
       "      <td>...</td>\n",
       "      <td>...</td>\n",
       "      <td>...</td>\n",
       "      <td>...</td>\n",
       "      <td>...</td>\n",
       "      <td>...</td>\n",
       "      <td>...</td>\n",
       "      <td>...</td>\n",
       "    </tr>\n",
       "    <tr>\n",
       "      <th>1229</th>\n",
       "      <td>5</td>\n",
       "      <td>2011</td>\n",
       "      <td>89411</td>\n",
       "      <td>1</td>\n",
       "      <td>1</td>\n",
       "      <td>0</td>\n",
       "      <td>20.54</td>\n",
       "      <td>1598.0</td>\n",
       "      <td>103.60</td>\n",
       "      <td>5.0</td>\n",
       "      <td>NaN</td>\n",
       "    </tr>\n",
       "    <tr>\n",
       "      <th>1230</th>\n",
       "      <td>9</td>\n",
       "      <td>2015</td>\n",
       "      <td>59000</td>\n",
       "      <td>4</td>\n",
       "      <td>0</td>\n",
       "      <td>0</td>\n",
       "      <td>17.21</td>\n",
       "      <td>1197.0</td>\n",
       "      <td>103.60</td>\n",
       "      <td>5.0</td>\n",
       "      <td>NaN</td>\n",
       "    </tr>\n",
       "    <tr>\n",
       "      <th>1231</th>\n",
       "      <td>8</td>\n",
       "      <td>2012</td>\n",
       "      <td>28000</td>\n",
       "      <td>1</td>\n",
       "      <td>1</td>\n",
       "      <td>0</td>\n",
       "      <td>23.08</td>\n",
       "      <td>1461.0</td>\n",
       "      <td>63.10</td>\n",
       "      <td>5.0</td>\n",
       "      <td>NaN</td>\n",
       "    </tr>\n",
       "    <tr>\n",
       "      <th>1232</th>\n",
       "      <td>10</td>\n",
       "      <td>2013</td>\n",
       "      <td>52262</td>\n",
       "      <td>4</td>\n",
       "      <td>0</td>\n",
       "      <td>3</td>\n",
       "      <td>17.20</td>\n",
       "      <td>1197.0</td>\n",
       "      <td>103.60</td>\n",
       "      <td>5.0</td>\n",
       "      <td>NaN</td>\n",
       "    </tr>\n",
       "    <tr>\n",
       "      <th>1233</th>\n",
       "      <td>7</td>\n",
       "      <td>2014</td>\n",
       "      <td>72443</td>\n",
       "      <td>1</td>\n",
       "      <td>0</td>\n",
       "      <td>0</td>\n",
       "      <td>10.00</td>\n",
       "      <td>2148.0</td>\n",
       "      <td>170.00</td>\n",
       "      <td>5.0</td>\n",
       "      <td>NaN</td>\n",
       "    </tr>\n",
       "  </tbody>\n",
       "</table>\n",
       "<p>7250 rows × 11 columns</p>\n",
       "</div>"
      ],
      "text/plain": [
       "      Location  Year  Kilometers_Driven  Fuel_Type  Transmission  Owner_Type  \\\n",
       "0            9  2010              72000          0             1           0   \n",
       "1           10  2015              41000          1             1           0   \n",
       "2            2  2011              46000          4             1           0   \n",
       "3            2  2012              87000          1             1           0   \n",
       "4            3  2013              40670          1             0           2   \n",
       "...        ...   ...                ...        ...           ...         ...   \n",
       "1229         5  2011              89411          1             1           0   \n",
       "1230         9  2015              59000          4             0           0   \n",
       "1231         8  2012              28000          1             1           0   \n",
       "1232        10  2013              52262          4             0           3   \n",
       "1233         7  2014              72443          1             0           0   \n",
       "\n",
       "      Mileage  Engine   Power  Seats  Price  \n",
       "0       26.60   998.0   58.16    5.0   1.75  \n",
       "1       19.67  1582.0  126.20    5.0  12.50  \n",
       "2       18.20  1199.0   88.70    5.0   4.50  \n",
       "3       20.77  1248.0   88.76    7.0   6.00  \n",
       "4       15.20  1968.0  140.80    5.0  17.74  \n",
       "...       ...     ...     ...    ...    ...  \n",
       "1229    20.54  1598.0  103.60    5.0    NaN  \n",
       "1230    17.21  1197.0  103.60    5.0    NaN  \n",
       "1231    23.08  1461.0   63.10    5.0    NaN  \n",
       "1232    17.20  1197.0  103.60    5.0    NaN  \n",
       "1233    10.00  2148.0  170.00    5.0    NaN  \n",
       "\n",
       "[7250 rows x 11 columns]"
      ]
     },
     "execution_count": 85,
     "metadata": {},
     "output_type": "execute_result"
    }
   ],
   "source": [
    "df1"
   ]
  },
  {
   "cell_type": "code",
   "execution_count": 86,
   "id": "e92537f07ad2424e",
   "metadata": {
    "ExecuteTime": {
     "end_time": "2024-04-09T14:41:32.318441Z",
     "start_time": "2024-04-09T14:41:32.312283Z"
    }
   },
   "outputs": [],
   "source": [
    "df_data = df1[~df1['Price'].isnull()] #~为非的意思，取不为空的数\n",
    "df_test = df1[df1['Price'].isnull()] #取Price为空的数   将concat在一起的训练数据和测试数据分开"
   ]
  },
  {
   "cell_type": "code",
   "execution_count": 87,
   "id": "e2d04b6716140fcb",
   "metadata": {
    "ExecuteTime": {
     "end_time": "2024-04-09T12:28:51.029948Z",
     "start_time": "2024-04-09T12:28:51.017841Z"
    }
   },
   "outputs": [
    {
     "name": "stdout",
     "output_type": "stream",
     "text": [
      "<class 'pandas.core.frame.DataFrame'>\n",
      "Index: 1233 entries, 0 to 1233\n",
      "Data columns (total 11 columns):\n",
      " #   Column             Non-Null Count  Dtype  \n",
      "---  ------             --------------  -----  \n",
      " 0   Location           1233 non-null   int32  \n",
      " 1   Year               1233 non-null   int64  \n",
      " 2   Kilometers_Driven  1233 non-null   int64  \n",
      " 3   Fuel_Type          1233 non-null   int32  \n",
      " 4   Transmission       1233 non-null   int32  \n",
      " 5   Owner_Type         1233 non-null   int32  \n",
      " 6   Mileage            1233 non-null   float64\n",
      " 7   Engine             1233 non-null   float64\n",
      " 8   Power              1233 non-null   float64\n",
      " 9   Seats              1233 non-null   float64\n",
      " 10  Price              0 non-null      float64\n",
      "dtypes: float64(5), int32(4), int64(2)\n",
      "memory usage: 96.3 KB\n"
     ]
    }
   ],
   "source": [
    "df_test.info()"
   ]
  },
  {
   "cell_type": "code",
   "execution_count": 88,
   "id": "e3e657466d300fa8",
   "metadata": {
    "ExecuteTime": {
     "end_time": "2024-04-09T14:41:42.725249Z",
     "start_time": "2024-04-09T14:41:42.720230Z"
    }
   },
   "outputs": [],
   "source": [
    "## 特征集和标签集分离\n",
    "X = df_data.iloc[:,:-1]\n",
    "y = df_data.iloc[:,-1]"
   ]
  },
  {
   "cell_type": "code",
   "execution_count": 89,
   "id": "c43d10c7dac88353",
   "metadata": {
    "ExecuteTime": {
     "end_time": "2024-04-09T14:41:48.435331Z",
     "start_time": "2024-04-09T14:41:48.427955Z"
    }
   },
   "outputs": [
    {
     "data": {
      "text/html": [
       "<style>#sk-container-id-1 {color: black;}#sk-container-id-1 pre{padding: 0;}#sk-container-id-1 div.sk-toggleable {background-color: white;}#sk-container-id-1 label.sk-toggleable__label {cursor: pointer;display: block;width: 100%;margin-bottom: 0;padding: 0.3em;box-sizing: border-box;text-align: center;}#sk-container-id-1 label.sk-toggleable__label-arrow:before {content: \"▸\";float: left;margin-right: 0.25em;color: #696969;}#sk-container-id-1 label.sk-toggleable__label-arrow:hover:before {color: black;}#sk-container-id-1 div.sk-estimator:hover label.sk-toggleable__label-arrow:before {color: black;}#sk-container-id-1 div.sk-toggleable__content {max-height: 0;max-width: 0;overflow: hidden;text-align: left;background-color: #f0f8ff;}#sk-container-id-1 div.sk-toggleable__content pre {margin: 0.2em;color: black;border-radius: 0.25em;background-color: #f0f8ff;}#sk-container-id-1 input.sk-toggleable__control:checked~div.sk-toggleable__content {max-height: 200px;max-width: 100%;overflow: auto;}#sk-container-id-1 input.sk-toggleable__control:checked~label.sk-toggleable__label-arrow:before {content: \"▾\";}#sk-container-id-1 div.sk-estimator input.sk-toggleable__control:checked~label.sk-toggleable__label {background-color: #d4ebff;}#sk-container-id-1 div.sk-label input.sk-toggleable__control:checked~label.sk-toggleable__label {background-color: #d4ebff;}#sk-container-id-1 input.sk-hidden--visually {border: 0;clip: rect(1px 1px 1px 1px);clip: rect(1px, 1px, 1px, 1px);height: 1px;margin: -1px;overflow: hidden;padding: 0;position: absolute;width: 1px;}#sk-container-id-1 div.sk-estimator {font-family: monospace;background-color: #f0f8ff;border: 1px dotted black;border-radius: 0.25em;box-sizing: border-box;margin-bottom: 0.5em;}#sk-container-id-1 div.sk-estimator:hover {background-color: #d4ebff;}#sk-container-id-1 div.sk-parallel-item::after {content: \"\";width: 100%;border-bottom: 1px solid gray;flex-grow: 1;}#sk-container-id-1 div.sk-label:hover label.sk-toggleable__label {background-color: #d4ebff;}#sk-container-id-1 div.sk-serial::before {content: \"\";position: absolute;border-left: 1px solid gray;box-sizing: border-box;top: 0;bottom: 0;left: 50%;z-index: 0;}#sk-container-id-1 div.sk-serial {display: flex;flex-direction: column;align-items: center;background-color: white;padding-right: 0.2em;padding-left: 0.2em;position: relative;}#sk-container-id-1 div.sk-item {position: relative;z-index: 1;}#sk-container-id-1 div.sk-parallel {display: flex;align-items: stretch;justify-content: center;background-color: white;position: relative;}#sk-container-id-1 div.sk-item::before, #sk-container-id-1 div.sk-parallel-item::before {content: \"\";position: absolute;border-left: 1px solid gray;box-sizing: border-box;top: 0;bottom: 0;left: 50%;z-index: -1;}#sk-container-id-1 div.sk-parallel-item {display: flex;flex-direction: column;z-index: 1;position: relative;background-color: white;}#sk-container-id-1 div.sk-parallel-item:first-child::after {align-self: flex-end;width: 50%;}#sk-container-id-1 div.sk-parallel-item:last-child::after {align-self: flex-start;width: 50%;}#sk-container-id-1 div.sk-parallel-item:only-child::after {width: 0;}#sk-container-id-1 div.sk-dashed-wrapped {border: 1px dashed gray;margin: 0 0.4em 0.5em 0.4em;box-sizing: border-box;padding-bottom: 0.4em;background-color: white;}#sk-container-id-1 div.sk-label label {font-family: monospace;font-weight: bold;display: inline-block;line-height: 1.2em;}#sk-container-id-1 div.sk-label-container {text-align: center;}#sk-container-id-1 div.sk-container {/* jupyter's `normalize.less` sets `[hidden] { display: none; }` but bootstrap.min.css set `[hidden] { display: none !important; }` so we also need the `!important` here to be able to override the default hidden behavior on the sphinx rendered scikit-learn.org. See: https://github.com/scikit-learn/scikit-learn/issues/21755 */display: inline-block !important;position: relative;}#sk-container-id-1 div.sk-text-repr-fallback {display: none;}</style><div id=\"sk-container-id-1\" class=\"sk-top-container\"><div class=\"sk-text-repr-fallback\"><pre>StandardScaler()</pre><b>In a Jupyter environment, please rerun this cell to show the HTML representation or trust the notebook. <br />On GitHub, the HTML representation is unable to render, please try loading this page with nbviewer.org.</b></div><div class=\"sk-container\" hidden><div class=\"sk-item\"><div class=\"sk-estimator sk-toggleable\"><input class=\"sk-toggleable__control sk-hidden--visually\" id=\"sk-estimator-id-1\" type=\"checkbox\" checked><label for=\"sk-estimator-id-1\" class=\"sk-toggleable__label sk-toggleable__label-arrow\">StandardScaler</label><div class=\"sk-toggleable__content\"><pre>StandardScaler()</pre></div></div></div></div></div>"
      ],
      "text/plain": [
       "StandardScaler()"
      ]
     },
     "execution_count": 89,
     "metadata": {},
     "output_type": "execute_result"
    }
   ],
   "source": [
    "from sklearn.preprocessing import StandardScaler #标准化\n",
    "st = StandardScaler()\n",
    "st.fit(X)"
   ]
  },
  {
   "cell_type": "code",
   "execution_count": 90,
   "id": "576d7f80ee803a94",
   "metadata": {
    "ExecuteTime": {
     "end_time": "2024-04-09T14:41:50.063019Z",
     "start_time": "2024-04-09T14:41:50.055726Z"
    }
   },
   "outputs": [
    {
     "data": {
      "text/plain": [
       "array([[ 1.14337649, -1.02697237,  0.37875849, ..., -1.03829167,\n",
       "        -1.02499675, -0.3456163 ],\n",
       "       [ 1.48169447,  0.50225272, -0.43985662, ..., -0.06346256,\n",
       "         0.25196484, -0.3456163 ],\n",
       "       [-1.22484944, -0.72112735, -0.30782192, ..., -0.70277686,\n",
       "        -0.45182792, -0.3456163 ],\n",
       "       ...,\n",
       "       [ 0.12842252, -0.41528233, -0.07015947, ...,  1.46555022,\n",
       "        -0.01453802,  3.3879084 ],\n",
       "       [ 0.8050585 , -0.10943731, -0.30782192, ..., -1.03829167,\n",
       "        -0.85721255, -0.3456163 ],\n",
       "       [-0.20989547, -0.72112735, -0.28141498, ..., -1.1417838 ,\n",
       "        -1.03550672, -0.3456163 ]])"
      ]
     },
     "execution_count": 90,
     "metadata": {},
     "output_type": "execute_result"
    }
   ],
   "source": [
    "df_data_st = st.transform(X)\n",
    "df_data_st"
   ]
  },
  {
   "cell_type": "code",
   "execution_count": 91,
   "id": "e3225e8c112ff362",
   "metadata": {
    "ExecuteTime": {
     "end_time": "2024-04-09T14:41:53.133001Z",
     "start_time": "2024-04-09T14:41:53.127526Z"
    }
   },
   "outputs": [],
   "source": [
    "##训练集和验证集划分\n",
    "from sklearn.model_selection import train_test_split\n",
    "X_train, X_test, y_train, y_test = train_test_split(df_data_st,y,test_size=0.2,random_state=42)"
   ]
  },
  {
   "cell_type": "code",
   "execution_count": 92,
   "id": "896509a5cf253a71",
   "metadata": {
    "ExecuteTime": {
     "end_time": "2024-04-09T14:41:55.807167Z",
     "start_time": "2024-04-09T14:41:55.802102Z"
    }
   },
   "outputs": [
    {
     "data": {
      "text/plain": [
       "((4813, 10), (4813,))"
      ]
     },
     "execution_count": 92,
     "metadata": {},
     "output_type": "execute_result"
    }
   ],
   "source": [
    "X_train.shape,y_train.shape"
   ]
  },
  {
   "cell_type": "markdown",
   "id": "b8f7e7dbe360cccf",
   "metadata": {},
   "source": [
    "## 模型建立"
   ]
  },
  {
   "cell_type": "markdown",
   "id": "7262e0e68a2c9301",
   "metadata": {},
   "source": [
    "### 线性回归"
   ]
  },
  {
   "cell_type": "code",
   "execution_count": 93,
   "id": "421ce409e2590d13",
   "metadata": {
    "ExecuteTime": {
     "end_time": "2024-04-09T08:06:48.768627Z",
     "start_time": "2024-04-09T08:06:48.617101Z"
    }
   },
   "outputs": [
    {
     "data": {
      "text/html": [
       "<style>#sk-container-id-2 {color: black;}#sk-container-id-2 pre{padding: 0;}#sk-container-id-2 div.sk-toggleable {background-color: white;}#sk-container-id-2 label.sk-toggleable__label {cursor: pointer;display: block;width: 100%;margin-bottom: 0;padding: 0.3em;box-sizing: border-box;text-align: center;}#sk-container-id-2 label.sk-toggleable__label-arrow:before {content: \"▸\";float: left;margin-right: 0.25em;color: #696969;}#sk-container-id-2 label.sk-toggleable__label-arrow:hover:before {color: black;}#sk-container-id-2 div.sk-estimator:hover label.sk-toggleable__label-arrow:before {color: black;}#sk-container-id-2 div.sk-toggleable__content {max-height: 0;max-width: 0;overflow: hidden;text-align: left;background-color: #f0f8ff;}#sk-container-id-2 div.sk-toggleable__content pre {margin: 0.2em;color: black;border-radius: 0.25em;background-color: #f0f8ff;}#sk-container-id-2 input.sk-toggleable__control:checked~div.sk-toggleable__content {max-height: 200px;max-width: 100%;overflow: auto;}#sk-container-id-2 input.sk-toggleable__control:checked~label.sk-toggleable__label-arrow:before {content: \"▾\";}#sk-container-id-2 div.sk-estimator input.sk-toggleable__control:checked~label.sk-toggleable__label {background-color: #d4ebff;}#sk-container-id-2 div.sk-label input.sk-toggleable__control:checked~label.sk-toggleable__label {background-color: #d4ebff;}#sk-container-id-2 input.sk-hidden--visually {border: 0;clip: rect(1px 1px 1px 1px);clip: rect(1px, 1px, 1px, 1px);height: 1px;margin: -1px;overflow: hidden;padding: 0;position: absolute;width: 1px;}#sk-container-id-2 div.sk-estimator {font-family: monospace;background-color: #f0f8ff;border: 1px dotted black;border-radius: 0.25em;box-sizing: border-box;margin-bottom: 0.5em;}#sk-container-id-2 div.sk-estimator:hover {background-color: #d4ebff;}#sk-container-id-2 div.sk-parallel-item::after {content: \"\";width: 100%;border-bottom: 1px solid gray;flex-grow: 1;}#sk-container-id-2 div.sk-label:hover label.sk-toggleable__label {background-color: #d4ebff;}#sk-container-id-2 div.sk-serial::before {content: \"\";position: absolute;border-left: 1px solid gray;box-sizing: border-box;top: 0;bottom: 0;left: 50%;z-index: 0;}#sk-container-id-2 div.sk-serial {display: flex;flex-direction: column;align-items: center;background-color: white;padding-right: 0.2em;padding-left: 0.2em;position: relative;}#sk-container-id-2 div.sk-item {position: relative;z-index: 1;}#sk-container-id-2 div.sk-parallel {display: flex;align-items: stretch;justify-content: center;background-color: white;position: relative;}#sk-container-id-2 div.sk-item::before, #sk-container-id-2 div.sk-parallel-item::before {content: \"\";position: absolute;border-left: 1px solid gray;box-sizing: border-box;top: 0;bottom: 0;left: 50%;z-index: -1;}#sk-container-id-2 div.sk-parallel-item {display: flex;flex-direction: column;z-index: 1;position: relative;background-color: white;}#sk-container-id-2 div.sk-parallel-item:first-child::after {align-self: flex-end;width: 50%;}#sk-container-id-2 div.sk-parallel-item:last-child::after {align-self: flex-start;width: 50%;}#sk-container-id-2 div.sk-parallel-item:only-child::after {width: 0;}#sk-container-id-2 div.sk-dashed-wrapped {border: 1px dashed gray;margin: 0 0.4em 0.5em 0.4em;box-sizing: border-box;padding-bottom: 0.4em;background-color: white;}#sk-container-id-2 div.sk-label label {font-family: monospace;font-weight: bold;display: inline-block;line-height: 1.2em;}#sk-container-id-2 div.sk-label-container {text-align: center;}#sk-container-id-2 div.sk-container {/* jupyter's `normalize.less` sets `[hidden] { display: none; }` but bootstrap.min.css set `[hidden] { display: none !important; }` so we also need the `!important` here to be able to override the default hidden behavior on the sphinx rendered scikit-learn.org. See: https://github.com/scikit-learn/scikit-learn/issues/21755 */display: inline-block !important;position: relative;}#sk-container-id-2 div.sk-text-repr-fallback {display: none;}</style><div id=\"sk-container-id-2\" class=\"sk-top-container\"><div class=\"sk-text-repr-fallback\"><pre>LinearRegression()</pre><b>In a Jupyter environment, please rerun this cell to show the HTML representation or trust the notebook. <br />On GitHub, the HTML representation is unable to render, please try loading this page with nbviewer.org.</b></div><div class=\"sk-container\" hidden><div class=\"sk-item\"><div class=\"sk-estimator sk-toggleable\"><input class=\"sk-toggleable__control sk-hidden--visually\" id=\"sk-estimator-id-2\" type=\"checkbox\" checked><label for=\"sk-estimator-id-2\" class=\"sk-toggleable__label sk-toggleable__label-arrow\">LinearRegression</label><div class=\"sk-toggleable__content\"><pre>LinearRegression()</pre></div></div></div></div></div>"
      ],
      "text/plain": [
       "LinearRegression()"
      ]
     },
     "execution_count": 93,
     "metadata": {},
     "output_type": "execute_result"
    }
   ],
   "source": [
    "from sklearn.linear_model import LinearRegression\n",
    "lr = LinearRegression()\n",
    "lr.fit(X_train,y_train)"
   ]
  },
  {
   "cell_type": "code",
   "execution_count": 94,
   "id": "ddebb3579eebe95e",
   "metadata": {
    "ExecuteTime": {
     "end_time": "2024-04-09T08:06:49.229208Z",
     "start_time": "2024-04-09T08:06:49.224207Z"
    }
   },
   "outputs": [],
   "source": [
    "lrpred = lr.predict(X_test)"
   ]
  },
  {
   "cell_type": "code",
   "execution_count": 95,
   "id": "656cbbf6fcd46f7e",
   "metadata": {
    "ExecuteTime": {
     "end_time": "2024-04-09T08:06:49.617276Z",
     "start_time": "2024-04-09T08:06:49.610778Z"
    }
   },
   "outputs": [
    {
     "data": {
      "text/plain": [
       "0.713498107029747"
      ]
     },
     "execution_count": 95,
     "metadata": {},
     "output_type": "execute_result"
    }
   ],
   "source": [
    "lr.score(X_test,y_test) #为r2分数"
   ]
  },
  {
   "cell_type": "code",
   "execution_count": 96,
   "id": "c45b0a037fff059f",
   "metadata": {
    "ExecuteTime": {
     "end_time": "2024-04-09T08:06:49.980341Z",
     "start_time": "2024-04-09T08:06:49.971339Z"
    }
   },
   "outputs": [
    {
     "name": "stdout",
     "output_type": "stream",
     "text": [
      "训练集上的r2： 0.698520619037261 \n",
      "验证集上的r2： 0.713498107029747\n"
     ]
    }
   ],
   "source": [
    "#看训练集和验证集上的训练情况\n",
    "print('训练集上的r2：',lr.score(X_train,y_train),'\\n'\n",
    "      '验证集上的r2：',lr.score(X_test,y_test)\n",
    "      )"
   ]
  },
  {
   "cell_type": "code",
   "execution_count": 97,
   "id": "9a01ec5cbbe64964",
   "metadata": {
    "ExecuteTime": {
     "end_time": "2024-04-09T08:06:50.503433Z",
     "start_time": "2024-04-09T08:06:50.494930Z"
    }
   },
   "outputs": [
    {
     "name": "stdout",
     "output_type": "stream",
     "text": [
      "mse: 35.252043221979484\n",
      "r2: 0.713498107029747\n",
      "mae: 3.791275312354782\n"
     ]
    }
   ],
   "source": [
    "from sklearn.metrics import mean_squared_error, r2_score, mean_absolute_error\n",
    "print('mse:',mean_squared_error(y_test,lrpred))\n",
    "print('r2:',r2_score(y_test,lrpred))\n",
    "print('mae:',mean_absolute_error(y_test,lrpred))"
   ]
  },
  {
   "cell_type": "markdown",
   "id": "67da8ee80f4c9ca9",
   "metadata": {},
   "source": [
    "### 随机森林"
   ]
  },
  {
   "cell_type": "code",
   "execution_count": 98,
   "id": "edb3b39b386608bb",
   "metadata": {
    "ExecuteTime": {
     "end_time": "2024-04-09T13:54:02.605897Z",
     "start_time": "2024-04-09T13:53:59.497740Z"
    }
   },
   "outputs": [],
   "source": [
    "from sklearn.ensemble import RandomForestRegressor\n",
    "rf = RandomForestRegressor(random_state=42)\n",
    "rf.fit(X_train,y_train)\n",
    "rfpred = rf.predict(X_test)"
   ]
  },
  {
   "cell_type": "code",
   "execution_count": 99,
   "id": "78134d03fb167545",
   "metadata": {
    "ExecuteTime": {
     "end_time": "2024-04-09T13:54:04.383187Z",
     "start_time": "2024-04-09T13:54:04.271907Z"
    }
   },
   "outputs": [
    {
     "name": "stdout",
     "output_type": "stream",
     "text": [
      "训练集上的r2： 0.9830714944834863 \n",
      "验证集上的r2： 0.9152745292349387\n"
     ]
    }
   ],
   "source": [
    "#看训练集和验证集上的训练情况\n",
    "print('训练集上的r2：',rf.score(X_train,y_train),'\\n'\n",
    "      '验证集上的r2：',rf.score(X_test,y_test)\n",
    "      )"
   ]
  },
  {
   "cell_type": "code",
   "execution_count": 100,
   "id": "6d9c619fb0095802",
   "metadata": {
    "ExecuteTime": {
     "end_time": "2024-04-09T13:54:09.380199Z",
     "start_time": "2024-04-09T13:54:09.373012Z"
    }
   },
   "outputs": [
    {
     "name": "stdout",
     "output_type": "stream",
     "text": [
      "mse: 10.42487338023491\n",
      "r2: 0.9152745292349387\n",
      "mae: 1.5274259851421188\n"
     ]
    }
   ],
   "source": [
    "print('mse:',mean_squared_error(y_test,rfpred))\n",
    "print('r2:',r2_score(y_test,rfpred))\n",
    "print('mae:',mean_absolute_error(y_test,rfpred))"
   ]
  },
  {
   "cell_type": "markdown",
   "id": "d6e402f201a28349",
   "metadata": {},
   "source": [
    "### LGBM \n",
    "梯度提升的一种\n",
    "Light Gradient Boosting Machine\n"
   ]
  },
  {
   "cell_type": "code",
   "execution_count": 106,
   "id": "567c31fe5cbc789a",
   "metadata": {
    "ExecuteTime": {
     "end_time": "2024-04-09T08:07:05.157511Z",
     "start_time": "2024-04-09T08:07:05.153011Z"
    }
   },
   "outputs": [],
   "source": [
    "from lightgbm import LGBMRegressor"
   ]
  },
  {
   "cell_type": "code",
   "execution_count": 107,
   "id": "b1fabda6f6bd4aa4",
   "metadata": {
    "ExecuteTime": {
     "end_time": "2024-04-09T08:07:05.167513Z",
     "start_time": "2024-04-09T08:07:05.160010Z"
    }
   },
   "outputs": [],
   "source": [
    "params = {\n",
    "    'learning_rate':0.1,\n",
    "    'n_estimators':1000,\n",
    "    'max_depth':15,\n",
    "    'num_leaves':25,\n",
    "    'metric':'r2_score',# 'rmse','mse','mae'\n",
    "    'random_state':42\n",
    "}"
   ]
  },
  {
   "cell_type": "code",
   "execution_count": 108,
   "id": "10afc6daab05389d",
   "metadata": {
    "ExecuteTime": {
     "end_time": "2024-04-09T08:07:05.980156Z",
     "start_time": "2024-04-09T08:07:05.170013Z"
    }
   },
   "outputs": [
    {
     "name": "stdout",
     "output_type": "stream",
     "text": [
      "[LightGBM] [Info] Auto-choosing col-wise multi-threading, the overhead of testing was 0.000171 seconds.\n",
      "You can set `force_col_wise=true` to remove the overhead.\n",
      "[LightGBM] [Info] Total Bins 910\n",
      "[LightGBM] [Info] Number of data points in the train set: 4813, number of used features: 10\n",
      "[LightGBM] [Info] Start training from score 9.452404\n"
     ]
    },
    {
     "data": {
      "text/html": [
       "<style>#sk-container-id-4 {color: black;}#sk-container-id-4 pre{padding: 0;}#sk-container-id-4 div.sk-toggleable {background-color: white;}#sk-container-id-4 label.sk-toggleable__label {cursor: pointer;display: block;width: 100%;margin-bottom: 0;padding: 0.3em;box-sizing: border-box;text-align: center;}#sk-container-id-4 label.sk-toggleable__label-arrow:before {content: \"▸\";float: left;margin-right: 0.25em;color: #696969;}#sk-container-id-4 label.sk-toggleable__label-arrow:hover:before {color: black;}#sk-container-id-4 div.sk-estimator:hover label.sk-toggleable__label-arrow:before {color: black;}#sk-container-id-4 div.sk-toggleable__content {max-height: 0;max-width: 0;overflow: hidden;text-align: left;background-color: #f0f8ff;}#sk-container-id-4 div.sk-toggleable__content pre {margin: 0.2em;color: black;border-radius: 0.25em;background-color: #f0f8ff;}#sk-container-id-4 input.sk-toggleable__control:checked~div.sk-toggleable__content {max-height: 200px;max-width: 100%;overflow: auto;}#sk-container-id-4 input.sk-toggleable__control:checked~label.sk-toggleable__label-arrow:before {content: \"▾\";}#sk-container-id-4 div.sk-estimator input.sk-toggleable__control:checked~label.sk-toggleable__label {background-color: #d4ebff;}#sk-container-id-4 div.sk-label input.sk-toggleable__control:checked~label.sk-toggleable__label {background-color: #d4ebff;}#sk-container-id-4 input.sk-hidden--visually {border: 0;clip: rect(1px 1px 1px 1px);clip: rect(1px, 1px, 1px, 1px);height: 1px;margin: -1px;overflow: hidden;padding: 0;position: absolute;width: 1px;}#sk-container-id-4 div.sk-estimator {font-family: monospace;background-color: #f0f8ff;border: 1px dotted black;border-radius: 0.25em;box-sizing: border-box;margin-bottom: 0.5em;}#sk-container-id-4 div.sk-estimator:hover {background-color: #d4ebff;}#sk-container-id-4 div.sk-parallel-item::after {content: \"\";width: 100%;border-bottom: 1px solid gray;flex-grow: 1;}#sk-container-id-4 div.sk-label:hover label.sk-toggleable__label {background-color: #d4ebff;}#sk-container-id-4 div.sk-serial::before {content: \"\";position: absolute;border-left: 1px solid gray;box-sizing: border-box;top: 0;bottom: 0;left: 50%;z-index: 0;}#sk-container-id-4 div.sk-serial {display: flex;flex-direction: column;align-items: center;background-color: white;padding-right: 0.2em;padding-left: 0.2em;position: relative;}#sk-container-id-4 div.sk-item {position: relative;z-index: 1;}#sk-container-id-4 div.sk-parallel {display: flex;align-items: stretch;justify-content: center;background-color: white;position: relative;}#sk-container-id-4 div.sk-item::before, #sk-container-id-4 div.sk-parallel-item::before {content: \"\";position: absolute;border-left: 1px solid gray;box-sizing: border-box;top: 0;bottom: 0;left: 50%;z-index: -1;}#sk-container-id-4 div.sk-parallel-item {display: flex;flex-direction: column;z-index: 1;position: relative;background-color: white;}#sk-container-id-4 div.sk-parallel-item:first-child::after {align-self: flex-end;width: 50%;}#sk-container-id-4 div.sk-parallel-item:last-child::after {align-self: flex-start;width: 50%;}#sk-container-id-4 div.sk-parallel-item:only-child::after {width: 0;}#sk-container-id-4 div.sk-dashed-wrapped {border: 1px dashed gray;margin: 0 0.4em 0.5em 0.4em;box-sizing: border-box;padding-bottom: 0.4em;background-color: white;}#sk-container-id-4 div.sk-label label {font-family: monospace;font-weight: bold;display: inline-block;line-height: 1.2em;}#sk-container-id-4 div.sk-label-container {text-align: center;}#sk-container-id-4 div.sk-container {/* jupyter's `normalize.less` sets `[hidden] { display: none; }` but bootstrap.min.css set `[hidden] { display: none !important; }` so we also need the `!important` here to be able to override the default hidden behavior on the sphinx rendered scikit-learn.org. See: https://github.com/scikit-learn/scikit-learn/issues/21755 */display: inline-block !important;position: relative;}#sk-container-id-4 div.sk-text-repr-fallback {display: none;}</style><div id=\"sk-container-id-4\" class=\"sk-top-container\"><div class=\"sk-text-repr-fallback\"><pre>LGBMRegressor(max_depth=15, metric=&#x27;r2_score&#x27;, n_estimators=1000, num_leaves=25,\n",
       "              random_state=42)</pre><b>In a Jupyter environment, please rerun this cell to show the HTML representation or trust the notebook. <br />On GitHub, the HTML representation is unable to render, please try loading this page with nbviewer.org.</b></div><div class=\"sk-container\" hidden><div class=\"sk-item\"><div class=\"sk-estimator sk-toggleable\"><input class=\"sk-toggleable__control sk-hidden--visually\" id=\"sk-estimator-id-4\" type=\"checkbox\" checked><label for=\"sk-estimator-id-4\" class=\"sk-toggleable__label sk-toggleable__label-arrow\">LGBMRegressor</label><div class=\"sk-toggleable__content\"><pre>LGBMRegressor(max_depth=15, metric=&#x27;r2_score&#x27;, n_estimators=1000, num_leaves=25,\n",
       "              random_state=42)</pre></div></div></div></div></div>"
      ],
      "text/plain": [
       "LGBMRegressor(max_depth=15, metric='r2_score', n_estimators=1000, num_leaves=25,\n",
       "              random_state=42)"
      ]
     },
     "execution_count": 108,
     "metadata": {},
     "output_type": "execute_result"
    }
   ],
   "source": [
    "model = LGBMRegressor(**params)\n",
    "model.fit(X_train, y_train,\n",
    "          eval_set = [(X_train,y_train),(X_test,y_test)],\n",
    "          eval_metric='r2_score')"
   ]
  },
  {
   "cell_type": "code",
   "execution_count": 109,
   "id": "295d1299e76d77ae",
   "metadata": {
    "ExecuteTime": {
     "end_time": "2024-04-09T08:07:06.015660Z",
     "start_time": "2024-04-09T08:07:05.982158Z"
    }
   },
   "outputs": [
    {
     "data": {
      "text/plain": [
       "array([ 5.84034589,  5.05696435,  7.40440449, ..., 13.64518523,\n",
       "        6.77215069,  6.73620524])"
      ]
     },
     "execution_count": 109,
     "metadata": {},
     "output_type": "execute_result"
    }
   ],
   "source": [
    "pred_lgb = model.predict(X_test)\n",
    "pred_lgb"
   ]
  },
  {
   "cell_type": "code",
   "execution_count": 110,
   "id": "77ac0152b863fdb3",
   "metadata": {
    "ExecuteTime": {
     "end_time": "2024-04-09T08:07:06.027164Z",
     "start_time": "2024-04-09T08:07:06.017662Z"
    }
   },
   "outputs": [
    {
     "name": "stdout",
     "output_type": "stream",
     "text": [
      "mae: 1.4235175058903353 \n",
      "mse: 8.946507455128875 \n",
      "r2: 0.9272895671542589\n"
     ]
    }
   ],
   "source": [
    "print('mae:',mean_absolute_error(y_test,pred_lgb),'\\n'\n",
    "    'mse:',mean_squared_error(y_test,pred_lgb),'\\n'               'r2:',r2_score(y_test,pred_lgb))"
   ]
  },
  {
   "cell_type": "markdown",
   "id": "f14aa8a4",
   "metadata": {},
   "source": [
    "### LGBM模型更出色"
   ]
  },
  {
   "cell_type": "code",
   "execution_count": null,
   "id": "0ca32743",
   "metadata": {},
   "outputs": [],
   "source": []
  },
  {
   "cell_type": "markdown",
   "id": "6b0ad7868ab87bac",
   "metadata": {},
   "source": [
    "## 使用LGBM模型预测"
   ]
  },
  {
   "cell_type": "code",
   "execution_count": 122,
   "id": "a8281cdbf16fec2d",
   "metadata": {
    "ExecuteTime": {
     "end_time": "2024-04-09T14:57:39.707250Z",
     "start_time": "2024-04-09T14:57:39.701744Z"
    }
   },
   "outputs": [],
   "source": [
    "df_data = df1[~df1['Price'].isnull()] #~为非的意思，取不为空的数\n",
    "df_test = df1[df1['Price'].isnull()] #取Price为空的数"
   ]
  },
  {
   "cell_type": "code",
   "execution_count": 123,
   "id": "f05d5ffc99e2c053",
   "metadata": {
    "ExecuteTime": {
     "end_time": "2024-04-09T08:07:06.051668Z",
     "start_time": "2024-04-09T08:07:06.038165Z"
    }
   },
   "outputs": [
    {
     "name": "stdout",
     "output_type": "stream",
     "text": [
      "<class 'pandas.core.frame.DataFrame'>\n",
      "Index: 1233 entries, 0 to 1233\n",
      "Data columns (total 11 columns):\n",
      " #   Column             Non-Null Count  Dtype  \n",
      "---  ------             --------------  -----  \n",
      " 0   Location           1233 non-null   int32  \n",
      " 1   Year               1233 non-null   int64  \n",
      " 2   Kilometers_Driven  1233 non-null   int64  \n",
      " 3   Fuel_Type          1233 non-null   int32  \n",
      " 4   Transmission       1233 non-null   int32  \n",
      " 5   Owner_Type         1233 non-null   int32  \n",
      " 6   Mileage            1233 non-null   float64\n",
      " 7   Engine             1233 non-null   float64\n",
      " 8   Power              1233 non-null   float64\n",
      " 9   Seats              1233 non-null   float64\n",
      " 10  Price              0 non-null      float64\n",
      "dtypes: float64(5), int32(4), int64(2)\n",
      "memory usage: 96.3 KB\n"
     ]
    }
   ],
   "source": [
    "df_test.info()"
   ]
  },
  {
   "cell_type": "code",
   "execution_count": 124,
   "id": "3f70d03f60f16ae6",
   "metadata": {
    "ExecuteTime": {
     "end_time": "2024-04-09T14:57:44.333009Z",
     "start_time": "2024-04-09T14:57:44.328519Z"
    }
   },
   "outputs": [
    {
     "data": {
      "text/html": [
       "<div>\n",
       "<style scoped>\n",
       "    .dataframe tbody tr th:only-of-type {\n",
       "        vertical-align: middle;\n",
       "    }\n",
       "\n",
       "    .dataframe tbody tr th {\n",
       "        vertical-align: top;\n",
       "    }\n",
       "\n",
       "    .dataframe thead th {\n",
       "        text-align: right;\n",
       "    }\n",
       "</style>\n",
       "<table border=\"1\" class=\"dataframe\">\n",
       "  <thead>\n",
       "    <tr style=\"text-align: right;\">\n",
       "      <th></th>\n",
       "      <th>Location</th>\n",
       "      <th>Year</th>\n",
       "      <th>Kilometers_Driven</th>\n",
       "      <th>Fuel_Type</th>\n",
       "      <th>Transmission</th>\n",
       "      <th>Owner_Type</th>\n",
       "      <th>Mileage</th>\n",
       "      <th>Engine</th>\n",
       "      <th>Power</th>\n",
       "      <th>Seats</th>\n",
       "    </tr>\n",
       "  </thead>\n",
       "  <tbody>\n",
       "    <tr>\n",
       "      <th>0</th>\n",
       "      <td>4</td>\n",
       "      <td>2014</td>\n",
       "      <td>40929</td>\n",
       "      <td>0</td>\n",
       "      <td>1</td>\n",
       "      <td>0</td>\n",
       "      <td>32.26</td>\n",
       "      <td>998.0</td>\n",
       "      <td>58.20</td>\n",
       "      <td>4.0</td>\n",
       "    </tr>\n",
       "    <tr>\n",
       "      <th>1</th>\n",
       "      <td>3</td>\n",
       "      <td>2013</td>\n",
       "      <td>54493</td>\n",
       "      <td>4</td>\n",
       "      <td>1</td>\n",
       "      <td>2</td>\n",
       "      <td>24.70</td>\n",
       "      <td>796.0</td>\n",
       "      <td>47.30</td>\n",
       "      <td>5.0</td>\n",
       "    </tr>\n",
       "    <tr>\n",
       "      <th>2</th>\n",
       "      <td>9</td>\n",
       "      <td>2017</td>\n",
       "      <td>34000</td>\n",
       "      <td>1</td>\n",
       "      <td>1</td>\n",
       "      <td>0</td>\n",
       "      <td>13.68</td>\n",
       "      <td>2393.0</td>\n",
       "      <td>147.80</td>\n",
       "      <td>7.0</td>\n",
       "    </tr>\n",
       "    <tr>\n",
       "      <th>3</th>\n",
       "      <td>5</td>\n",
       "      <td>2012</td>\n",
       "      <td>139000</td>\n",
       "      <td>1</td>\n",
       "      <td>1</td>\n",
       "      <td>0</td>\n",
       "      <td>23.59</td>\n",
       "      <td>1364.0</td>\n",
       "      <td>94.00</td>\n",
       "      <td>5.0</td>\n",
       "    </tr>\n",
       "    <tr>\n",
       "      <th>4</th>\n",
       "      <td>9</td>\n",
       "      <td>2014</td>\n",
       "      <td>29000</td>\n",
       "      <td>4</td>\n",
       "      <td>1</td>\n",
       "      <td>0</td>\n",
       "      <td>18.50</td>\n",
       "      <td>1197.0</td>\n",
       "      <td>82.85</td>\n",
       "      <td>5.0</td>\n",
       "    </tr>\n",
       "    <tr>\n",
       "      <th>...</th>\n",
       "      <td>...</td>\n",
       "      <td>...</td>\n",
       "      <td>...</td>\n",
       "      <td>...</td>\n",
       "      <td>...</td>\n",
       "      <td>...</td>\n",
       "      <td>...</td>\n",
       "      <td>...</td>\n",
       "      <td>...</td>\n",
       "      <td>...</td>\n",
       "    </tr>\n",
       "    <tr>\n",
       "      <th>1229</th>\n",
       "      <td>5</td>\n",
       "      <td>2011</td>\n",
       "      <td>89411</td>\n",
       "      <td>1</td>\n",
       "      <td>1</td>\n",
       "      <td>0</td>\n",
       "      <td>20.54</td>\n",
       "      <td>1598.0</td>\n",
       "      <td>103.60</td>\n",
       "      <td>5.0</td>\n",
       "    </tr>\n",
       "    <tr>\n",
       "      <th>1230</th>\n",
       "      <td>9</td>\n",
       "      <td>2015</td>\n",
       "      <td>59000</td>\n",
       "      <td>4</td>\n",
       "      <td>0</td>\n",
       "      <td>0</td>\n",
       "      <td>17.21</td>\n",
       "      <td>1197.0</td>\n",
       "      <td>103.60</td>\n",
       "      <td>5.0</td>\n",
       "    </tr>\n",
       "    <tr>\n",
       "      <th>1231</th>\n",
       "      <td>8</td>\n",
       "      <td>2012</td>\n",
       "      <td>28000</td>\n",
       "      <td>1</td>\n",
       "      <td>1</td>\n",
       "      <td>0</td>\n",
       "      <td>23.08</td>\n",
       "      <td>1461.0</td>\n",
       "      <td>63.10</td>\n",
       "      <td>5.0</td>\n",
       "    </tr>\n",
       "    <tr>\n",
       "      <th>1232</th>\n",
       "      <td>10</td>\n",
       "      <td>2013</td>\n",
       "      <td>52262</td>\n",
       "      <td>4</td>\n",
       "      <td>0</td>\n",
       "      <td>3</td>\n",
       "      <td>17.20</td>\n",
       "      <td>1197.0</td>\n",
       "      <td>103.60</td>\n",
       "      <td>5.0</td>\n",
       "    </tr>\n",
       "    <tr>\n",
       "      <th>1233</th>\n",
       "      <td>7</td>\n",
       "      <td>2014</td>\n",
       "      <td>72443</td>\n",
       "      <td>1</td>\n",
       "      <td>0</td>\n",
       "      <td>0</td>\n",
       "      <td>10.00</td>\n",
       "      <td>2148.0</td>\n",
       "      <td>170.00</td>\n",
       "      <td>5.0</td>\n",
       "    </tr>\n",
       "  </tbody>\n",
       "</table>\n",
       "<p>1233 rows × 10 columns</p>\n",
       "</div>"
      ],
      "text/plain": [
       "      Location  Year  Kilometers_Driven  Fuel_Type  Transmission  Owner_Type  \\\n",
       "0            4  2014              40929          0             1           0   \n",
       "1            3  2013              54493          4             1           2   \n",
       "2            9  2017              34000          1             1           0   \n",
       "3            5  2012             139000          1             1           0   \n",
       "4            9  2014              29000          4             1           0   \n",
       "...        ...   ...                ...        ...           ...         ...   \n",
       "1229         5  2011              89411          1             1           0   \n",
       "1230         9  2015              59000          4             0           0   \n",
       "1231         8  2012              28000          1             1           0   \n",
       "1232        10  2013              52262          4             0           3   \n",
       "1233         7  2014              72443          1             0           0   \n",
       "\n",
       "      Mileage  Engine   Power  Seats  \n",
       "0       32.26   998.0   58.20    4.0  \n",
       "1       24.70   796.0   47.30    5.0  \n",
       "2       13.68  2393.0  147.80    7.0  \n",
       "3       23.59  1364.0   94.00    5.0  \n",
       "4       18.50  1197.0   82.85    5.0  \n",
       "...       ...     ...     ...    ...  \n",
       "1229    20.54  1598.0  103.60    5.0  \n",
       "1230    17.21  1197.0  103.60    5.0  \n",
       "1231    23.08  1461.0   63.10    5.0  \n",
       "1232    17.20  1197.0  103.60    5.0  \n",
       "1233    10.00  2148.0  170.00    5.0  \n",
       "\n",
       "[1233 rows x 10 columns]"
      ]
     },
     "execution_count": 124,
     "metadata": {},
     "output_type": "execute_result"
    }
   ],
   "source": [
    "df_test1 = df_test.iloc[:,:-1]\n",
    "df_test1"
   ]
  },
  {
   "cell_type": "code",
   "execution_count": 125,
   "id": "67548fa5cb222f18",
   "metadata": {
    "ExecuteTime": {
     "end_time": "2024-04-09T14:57:54.997949Z",
     "start_time": "2024-04-09T14:57:54.989424Z"
    }
   },
   "outputs": [
    {
     "data": {
      "text/plain": [
       "array([[-0.53785126,  0.18781496, -0.4939451 , ..., -1.05822099,\n",
       "        -1.01595011, -1.55928079],\n",
       "       [-0.86729517, -0.12682614, -0.11291481, ..., -1.41757465,\n",
       "        -1.22994131, -0.3432193 ],\n",
       "       [ 1.10936832,  1.13173827, -0.68858967, ...,  1.42345408,\n",
       "         0.74309681,  2.08890368],\n",
       "       ...,\n",
       "       [ 0.7799244 , -0.44146724, -0.85713743, ..., -0.23455392,\n",
       "        -0.91975224, -0.3432193 ],\n",
       "       [ 1.43881223, -0.12682614, -0.17558648, ..., -0.70420426,\n",
       "        -0.12464732, -0.3432193 ],\n",
       "       [ 0.45048049,  0.18781496,  0.3913239 , ...,  0.98760434,\n",
       "         1.17893209, -0.3432193 ]])"
      ]
     },
     "execution_count": 125,
     "metadata": {},
     "output_type": "execute_result"
    }
   ],
   "source": [
    "#标准化\n",
    "st2 = StandardScaler()\n",
    "st2.fit(df_test1)\n",
    "df_test1 = st2.transform(df_test1)\n",
    "df_test1"
   ]
  },
  {
   "cell_type": "code",
   "execution_count": 126,
   "id": "7885a0d6868e84a4",
   "metadata": {
    "ExecuteTime": {
     "end_time": "2024-04-09T08:07:06.138182Z",
     "start_time": "2024-04-09T08:07:06.109177Z"
    }
   },
   "outputs": [],
   "source": [
    "y_pred = model.predict(df_test1)"
   ]
  },
  {
   "cell_type": "code",
   "execution_count": 127,
   "id": "f8c07a2b2223d8b1",
   "metadata": {
    "ExecuteTime": {
     "end_time": "2024-04-09T08:07:06.146685Z",
     "start_time": "2024-04-09T08:07:06.139682Z"
    }
   },
   "outputs": [
    {
     "data": {
      "text/plain": [
       "((1233,), (1233, 10))"
      ]
     },
     "execution_count": 127,
     "metadata": {},
     "output_type": "execute_result"
    }
   ],
   "source": [
    "y_pred.shape,df_test1.shape"
   ]
  },
  {
   "cell_type": "code",
   "execution_count": 128,
   "id": "8f45121518b841a5",
   "metadata": {
    "ExecuteTime": {
     "end_time": "2024-04-09T08:07:06.368724Z",
     "start_time": "2024-04-09T08:07:06.362221Z"
    }
   },
   "outputs": [
    {
     "data": {
      "text/plain": [
       "array([[-0.53785126,  0.18781496, -0.4939451 , ..., -1.05822099,\n",
       "        -1.01595011, -1.55928079],\n",
       "       [-0.86729517, -0.12682614, -0.11291481, ..., -1.41757465,\n",
       "        -1.22994131, -0.3432193 ],\n",
       "       [ 1.10936832,  1.13173827, -0.68858967, ...,  1.42345408,\n",
       "         0.74309681,  2.08890368],\n",
       "       ...,\n",
       "       [ 0.7799244 , -0.44146724, -0.85713743, ..., -0.23455392,\n",
       "        -0.91975224, -0.3432193 ],\n",
       "       [ 1.43881223, -0.12682614, -0.17558648, ..., -0.70420426,\n",
       "        -0.12464732, -0.3432193 ],\n",
       "       [ 0.45048049,  0.18781496,  0.3913239 , ...,  0.98760434,\n",
       "         1.17893209, -0.3432193 ]])"
      ]
     },
     "execution_count": 128,
     "metadata": {},
     "output_type": "execute_result"
    }
   ],
   "source": [
    "df_test1"
   ]
  },
  {
   "cell_type": "code",
   "execution_count": 129,
   "id": "f25844f4e9ee2dc2",
   "metadata": {
    "ExecuteTime": {
     "end_time": "2024-04-09T08:07:07.101855Z",
     "start_time": "2024-04-09T08:07:07.080347Z"
    }
   },
   "outputs": [
    {
     "data": {
      "text/html": [
       "<div>\n",
       "<style scoped>\n",
       "    .dataframe tbody tr th:only-of-type {\n",
       "        vertical-align: middle;\n",
       "    }\n",
       "\n",
       "    .dataframe tbody tr th {\n",
       "        vertical-align: top;\n",
       "    }\n",
       "\n",
       "    .dataframe thead th {\n",
       "        text-align: right;\n",
       "    }\n",
       "</style>\n",
       "<table border=\"1\" class=\"dataframe\">\n",
       "  <thead>\n",
       "    <tr style=\"text-align: right;\">\n",
       "      <th></th>\n",
       "      <th>Location</th>\n",
       "      <th>Year</th>\n",
       "      <th>Kilometers_Driven</th>\n",
       "      <th>Fuel_Type</th>\n",
       "      <th>Transmission</th>\n",
       "      <th>Owner_Type</th>\n",
       "      <th>Mileage</th>\n",
       "      <th>Engine</th>\n",
       "      <th>Power</th>\n",
       "      <th>Seats</th>\n",
       "      <th>Price</th>\n",
       "      <th>Predict_Price</th>\n",
       "    </tr>\n",
       "  </thead>\n",
       "  <tbody>\n",
       "    <tr>\n",
       "      <th>0</th>\n",
       "      <td>4</td>\n",
       "      <td>2014</td>\n",
       "      <td>40929</td>\n",
       "      <td>0</td>\n",
       "      <td>1</td>\n",
       "      <td>0</td>\n",
       "      <td>32.26</td>\n",
       "      <td>998.0</td>\n",
       "      <td>58.20</td>\n",
       "      <td>4.0</td>\n",
       "      <td>NaN</td>\n",
       "      <td>1.551364</td>\n",
       "    </tr>\n",
       "    <tr>\n",
       "      <th>1</th>\n",
       "      <td>3</td>\n",
       "      <td>2013</td>\n",
       "      <td>54493</td>\n",
       "      <td>4</td>\n",
       "      <td>1</td>\n",
       "      <td>2</td>\n",
       "      <td>24.70</td>\n",
       "      <td>796.0</td>\n",
       "      <td>47.30</td>\n",
       "      <td>5.0</td>\n",
       "      <td>NaN</td>\n",
       "      <td>2.528926</td>\n",
       "    </tr>\n",
       "    <tr>\n",
       "      <th>2</th>\n",
       "      <td>9</td>\n",
       "      <td>2017</td>\n",
       "      <td>34000</td>\n",
       "      <td>1</td>\n",
       "      <td>1</td>\n",
       "      <td>0</td>\n",
       "      <td>13.68</td>\n",
       "      <td>2393.0</td>\n",
       "      <td>147.80</td>\n",
       "      <td>7.0</td>\n",
       "      <td>NaN</td>\n",
       "      <td>18.755669</td>\n",
       "    </tr>\n",
       "    <tr>\n",
       "      <th>3</th>\n",
       "      <td>5</td>\n",
       "      <td>2012</td>\n",
       "      <td>139000</td>\n",
       "      <td>1</td>\n",
       "      <td>1</td>\n",
       "      <td>0</td>\n",
       "      <td>23.59</td>\n",
       "      <td>1364.0</td>\n",
       "      <td>94.00</td>\n",
       "      <td>5.0</td>\n",
       "      <td>NaN</td>\n",
       "      <td>4.852536</td>\n",
       "    </tr>\n",
       "    <tr>\n",
       "      <th>4</th>\n",
       "      <td>9</td>\n",
       "      <td>2014</td>\n",
       "      <td>29000</td>\n",
       "      <td>4</td>\n",
       "      <td>1</td>\n",
       "      <td>0</td>\n",
       "      <td>18.50</td>\n",
       "      <td>1197.0</td>\n",
       "      <td>82.85</td>\n",
       "      <td>5.0</td>\n",
       "      <td>NaN</td>\n",
       "      <td>4.416079</td>\n",
       "    </tr>\n",
       "    <tr>\n",
       "      <th>...</th>\n",
       "      <td>...</td>\n",
       "      <td>...</td>\n",
       "      <td>...</td>\n",
       "      <td>...</td>\n",
       "      <td>...</td>\n",
       "      <td>...</td>\n",
       "      <td>...</td>\n",
       "      <td>...</td>\n",
       "      <td>...</td>\n",
       "      <td>...</td>\n",
       "      <td>...</td>\n",
       "      <td>...</td>\n",
       "    </tr>\n",
       "    <tr>\n",
       "      <th>1229</th>\n",
       "      <td>5</td>\n",
       "      <td>2011</td>\n",
       "      <td>89411</td>\n",
       "      <td>1</td>\n",
       "      <td>1</td>\n",
       "      <td>0</td>\n",
       "      <td>20.54</td>\n",
       "      <td>1598.0</td>\n",
       "      <td>103.60</td>\n",
       "      <td>5.0</td>\n",
       "      <td>NaN</td>\n",
       "      <td>4.331426</td>\n",
       "    </tr>\n",
       "    <tr>\n",
       "      <th>1230</th>\n",
       "      <td>9</td>\n",
       "      <td>2015</td>\n",
       "      <td>59000</td>\n",
       "      <td>4</td>\n",
       "      <td>0</td>\n",
       "      <td>0</td>\n",
       "      <td>17.21</td>\n",
       "      <td>1197.0</td>\n",
       "      <td>103.60</td>\n",
       "      <td>5.0</td>\n",
       "      <td>NaN</td>\n",
       "      <td>6.501798</td>\n",
       "    </tr>\n",
       "    <tr>\n",
       "      <th>1231</th>\n",
       "      <td>8</td>\n",
       "      <td>2012</td>\n",
       "      <td>28000</td>\n",
       "      <td>1</td>\n",
       "      <td>1</td>\n",
       "      <td>0</td>\n",
       "      <td>23.08</td>\n",
       "      <td>1461.0</td>\n",
       "      <td>63.10</td>\n",
       "      <td>5.0</td>\n",
       "      <td>NaN</td>\n",
       "      <td>4.276534</td>\n",
       "    </tr>\n",
       "    <tr>\n",
       "      <th>1232</th>\n",
       "      <td>10</td>\n",
       "      <td>2013</td>\n",
       "      <td>52262</td>\n",
       "      <td>4</td>\n",
       "      <td>0</td>\n",
       "      <td>3</td>\n",
       "      <td>17.20</td>\n",
       "      <td>1197.0</td>\n",
       "      <td>103.60</td>\n",
       "      <td>5.0</td>\n",
       "      <td>NaN</td>\n",
       "      <td>5.068215</td>\n",
       "    </tr>\n",
       "    <tr>\n",
       "      <th>1233</th>\n",
       "      <td>7</td>\n",
       "      <td>2014</td>\n",
       "      <td>72443</td>\n",
       "      <td>1</td>\n",
       "      <td>0</td>\n",
       "      <td>0</td>\n",
       "      <td>10.00</td>\n",
       "      <td>2148.0</td>\n",
       "      <td>170.00</td>\n",
       "      <td>5.0</td>\n",
       "      <td>NaN</td>\n",
       "      <td>22.021755</td>\n",
       "    </tr>\n",
       "  </tbody>\n",
       "</table>\n",
       "<p>1233 rows × 12 columns</p>\n",
       "</div>"
      ],
      "text/plain": [
       "      Location  Year  Kilometers_Driven  Fuel_Type  Transmission  Owner_Type  \\\n",
       "0            4  2014              40929          0             1           0   \n",
       "1            3  2013              54493          4             1           2   \n",
       "2            9  2017              34000          1             1           0   \n",
       "3            5  2012             139000          1             1           0   \n",
       "4            9  2014              29000          4             1           0   \n",
       "...        ...   ...                ...        ...           ...         ...   \n",
       "1229         5  2011              89411          1             1           0   \n",
       "1230         9  2015              59000          4             0           0   \n",
       "1231         8  2012              28000          1             1           0   \n",
       "1232        10  2013              52262          4             0           3   \n",
       "1233         7  2014              72443          1             0           0   \n",
       "\n",
       "      Mileage  Engine   Power  Seats  Price  Predict_Price  \n",
       "0       32.26   998.0   58.20    4.0    NaN       1.551364  \n",
       "1       24.70   796.0   47.30    5.0    NaN       2.528926  \n",
       "2       13.68  2393.0  147.80    7.0    NaN      18.755669  \n",
       "3       23.59  1364.0   94.00    5.0    NaN       4.852536  \n",
       "4       18.50  1197.0   82.85    5.0    NaN       4.416079  \n",
       "...       ...     ...     ...    ...    ...            ...  \n",
       "1229    20.54  1598.0  103.60    5.0    NaN       4.331426  \n",
       "1230    17.21  1197.0  103.60    5.0    NaN       6.501798  \n",
       "1231    23.08  1461.0   63.10    5.0    NaN       4.276534  \n",
       "1232    17.20  1197.0  103.60    5.0    NaN       5.068215  \n",
       "1233    10.00  2148.0  170.00    5.0    NaN      22.021755  \n",
       "\n",
       "[1233 rows x 12 columns]"
      ]
     },
     "execution_count": 129,
     "metadata": {},
     "output_type": "execute_result"
    }
   ],
   "source": [
    "df_test['Predict_Price'] = y_pred\n",
    "df_test"
   ]
  },
  {
   "cell_type": "code",
   "execution_count": 130,
   "id": "9e54d30477040625",
   "metadata": {
    "ExecuteTime": {
     "end_time": "2024-04-09T08:07:08.603116Z",
     "start_time": "2024-04-09T08:07:07.763468Z"
    }
   },
   "outputs": [
    {
     "data": {
      "text/plain": [
       "<Figure size 1500x1000 with 0 Axes>"
      ]
     },
     "metadata": {},
     "output_type": "display_data"
    },
    {
     "data": {
      "image/png": "[encoded data removed]",
      "text/plain": [
       "<Figure size 1200x600 with 1 Axes>"
      ]
     },
     "metadata": {},
     "output_type": "display_data"
    }
   ],
   "source": [
    "plt.figure(figsize=(15,10))\n",
    "sns.catplot(data=df_test,x = 'Year',y = 'Predict_Price',height=6,aspect=2,palette='husl',hue='Year')\n",
    "plt.show()"
   ]
  }
 ],
 "metadata": {
  "kernelspec": {
   "display_name": "Python 3 (ipykernel)",
   "language": "python",
   "name": "python3"
  },
  "language_info": {
   "codemirror_mode": {
    "name": "ipython",
    "version": 3
   },
   "file_extension": ".py",
   "mimetype": "text/x-python",
   "name": "python",
   "nbconvert_exporter": "python",
   "pygments_lexer": "ipython3",
   "version": "3.11.5"
  }
 },
 "nbformat": 4,
 "nbformat_minor": 5
}
